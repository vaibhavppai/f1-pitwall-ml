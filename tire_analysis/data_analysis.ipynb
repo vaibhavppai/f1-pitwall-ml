{
 "cells": [
  {
   "cell_type": "code",
   "execution_count": 21,
   "id": "94cb5ce6",
   "metadata": {},
   "outputs": [],
   "source": [
    "import os\n",
    "import fastf1\n",
    "import fastf1.plotting\n",
    "import matplotlib.pyplot as plt\n",
    "import pandas as pd\n",
    "import numpy as np\n",
    "from tqdm import tqdm\n",
    "from sklearn.model_selection import train_test_split\n",
    "import xgboost as xgb\n",
    "from xgboost import XGBClassifier\n",
    "\n",
    "# Create cache directory\n",
    "os.makedirs(\"cache\", exist_ok=True)\n",
    "fastf1.Cache.enable_cache(\"cache\")\n"
   ]
  },
  {
   "cell_type": "code",
   "execution_count": 2,
   "id": "51464e35",
   "metadata": {},
   "outputs": [
    {
     "name": "stderr",
     "output_type": "stream",
     "text": [
      "core           INFO \tLoading data for Australian Grand Prix - Race [v3.5.3]\n",
      "req            INFO \tNo cached data found for session_info. Loading data...\n",
      "_api           INFO \tFetching session info data...\n"
     ]
    },
    {
     "name": "stdout",
     "output_type": "stream",
     "text": [
      "2015 1\n"
     ]
    },
    {
     "name": "stderr",
     "output_type": "stream",
     "text": [
      "logger      WARNING \tFailed to load session info data!\n",
      "core        WARNING \tCannot load laps, telemetry, weather, and message data because the relevant API is not supported for this session.\n",
      "core           INFO \tFinished loading data for 18 drivers: ['44', '6', '5', '19', '12', '3', '27', '9', '55', '11', '22', '7', '33', '8', '13', '26', '20', '77']\n",
      "core           INFO \tLoading data for Malaysian Grand Prix - Race [v3.5.3]\n",
      "req            INFO \tNo cached data found for session_info. Loading data...\n",
      "_api           INFO \tFetching session info data...\n"
     ]
    },
    {
     "name": "stdout",
     "output_type": "stream",
     "text": [
      "2015 2\n"
     ]
    },
    {
     "name": "stderr",
     "output_type": "stream",
     "text": [
      "logger      WARNING \tFailed to load session info data!\n",
      "core        WARNING \tCannot load laps, telemetry, weather, and message data because the relevant API is not supported for this session.\n",
      "core           INFO \tFinished loading data for 20 drivers: ['5', '44', '6', '7', '77', '19', '33', '55', '26', '3', '8', '12', '11', '27', '98', '13', '22', '14', '9', '28']\n",
      "core           INFO \tLoading data for Chinese Grand Prix - Race [v3.5.3]\n",
      "req            INFO \tNo cached data found for session_info. Loading data...\n",
      "_api           INFO \tFetching session info data...\n"
     ]
    },
    {
     "name": "stdout",
     "output_type": "stream",
     "text": [
      "2015 3\n"
     ]
    },
    {
     "name": "stderr",
     "output_type": "stream",
     "text": [
      "logger      WARNING \tFailed to load session info data!\n",
      "core        WARNING \tCannot load laps, telemetry, weather, and message data because the relevant API is not supported for this session.\n",
      "core           INFO \tFinished loading data for 20 drivers: ['44', '6', '5', '7', '19', '77', '8', '12', '3', '9', '11', '14', '55', '22', '28', '98', '33', '13', '26', '27']\n",
      "core           INFO \tLoading data for Bahrain Grand Prix - Race [v3.5.3]\n",
      "req            INFO \tNo cached data found for session_info. Loading data...\n",
      "_api           INFO \tFetching session info data...\n"
     ]
    },
    {
     "name": "stdout",
     "output_type": "stream",
     "text": [
      "2015 4\n"
     ]
    },
    {
     "name": "stderr",
     "output_type": "stream",
     "text": [
      "logger      WARNING \tFailed to load session info data!\n",
      "core        WARNING \tCannot load laps, telemetry, weather, and message data because the relevant API is not supported for this session.\n",
      "core           INFO \tFinished loading data for 20 drivers: ['44', '7', '6', '77', '5', '3', '8', '11', '26', '19', '14', '12', '27', '9', '13', '28', '98', '33', '55', '22']\n",
      "core           INFO \tLoading data for Spanish Grand Prix - Race [v3.5.3]\n",
      "req            INFO \tNo cached data found for session_info. Loading data...\n",
      "_api           INFO \tFetching session info data...\n"
     ]
    },
    {
     "name": "stdout",
     "output_type": "stream",
     "text": [
      "2015 5\n"
     ]
    },
    {
     "name": "stderr",
     "output_type": "stream",
     "text": [
      "logger      WARNING \tFailed to load session info data!\n",
      "core        WARNING \tCannot load laps, telemetry, weather, and message data because the relevant API is not supported for this session.\n",
      "core           INFO \tFinished loading data for 20 drivers: ['6', '44', '5', '77', '7', '19', '3', '8', '55', '26', '33', '12', '11', '9', '27', '22', '28', '98', '13', '14']\n",
      "core           INFO \tLoading data for Monaco Grand Prix - Race [v3.5.3]\n",
      "req            INFO \tNo cached data found for session_info. Loading data...\n",
      "_api           INFO \tFetching session info data...\n"
     ]
    },
    {
     "name": "stdout",
     "output_type": "stream",
     "text": [
      "2015 6\n"
     ]
    },
    {
     "name": "stderr",
     "output_type": "stream",
     "text": [
      "logger      WARNING \tFailed to load session info data!\n",
      "core        WARNING \tCannot load laps, telemetry, weather, and message data because the relevant API is not supported for this session.\n",
      "core           INFO \tFinished loading data for 20 drivers: ['6', '5', '44', '26', '3', '7', '11', '22', '12', '55', '27', '8', '9', '77', '19', '98', '28', '33', '14', '13']\n",
      "core           INFO \tLoading data for Canadian Grand Prix - Race [v3.5.3]\n",
      "req            INFO \tNo cached data found for session_info. Loading data...\n",
      "_api           INFO \tFetching session info data...\n"
     ]
    },
    {
     "name": "stdout",
     "output_type": "stream",
     "text": [
      "2015 7\n"
     ]
    },
    {
     "name": "stderr",
     "output_type": "stream",
     "text": [
      "logger      WARNING \tFailed to load session info data!\n",
      "core        WARNING \tCannot load laps, telemetry, weather, and message data because the relevant API is not supported for this session.\n",
      "core           INFO \tFinished loading data for 20 drivers: ['44', '6', '77', '7', '5', '19', '13', '27', '26', '8', '11', '55', '3', '9', '33', '12', '28', '98', '22', '14']\n",
      "core           INFO \tLoading data for Austrian Grand Prix - Race [v3.5.3]\n",
      "req            INFO \tNo cached data found for session_info. Loading data...\n",
      "_api           INFO \tFetching session info data...\n"
     ]
    },
    {
     "name": "stdout",
     "output_type": "stream",
     "text": [
      "2015 8\n"
     ]
    },
    {
     "name": "stderr",
     "output_type": "stream",
     "text": [
      "logger      WARNING \tFailed to load session info data!\n",
      "core        WARNING \tCannot load laps, telemetry, weather, and message data because the relevant API is not supported for this session.\n",
      "core           INFO \tFinished loading data for 20 drivers: ['6', '44', '19', '5', '77', '27', '13', '33', '11', '3', '12', '26', '9', '98', '8', '55', '22', '28', '7', '14']\n",
      "core           INFO \tLoading data for British Grand Prix - Race [v3.5.3]\n",
      "req            INFO \tNo cached data found for session_info. Loading data...\n",
      "_api           INFO \tFetching session info data...\n"
     ]
    },
    {
     "name": "stdout",
     "output_type": "stream",
     "text": [
      "2015 9\n"
     ]
    },
    {
     "name": "stderr",
     "output_type": "stream",
     "text": [
      "logger      WARNING \tFailed to load session info data!\n",
      "core        WARNING \tCannot load laps, telemetry, weather, and message data because the relevant API is not supported for this session.\n",
      "core           INFO \tFinished loading data for 20 drivers: ['44', '6', '5', '19', '77', '26', '27', '7', '11', '14', '9', '98', '28', '55', '3', '33', '8', '13', '22', '12']\n",
      "core           INFO \tLoading data for Hungarian Grand Prix - Race [v3.5.3]\n",
      "req            INFO \tNo cached data found for session_info. Loading data...\n",
      "_api           INFO \tFetching session info data...\n"
     ]
    },
    {
     "name": "stdout",
     "output_type": "stream",
     "text": [
      "2015 10\n"
     ]
    },
    {
     "name": "stderr",
     "output_type": "stream",
     "text": [
      "logger      WARNING \tFailed to load session info data!\n",
      "core        WARNING \tCannot load laps, telemetry, weather, and message data because the relevant API is not supported for this session.\n",
      "core           INFO \tFinished loading data for 20 drivers: ['5', '26', '3', '33', '14', '44', '8', '6', '22', '9', '12', '19', '77', '13', '98', '28', '55', '7', '11', '27']\n",
      "core           INFO \tLoading data for Belgian Grand Prix - Race [v3.5.3]\n",
      "req            INFO \tNo cached data found for session_info. Loading data...\n",
      "_api           INFO \tFetching session info data...\n"
     ]
    },
    {
     "name": "stdout",
     "output_type": "stream",
     "text": [
      "2015 11\n"
     ]
    },
    {
     "name": "stderr",
     "output_type": "stream",
     "text": [
      "logger      WARNING \tFailed to load session info data!\n",
      "core        WARNING \tCannot load laps, telemetry, weather, and message data because the relevant API is not supported for this session.\n",
      "core           INFO \tFinished loading data for 20 drivers: ['44', '6', '8', '26', '11', '19', '7', '33', '77', '9', '12', '5', '14', '22', '98', '28', '55', '3', '13', '27']\n",
      "core           INFO \tLoading data for Italian Grand Prix - Race [v3.5.3]\n",
      "req            INFO \tNo cached data found for session_info. Loading data...\n",
      "_api           INFO \tFetching session info data...\n"
     ]
    },
    {
     "name": "stdout",
     "output_type": "stream",
     "text": [
      "2015 12\n"
     ]
    },
    {
     "name": "stderr",
     "output_type": "stream",
     "text": [
      "logger      WARNING \tFailed to load session info data!\n",
      "core        WARNING \tCannot load laps, telemetry, weather, and message data because the relevant API is not supported for this session.\n",
      "core           INFO \tFinished loading data for 20 drivers: ['44', '5', '19', '77', '7', '11', '27', '3', '9', '26', '55', '33', '12', '22', '28', '98', '6', '14', '8', '13']\n",
      "core           INFO \tLoading data for Singapore Grand Prix - Race [v3.5.3]\n",
      "req            INFO \tNo cached data found for session_info. Loading data...\n",
      "_api           INFO \tFetching session info data...\n"
     ]
    },
    {
     "name": "stdout",
     "output_type": "stream",
     "text": [
      "2015 13\n"
     ]
    },
    {
     "name": "stderr",
     "output_type": "stream",
     "text": [
      "logger      WARNING \tFailed to load session info data!\n",
      "core        WARNING \tCannot load laps, telemetry, weather, and message data because the relevant API is not supported for this session.\n",
      "core           INFO \tFinished loading data for 20 drivers: ['5', '3', '7', '6', '77', '26', '11', '33', '55', '12', '9', '13', '8', '53', '28', '22', '14', '44', '19', '27']\n",
      "core           INFO \tLoading data for Japanese Grand Prix - Race [v3.5.3]\n",
      "req            INFO \tNo cached data found for session_info. Loading data...\n",
      "_api           INFO \tFetching session info data...\n"
     ]
    },
    {
     "name": "stdout",
     "output_type": "stream",
     "text": [
      "2015 14\n"
     ]
    },
    {
     "name": "stderr",
     "output_type": "stream",
     "text": [
      "logger      WARNING \tFailed to load session info data!\n",
      "core        WARNING \tCannot load laps, telemetry, weather, and message data because the relevant API is not supported for this session.\n",
      "core           INFO \tFinished loading data for 20 drivers: ['44', '6', '5', '7', '77', '27', '8', '13', '33', '55', '14', '11', '26', '9', '3', '22', '19', '53', '28', '12']\n",
      "core           INFO \tLoading data for Russian Grand Prix - Race [v3.5.3]\n",
      "req            INFO \tNo cached data found for session_info. Loading data...\n",
      "_api           INFO \tFetching session info data...\n"
     ]
    },
    {
     "name": "stdout",
     "output_type": "stream",
     "text": [
      "2015 15\n"
     ]
    },
    {
     "name": "stderr",
     "output_type": "stream",
     "text": [
      "logger      WARNING \tFailed to load session info data!\n",
      "core        WARNING \tCannot load laps, telemetry, weather, and message data because the relevant API is not supported for this session.\n",
      "core           INFO \tFinished loading data for 20 drivers: ['44', '5', '11', '19', '26', '12', '13', '7', '22', '33', '14', '77', '98', '28', '3', '55', '8', '6', '27', '9']\n",
      "core           INFO \tLoading data for United States Grand Prix - Race [v3.5.3]\n",
      "req            INFO \tNo cached data found for session_info. Loading data...\n",
      "_api           INFO \tFetching session info data...\n"
     ]
    },
    {
     "name": "stdout",
     "output_type": "stream",
     "text": [
      "2015 16\n"
     ]
    },
    {
     "name": "stderr",
     "output_type": "stream",
     "text": [
      "logger      WARNING \tFailed to load session info data!\n",
      "core        WARNING \tCannot load laps, telemetry, weather, and message data because the relevant API is not supported for this session.\n",
      "core           INFO \tFinished loading data for 20 drivers: ['44', '6', '5', '33', '11', '22', '55', '13', '12', '3', '14', '53', '26', '27', '9', '7', '19', '8', '77', '28']\n",
      "core           INFO \tLoading data for Mexican Grand Prix - Race [v3.5.3]\n",
      "req            INFO \tNo cached data found for session_info. Loading data...\n",
      "_api           INFO \tFetching session info data...\n"
     ]
    },
    {
     "name": "stdout",
     "output_type": "stream",
     "text": [
      "2015 17\n"
     ]
    },
    {
     "name": "stderr",
     "output_type": "stream",
     "text": [
      "logger      WARNING \tFailed to load session info data!\n",
      "core        WARNING \tCannot load laps, telemetry, weather, and message data because the relevant API is not supported for this session.\n",
      "core           INFO \tFinished loading data for 20 drivers: ['6', '44', '77', '26', '3', '19', '27', '11', '33', '8', '13', '9', '55', '22', '53', '28', '12', '5', '7', '14']\n",
      "core           INFO \tLoading data for Brazilian Grand Prix - Race [v3.5.3]\n",
      "req            INFO \tNo cached data found for session_info. Loading data...\n",
      "_api           INFO \tFetching session info data...\n"
     ]
    },
    {
     "name": "stdout",
     "output_type": "stream",
     "text": [
      "2015 18\n"
     ]
    },
    {
     "name": "stderr",
     "output_type": "stream",
     "text": [
      "logger      WARNING \tFailed to load session info data!\n",
      "core        WARNING \tCannot load laps, telemetry, weather, and message data because the relevant API is not supported for this session.\n",
      "core           INFO \tFinished loading data for 20 drivers: ['6', '44', '5', '7', '77', '27', '26', '8', '33', '13', '3', '11', '12', '22', '14', '9', '28', '53', '55', '19']\n",
      "core           INFO \tLoading data for Australian Grand Prix - Race [v3.5.3]\n",
      "req            INFO \tNo cached data found for session_info. Loading data...\n",
      "_api           INFO \tFetching session info data...\n"
     ]
    },
    {
     "name": "stdout",
     "output_type": "stream",
     "text": [
      "2016 1\n"
     ]
    },
    {
     "name": "stderr",
     "output_type": "stream",
     "text": [
      "logger      WARNING \tFailed to load session info data!\n",
      "core        WARNING \tCannot load laps, telemetry, weather, and message data because the relevant API is not supported for this session.\n",
      "core           INFO \tFinished loading data for 22 drivers: ['6', '44', '5', '3', '19', '8', '27', '77', '55', '33', '30', '20', '11', '22', '12', '94', '9', '7', '88', '21', '14', '26']\n",
      "core           INFO \tLoading data for Bahrain Grand Prix - Race [v3.5.3]\n",
      "req            INFO \tNo cached data found for session_info. Loading data...\n",
      "_api           INFO \tFetching session info data...\n"
     ]
    },
    {
     "name": "stdout",
     "output_type": "stream",
     "text": [
      "2016 2\n"
     ]
    },
    {
     "name": "stderr",
     "output_type": "stream",
     "text": [
      "logger      WARNING \tFailed to load session info data!\n",
      "core        WARNING \tCannot load laps, telemetry, weather, and message data because the relevant API is not supported for this session.\n",
      "core           INFO \tFinished loading data for 22 drivers: ['6', '7', '44', '3', '8', '33', '26', '19', '77', '47', '20', '9', '94', '12', '27', '11', '88', '55', '21', '22', '5', '30']\n",
      "core           INFO \tLoading data for Chinese Grand Prix - Race [v3.5.3]\n",
      "req            INFO \tNo cached data found for session_info. Loading data...\n",
      "_api           INFO \tFetching session info data...\n"
     ]
    },
    {
     "name": "stdout",
     "output_type": "stream",
     "text": [
      "2016 3\n"
     ]
    },
    {
     "name": "stderr",
     "output_type": "stream",
     "text": [
      "logger      WARNING \tFailed to load session info data!\n",
      "core        WARNING \tCannot load laps, telemetry, weather, and message data because the relevant API is not supported for this session.\n",
      "core           INFO \tFinished loading data for 22 drivers: ['6', '5', '26', '3', '7', '19', '44', '33', '55', '77', '11', '14', '22', '21', '27', '9', '20', '94', '8', '12', '88', '30']\n",
      "core           INFO \tLoading data for Russian Grand Prix - Race [v3.5.3]\n",
      "req            INFO \tNo cached data found for session_info. Loading data...\n",
      "_api           INFO \tFetching session info data...\n"
     ]
    },
    {
     "name": "stdout",
     "output_type": "stream",
     "text": [
      "2016 4\n"
     ]
    },
    {
     "name": "stderr",
     "output_type": "stream",
     "text": [
      "logger      WARNING \tFailed to load session info data!\n",
      "core        WARNING \tCannot load laps, telemetry, weather, and message data because the relevant API is not supported for this session.\n",
      "core           INFO \tFinished loading data for 22 drivers: ['6', '44', '7', '77', '19', '14', '20', '8', '11', '22', '3', '55', '30', '9', '26', '12', '21', '94', '33', '5', '27', '88']\n",
      "core           INFO \tLoading data for Spanish Grand Prix - Race [v3.5.3]\n",
      "req            INFO \tNo cached data found for session_info. Loading data...\n",
      "_api           INFO \tFetching session info data...\n"
     ]
    },
    {
     "name": "stdout",
     "output_type": "stream",
     "text": [
      "2016 5\n"
     ]
    },
    {
     "name": "stderr",
     "output_type": "stream",
     "text": [
      "logger      WARNING \tFailed to load session info data!\n",
      "core        WARNING \tCannot load laps, telemetry, weather, and message data because the relevant API is not supported for this session.\n",
      "core           INFO \tFinished loading data for 22 drivers: ['33', '7', '5', '3', '77', '55', '11', '19', '22', '26', '21', '9', '30', '20', '12', '94', '88', '8', '14', '27', '44', '6']\n",
      "core           INFO \tLoading data for Monaco Grand Prix - Race [v3.5.3]\n",
      "req            INFO \tNo cached data found for session_info. Loading data...\n",
      "_api           INFO \tFetching session info data...\n"
     ]
    },
    {
     "name": "stdout",
     "output_type": "stream",
     "text": [
      "2016 6\n"
     ]
    },
    {
     "name": "stderr",
     "output_type": "stream",
     "text": [
      "logger      WARNING \tFailed to load session info data!\n",
      "core        WARNING \tCannot load laps, telemetry, weather, and message data because the relevant API is not supported for this session.\n",
      "core           INFO \tFinished loading data for 22 drivers: ['44', '3', '11', '5', '14', '27', '6', '55', '22', '19', '21', '77', '8', '94', '88', '9', '12', '33', '20', '26', '7', '30']\n",
      "core           INFO \tLoading data for Canadian Grand Prix - Race [v3.5.3]\n",
      "req            INFO \tNo cached data found for session_info. Loading data...\n",
      "_api           INFO \tFetching session info data...\n"
     ]
    },
    {
     "name": "stdout",
     "output_type": "stream",
     "text": [
      "2016 7\n"
     ]
    },
    {
     "name": "stderr",
     "output_type": "stream",
     "text": [
      "logger      WARNING \tFailed to load session info data!\n",
      "core        WARNING \tCannot load laps, telemetry, weather, and message data because the relevant API is not supported for this session.\n",
      "core           INFO \tFinished loading data for 22 drivers: ['44', '5', '77', '33', '6', '7', '3', '27', '55', '11', '14', '26', '21', '8', '9', '20', '94', '12', '88', '19', '30', '22']\n",
      "core           INFO \tLoading data for European Grand Prix - Race [v3.5.3]\n",
      "req            INFO \tNo cached data found for session_info. Loading data...\n",
      "_api           INFO \tFetching session info data...\n"
     ]
    },
    {
     "name": "stdout",
     "output_type": "stream",
     "text": [
      "2016 8\n"
     ]
    },
    {
     "name": "stderr",
     "output_type": "stream",
     "text": [
      "logger      WARNING \tFailed to load session info data!\n",
      "core        WARNING \tCannot load laps, telemetry, weather, and message data because the relevant API is not supported for this session.\n",
      "core           INFO \tFinished loading data for 22 drivers: ['6', '5', '11', '7', '44', '77', '3', '33', '27', '19', '22', '12', '8', '20', '30', '21', '9', '88', '14', '94', '55', '26']\n",
      "core           INFO \tLoading data for Austrian Grand Prix - Race [v3.5.3]\n",
      "req            INFO \tNo cached data found for session_info. Loading data...\n",
      "_api           INFO \tFetching session info data...\n"
     ]
    },
    {
     "name": "stdout",
     "output_type": "stream",
     "text": [
      "2016 9\n"
     ]
    },
    {
     "name": "stderr",
     "output_type": "stream",
     "text": [
      "logger      WARNING \tFailed to load session info data!\n",
      "core        WARNING \tCannot load laps, telemetry, weather, and message data because the relevant API is not supported for this session.\n",
      "core           INFO \tFinished loading data for 22 drivers: ['44', '33', '7', '6', '3', '22', '8', '55', '77', '94', '21', '30', '12', '20', '9', '88', '11', '14', '27', '19', '5', '26']\n",
      "core           INFO \tLoading data for British Grand Prix - Race [v3.5.3]\n",
      "req            INFO \tNo cached data found for session_info. Loading data...\n",
      "_api           INFO \tFetching session info data...\n"
     ]
    },
    {
     "name": "stdout",
     "output_type": "stream",
     "text": [
      "2016 10\n"
     ]
    },
    {
     "name": "stderr",
     "output_type": "stream",
     "text": [
      "logger      WARNING \tFailed to load session info data!\n",
      "core        WARNING \tCannot load laps, telemetry, weather, and message data because the relevant API is not supported for this session.\n",
      "core           INFO \tFinished loading data for 22 drivers: ['44', '33', '6', '3', '7', '11', '27', '55', '5', '26', '19', '22', '14', '77', '12', '21', '20', '30', '88', '8', '9', '94']\n",
      "core           INFO \tLoading data for Hungarian Grand Prix - Race [v3.5.3]\n",
      "req            INFO \tNo cached data found for session_info. Loading data...\n",
      "_api           INFO \tFetching session info data...\n"
     ]
    },
    {
     "name": "stdout",
     "output_type": "stream",
     "text": [
      "2016 11\n"
     ]
    },
    {
     "name": "stderr",
     "output_type": "stream",
     "text": [
      "logger      WARNING \tFailed to load session info data!\n",
      "core        WARNING \tCannot load laps, telemetry, weather, and message data because the relevant API is not supported for this session.\n",
      "core           INFO \tFinished loading data for 22 drivers: ['44', '6', '3', '5', '33', '7', '14', '55', '77', '27', '11', '30', '21', '8', '20', '26', '12', '19', '94', '9', '88', '22']\n",
      "core           INFO \tLoading data for German Grand Prix - Race [v3.5.3]\n",
      "req            INFO \tNo cached data found for session_info. Loading data...\n",
      "_api           INFO \tFetching session info data...\n"
     ]
    },
    {
     "name": "stdout",
     "output_type": "stream",
     "text": [
      "2016 12\n"
     ]
    },
    {
     "name": "stderr",
     "output_type": "stream",
     "text": [
      "logger      WARNING \tFailed to load session info data!\n",
      "core        WARNING \tCannot load laps, telemetry, weather, and message data because the relevant API is not supported for this session.\n",
      "core           INFO \tFinished loading data for 22 drivers: ['44', '3', '33', '6', '5', '7', '27', '22', '77', '11', '21', '14', '8', '55', '26', '20', '94', '9', '30', '88', '12', '19']\n",
      "core           INFO \tLoading data for Belgian Grand Prix - Race [v3.5.3]\n",
      "req            INFO \tNo cached data found for session_info. Loading data...\n",
      "_api           INFO \tFetching session info data...\n"
     ]
    },
    {
     "name": "stdout",
     "output_type": "stream",
     "text": [
      "2016 13\n"
     ]
    },
    {
     "name": "stderr",
     "output_type": "stream",
     "text": [
      "logger      WARNING \tFailed to load session info data!\n",
      "core        WARNING \tCannot load laps, telemetry, weather, and message data because the relevant API is not supported for this session.\n",
      "core           INFO \tFinished loading data for 22 drivers: ['6', '3', '44', '27', '11', '5', '14', '77', '7', '19', '33', '21', '8', '26', '30', '31', '12', '20', '9', '55', '22', '94']\n",
      "core           INFO \tLoading data for Italian Grand Prix - Race [v3.5.3]\n",
      "req            INFO \tNo cached data found for session_info. Loading data...\n",
      "_api           INFO \tFetching session info data...\n"
     ]
    },
    {
     "name": "stdout",
     "output_type": "stream",
     "text": [
      "2016 14\n"
     ]
    },
    {
     "name": "stderr",
     "output_type": "stream",
     "text": [
      "logger      WARNING \tFailed to load session info data!\n",
      "core        WARNING \tCannot load laps, telemetry, weather, and message data because the relevant API is not supported for this session.\n",
      "core           INFO \tFinished loading data for 22 drivers: ['6', '44', '5', '7', '3', '77', '33', '11', '19', '27', '8', '22', '21', '14', '55', '9', '20', '31', '26', '94', '30', '12']\n",
      "core           INFO \tLoading data for Singapore Grand Prix - Race [v3.5.3]\n",
      "req            INFO \tNo cached data found for session_info. Loading data...\n",
      "_api           INFO \tFetching session info data...\n"
     ]
    },
    {
     "name": "stdout",
     "output_type": "stream",
     "text": [
      "2016 15\n"
     ]
    },
    {
     "name": "stderr",
     "output_type": "stream",
     "text": [
      "logger      WARNING \tFailed to load session info data!\n",
      "core        WARNING \tCannot load laps, telemetry, weather, and message data because the relevant API is not supported for this session.\n",
      "core           INFO \tFinished loading data for 22 drivers: ['6', '3', '44', '7', '5', '33', '14', '11', '26', '20', '21', '19', '12', '55', '30', '94', '9', '31', '22', '77', '27', '8']\n",
      "core           INFO \tLoading data for Malaysian Grand Prix - Race [v3.5.3]\n",
      "req            INFO \tNo cached data found for session_info. Loading data...\n",
      "_api           INFO \tFetching session info data...\n"
     ]
    },
    {
     "name": "stdout",
     "output_type": "stream",
     "text": [
      "2016 16\n"
     ]
    },
    {
     "name": "stderr",
     "output_type": "stream",
     "text": [
      "logger      WARNING \tFailed to load session info data!\n",
      "core        WARNING \tCannot load laps, telemetry, weather, and message data because the relevant API is not supported for this session.\n",
      "core           INFO \tFinished loading data for 22 drivers: ['3', '33', '6', '7', '77', '11', '14', '27', '22', '30', '55', '9', '19', '26', '94', '31', '12', '44', '21', '20', '8', '5']\n",
      "core           INFO \tLoading data for Japanese Grand Prix - Race [v3.5.3]\n",
      "req            INFO \tNo cached data found for session_info. Loading data...\n",
      "_api           INFO \tFetching session info data...\n"
     ]
    },
    {
     "name": "stdout",
     "output_type": "stream",
     "text": [
      "2016 17\n"
     ]
    },
    {
     "name": "stderr",
     "output_type": "stream",
     "text": [
      "logger      WARNING \tFailed to load session info data!\n",
      "core        WARNING \tCannot load laps, telemetry, weather, and message data because the relevant API is not supported for this session.\n",
      "core           INFO \tFinished loading data for 22 drivers: ['6', '33', '44', '5', '7', '3', '11', '27', '19', '77', '8', '30', '26', '20', '9', '14', '55', '22', '12', '21', '31', '94']\n",
      "core           INFO \tLoading data for United States Grand Prix - Race [v3.5.3]\n",
      "req            INFO \tNo cached data found for session_info. Loading data...\n",
      "_api           INFO \tFetching session info data...\n"
     ]
    },
    {
     "name": "stdout",
     "output_type": "stream",
     "text": [
      "2016 18\n"
     ]
    },
    {
     "name": "stderr",
     "output_type": "stream",
     "text": [
      "logger      WARNING \tFailed to load session info data!\n",
      "core        WARNING \tCannot load laps, telemetry, weather, and message data because the relevant API is not supported for this session.\n",
      "core           INFO \tFinished loading data for 22 drivers: ['44', '6', '3', '5', '14', '55', '19', '11', '22', '8', '26', '20', '30', '9', '12', '77', '94', '31', '7', '33', '21', '27']\n",
      "core           INFO \tLoading data for Mexican Grand Prix - Race [v3.5.3]\n",
      "req            INFO \tNo cached data found for session_info. Loading data...\n",
      "_api           INFO \tFetching session info data...\n"
     ]
    },
    {
     "name": "stdout",
     "output_type": "stream",
     "text": [
      "2016 19\n"
     ]
    },
    {
     "name": "stderr",
     "output_type": "stream",
     "text": [
      "logger      WARNING \tFailed to load session info data!\n",
      "core        WARNING \tCannot load laps, telemetry, weather, and message data because the relevant API is not supported for this session.\n",
      "core           INFO \tFinished loading data for 22 drivers: ['44', '6', '3', '33', '5', '7', '27', '77', '19', '11', '9', '22', '14', '30', '12', '55', '20', '26', '21', '8', '31', '94']\n",
      "core           INFO \tLoading data for Brazilian Grand Prix - Race [v3.5.3]\n",
      "req            INFO \tNo cached data found for session_info. Loading data...\n",
      "_api           INFO \tFetching session info data...\n"
     ]
    },
    {
     "name": "stdout",
     "output_type": "stream",
     "text": [
      "2016 20\n"
     ]
    },
    {
     "name": "stderr",
     "output_type": "stream",
     "text": [
      "logger      WARNING \tFailed to load session info data!\n",
      "core        WARNING \tCannot load laps, telemetry, weather, and message data because the relevant API is not supported for this session.\n",
      "core           INFO \tFinished loading data for 22 drivers: ['44', '6', '33', '11', '5', '55', '27', '3', '12', '14', '77', '31', '26', '20', '94', '22', '21', '19', '30', '7', '9', '8']\n",
      "core           INFO \tLoading data for Australian Grand Prix - Race [v3.5.3]\n",
      "req            INFO \tNo cached data found for session_info. Loading data...\n",
      "_api           INFO \tFetching session info data...\n"
     ]
    },
    {
     "name": "stdout",
     "output_type": "stream",
     "text": [
      "2017 1\n"
     ]
    },
    {
     "name": "stderr",
     "output_type": "stream",
     "text": [
      "logger      WARNING \tFailed to load session info data!\n",
      "core        WARNING \tCannot load laps, telemetry, weather, and message data because the relevant API is not supported for this session.\n",
      "core           INFO \tFinished loading data for 20 drivers: ['5', '44', '77', '7', '33', '19', '11', '55', '26', '31', '27', '36', '2', '14', '20', '18', '3', '9', '30', '8']\n",
      "core           INFO \tLoading data for Chinese Grand Prix - Race [v3.5.3]\n",
      "req            INFO \tNo cached data found for session_info. Loading data...\n",
      "_api           INFO \tFetching session info data...\n"
     ]
    },
    {
     "name": "stdout",
     "output_type": "stream",
     "text": [
      "2017 2\n"
     ]
    },
    {
     "name": "stderr",
     "output_type": "stream",
     "text": [
      "logger      WARNING \tFailed to load session info data!\n",
      "core        WARNING \tCannot load laps, telemetry, weather, and message data because the relevant API is not supported for this session.\n",
      "core           INFO \tFinished loading data for 20 drivers: ['44', '5', '33', '3', '7', '77', '55', '20', '11', '31', '8', '27', '30', '19', '9', '14', '26', '2', '36', '18']\n",
      "core           INFO \tLoading data for Bahrain Grand Prix - Race [v3.5.3]\n",
      "req            INFO \tNo cached data found for session_info. Loading data...\n",
      "_api           INFO \tFetching session info data...\n"
     ]
    },
    {
     "name": "stdout",
     "output_type": "stream",
     "text": [
      "2017 3\n"
     ]
    },
    {
     "name": "stderr",
     "output_type": "stream",
     "text": [
      "logger      WARNING \tFailed to load session info data!\n",
      "core        WARNING \tCannot load laps, telemetry, weather, and message data because the relevant API is not supported for this session.\n",
      "core           INFO \tFinished loading data for 20 drivers: ['5', '44', '77', '7', '3', '19', '11', '8', '27', '31', '94', '26', '30', '14', '9', '55', '18', '33', '20', '2']\n",
      "core           INFO \tLoading data for Russian Grand Prix - Race [v3.5.3]\n",
      "req            INFO \tNo cached data found for session_info. Loading data...\n",
      "_api           INFO \tFetching session info data...\n"
     ]
    },
    {
     "name": "stdout",
     "output_type": "stream",
     "text": [
      "2017 4\n"
     ]
    },
    {
     "name": "stderr",
     "output_type": "stream",
     "text": [
      "logger      WARNING \tFailed to load session info data!\n",
      "core        WARNING \tCannot load laps, telemetry, weather, and message data because the relevant API is not supported for this session.\n",
      "core           INFO \tFinished loading data for 20 drivers: ['77', '5', '7', '44', '33', '11', '31', '27', '19', '55', '18', '26', '20', '2', '9', '94', '3', '30', '8', '14']\n",
      "core           INFO \tLoading data for Spanish Grand Prix - Race [v3.5.3]\n",
      "req            INFO \tNo cached data found for session_info. Loading data...\n",
      "_api           INFO \tFetching session info data...\n"
     ]
    },
    {
     "name": "stdout",
     "output_type": "stream",
     "text": [
      "2017 5\n"
     ]
    },
    {
     "name": "stderr",
     "output_type": "stream",
     "text": [
      "logger      WARNING \tFailed to load session info data!\n",
      "core        WARNING \tCannot load laps, telemetry, weather, and message data because the relevant API is not supported for this session.\n",
      "core           INFO \tFinished loading data for 20 drivers: ['44', '5', '3', '11', '31', '27', '55', '94', '26', '8', '9', '14', '19', '20', '30', '18', '77', '2', '33', '7']\n",
      "core           INFO \tLoading data for Monaco Grand Prix - Race [v3.5.3]\n",
      "req            INFO \tNo cached data found for session_info. Loading data...\n",
      "_api           INFO \tFetching session info data...\n"
     ]
    },
    {
     "name": "stdout",
     "output_type": "stream",
     "text": [
      "2017 6\n"
     ]
    },
    {
     "name": "stderr",
     "output_type": "stream",
     "text": [
      "logger      WARNING \tFailed to load session info data!\n",
      "core        WARNING \tCannot load laps, telemetry, weather, and message data because the relevant API is not supported for this session.\n",
      "core           INFO \tFinished loading data for 20 drivers: ['5', '7', '3', '77', '33', '55', '44', '8', '19', '20', '30', '31', '11', '26', '18', '2', '9', '22', '94', '27']\n",
      "core           INFO \tLoading data for Canadian Grand Prix - Race [v3.5.3]\n",
      "req            INFO \tNo cached data found for session_info. Loading data...\n",
      "_api           INFO \tFetching session info data...\n"
     ]
    },
    {
     "name": "stdout",
     "output_type": "stream",
     "text": [
      "2017 7\n"
     ]
    },
    {
     "name": "stderr",
     "output_type": "stream",
     "text": [
      "logger      WARNING \tFailed to load session info data!\n",
      "core        WARNING \tCannot load laps, telemetry, weather, and message data because the relevant API is not supported for this session.\n",
      "core           INFO \tFinished loading data for 20 drivers: ['44', '77', '3', '5', '11', '31', '7', '27', '18', '8', '30', '20', '9', '2', '94', '14', '26', '33', '19', '55']\n",
      "core           INFO \tLoading data for Azerbaijan Grand Prix - Race [v3.5.3]\n",
      "req            INFO \tNo cached data found for session_info. Loading data...\n",
      "_api           INFO \tFetching session info data...\n"
     ]
    },
    {
     "name": "stdout",
     "output_type": "stream",
     "text": [
      "2017 8\n"
     ]
    },
    {
     "name": "stderr",
     "output_type": "stream",
     "text": [
      "logger      WARNING \tFailed to load session info data!\n",
      "core        WARNING \tCannot load laps, telemetry, weather, and message data because the relevant API is not supported for this session.\n",
      "core           INFO \tFinished loading data for 20 drivers: ['3', '77', '18', '5', '44', '31', '20', '55', '14', '94', '9', '2', '8', '7', '11', '19', '27', '33', '26', '30']\n",
      "core           INFO \tLoading data for Austrian Grand Prix - Race [v3.5.3]\n",
      "req            INFO \tNo cached data found for session_info. Loading data...\n",
      "_api           INFO \tFetching session info data...\n"
     ]
    },
    {
     "name": "stdout",
     "output_type": "stream",
     "text": [
      "2017 9\n"
     ]
    },
    {
     "name": "stderr",
     "output_type": "stream",
     "text": [
      "logger      WARNING \tFailed to load session info data!\n",
      "core        WARNING \tCannot load laps, telemetry, weather, and message data because the relevant API is not supported for this session.\n",
      "core           INFO \tFinished loading data for 20 drivers: ['77', '5', '3', '44', '7', '8', '11', '31', '19', '18', '30', '2', '27', '94', '9', '26', '55', '20', '14', '33']\n",
      "core           INFO \tLoading data for British Grand Prix - Race [v3.5.3]\n",
      "req            INFO \tNo cached data found for session_info. Loading data...\n",
      "_api           INFO \tFetching session info data...\n"
     ]
    },
    {
     "name": "stdout",
     "output_type": "stream",
     "text": [
      "2017 10\n"
     ]
    },
    {
     "name": "stderr",
     "output_type": "stream",
     "text": [
      "logger      WARNING \tFailed to load session info data!\n",
      "core        WARNING \tCannot load laps, telemetry, weather, and message data because the relevant API is not supported for this session.\n",
      "core           INFO \tFinished loading data for 20 drivers: ['44', '77', '7', '33', '3', '27', '5', '31', '11', '19', '2', '20', '8', '9', '26', '18', '94', '14', '55', '30']\n",
      "core           INFO \tLoading data for Hungarian Grand Prix - Race [v3.5.3]\n",
      "req            INFO \tNo cached data found for session_info. Loading data...\n",
      "_api           INFO \tFetching session info data...\n"
     ]
    },
    {
     "name": "stdout",
     "output_type": "stream",
     "text": [
      "2017 11\n"
     ]
    },
    {
     "name": "stderr",
     "output_type": "stream",
     "text": [
      "logger      WARNING \tFailed to load session info data!\n",
      "core        WARNING \tCannot load laps, telemetry, weather, and message data because the relevant API is not supported for this session.\n",
      "core           INFO \tFinished loading data for 20 drivers: ['5', '7', '77', '44', '33', '14', '55', '11', '31', '2', '26', '30', '20', '18', '94', '9', '27', '40', '8', '3']\n",
      "core           INFO \tLoading data for Belgian Grand Prix - Race [v3.5.3]\n",
      "req            INFO \tNo cached data found for session_info. Loading data...\n",
      "_api           INFO \tFetching session info data...\n"
     ]
    },
    {
     "name": "stdout",
     "output_type": "stream",
     "text": [
      "2017 12\n"
     ]
    },
    {
     "name": "stderr",
     "output_type": "stream",
     "text": [
      "logger      WARNING \tFailed to load session info data!\n",
      "core        WARNING \tCannot load laps, telemetry, weather, and message data because the relevant API is not supported for this session.\n",
      "core           INFO \tFinished loading data for 20 drivers: ['44', '5', '3', '7', '77', '27', '8', '19', '31', '55', '18', '26', '30', '2', '20', '9', '11', '14', '33', '94']\n",
      "core           INFO \tLoading data for Italian Grand Prix - Race [v3.5.3]\n",
      "req            INFO \tNo cached data found for session_info. Loading data...\n",
      "_api           INFO \tFetching session info data...\n"
     ]
    },
    {
     "name": "stdout",
     "output_type": "stream",
     "text": [
      "2017 13\n"
     ]
    },
    {
     "name": "stderr",
     "output_type": "stream",
     "text": [
      "logger      WARNING \tFailed to load session info data!\n",
      "core        WARNING \tCannot load laps, telemetry, weather, and message data because the relevant API is not supported for this session.\n",
      "core           INFO \tFinished loading data for 20 drivers: ['44', '77', '5', '3', '7', '31', '18', '19', '11', '33', '20', '26', '27', '55', '8', '94', '14', '9', '2', '30']\n",
      "core           INFO \tLoading data for Singapore Grand Prix - Race [v3.5.3]\n",
      "req            INFO \tNo cached data found for session_info. Loading data...\n",
      "_api           INFO \tFetching session info data...\n"
     ]
    },
    {
     "name": "stdout",
     "output_type": "stream",
     "text": [
      "2017 14\n"
     ]
    },
    {
     "name": "stderr",
     "output_type": "stream",
     "text": [
      "logger      WARNING \tFailed to load session info data!\n",
      "core        WARNING \tCannot load laps, telemetry, weather, and message data because the relevant API is not supported for this session.\n",
      "core           INFO \tFinished loading data for 20 drivers: ['44', '3', '77', '55', '11', '30', '2', '18', '8', '31', '19', '94', '20', '27', '9', '26', '14', '5', '33', '7']\n",
      "core           INFO \tLoading data for Malaysian Grand Prix - Race [v3.5.3]\n",
      "req            INFO \tNo cached data found for session_info. Loading data...\n",
      "_api           INFO \tFetching session info data...\n"
     ]
    },
    {
     "name": "stdout",
     "output_type": "stream",
     "text": [
      "2017 15\n"
     ]
    },
    {
     "name": "stderr",
     "output_type": "stream",
     "text": [
      "logger      WARNING \tFailed to load session info data!\n",
      "core        WARNING \tCannot load laps, telemetry, weather, and message data because the relevant API is not supported for this session.\n",
      "core           INFO \tFinished loading data for 20 drivers: ['33', '44', '3', '5', '77', '11', '2', '18', '19', '31', '14', '20', '8', '10', '30', '27', '94', '9', '55', '7']\n",
      "core           INFO \tLoading data for Japanese Grand Prix - Race [v3.5.3]\n",
      "req            INFO \tNo cached data found for session_info. Loading data...\n",
      "_api           INFO \tFetching session info data...\n"
     ]
    },
    {
     "name": "stdout",
     "output_type": "stream",
     "text": [
      "2017 16\n"
     ]
    },
    {
     "name": "stderr",
     "output_type": "stream",
     "text": [
      "logger      WARNING \tFailed to load session info data!\n",
      "core        WARNING \tCannot load laps, telemetry, weather, and message data because the relevant API is not supported for this session.\n",
      "core           INFO \tFinished loading data for 20 drivers: ['44', '33', '3', '77', '7', '31', '11', '20', '8', '19', '14', '30', '10', '2', '94', '18', '27', '9', '5', '55']\n",
      "core           INFO \tLoading data for United States Grand Prix - Race [v3.5.3]\n",
      "req            INFO \tNo cached data found for session_info. Loading data...\n",
      "_api           INFO \tFetching session info data...\n"
     ]
    },
    {
     "name": "stdout",
     "output_type": "stream",
     "text": [
      "2017 17\n"
     ]
    },
    {
     "name": "stderr",
     "output_type": "stream",
     "text": [
      "logger      WARNING \tFailed to load session info data!\n",
      "core        WARNING \tCannot load laps, telemetry, weather, and message data because the relevant API is not supported for this session.\n",
      "core           INFO \tFinished loading data for 20 drivers: ['44', '5', '7', '33', '77', '31', '55', '11', '19', '26', '18', '2', '39', '8', '9', '20', '14', '3', '94', '27']\n",
      "core           INFO \tLoading data for Mexican Grand Prix - Race [v3.5.3]\n",
      "req            INFO \tNo cached data found for session_info. Loading data...\n",
      "_api           INFO \tFetching session info data...\n"
     ]
    },
    {
     "name": "stdout",
     "output_type": "stream",
     "text": [
      "2017 18\n"
     ]
    },
    {
     "name": "stderr",
     "output_type": "stream",
     "text": [
      "logger      WARNING \tFailed to load session info data!\n",
      "core        WARNING \tCannot load laps, telemetry, weather, and message data because the relevant API is not supported for this session.\n",
      "core           INFO \tFinished loading data for 20 drivers: ['33', '77', '7', '5', '31', '18', '11', '20', '44', '14', '19', '2', '10', '94', '8', '55', '9', '28', '27', '3']\n",
      "core           INFO \tLoading data for Brazilian Grand Prix - Race [v3.5.3]\n",
      "req            INFO \tNo cached data found for session_info. Loading data...\n",
      "_api           INFO \tFetching session info data...\n"
     ]
    },
    {
     "name": "stdout",
     "output_type": "stream",
     "text": [
      "2017 19\n"
     ]
    },
    {
     "name": "stderr",
     "output_type": "stream",
     "text": [
      "logger      WARNING \tFailed to load session info data!\n",
      "core        WARNING \tCannot load laps, telemetry, weather, and message data because the relevant API is not supported for this session.\n",
      "core           INFO \tFinished loading data for 20 drivers: ['5', '77', '7', '44', '33', '3', '19', '14', '11', '27', '55', '10', '9', '94', '8', '18', '28', '31', '2', '20']\n",
      "core           INFO \tLoading data for Australian Grand Prix - Race [v3.5.3]\n",
      "req            INFO \tUsing cached data for session_info\n",
      "req            INFO \tUsing cached data for driver_info\n",
      "req            INFO \tUsing cached data for session_status_data\n",
      "req            INFO \tUsing cached data for lap_count\n",
      "req            INFO \tUsing cached data for track_status_data\n",
      "req            INFO \tUsing cached data for _extended_timing_data\n",
      "req            INFO \tUsing cached data for timing_app_data\n",
      "core           INFO \tProcessing timing data...\n"
     ]
    },
    {
     "name": "stdout",
     "output_type": "stream",
     "text": [
      "2018 1\n"
     ]
    },
    {
     "name": "stderr",
     "output_type": "stream",
     "text": [
      "req            INFO \tUsing cached data for weather_data\n",
      "req            INFO \tUsing cached data for race_control_messages\n",
      "core        WARNING \tDriver 5 completed the race distance 00:00.123000 before the recorded end of the session.\n",
      "core           INFO \tFinished loading data for 20 drivers: ['5', '44', '7', '3', '14', '33', '27', '77', '2', '55', '11', '31', '16', '18', '28', '8', '20', '10', '9', '35']\n",
      "core           INFO \tLoading data for Bahrain Grand Prix - Race [v3.5.3]\n",
      "req            INFO \tUsing cached data for session_info\n",
      "req            INFO \tUsing cached data for driver_info\n",
      "req            INFO \tUsing cached data for session_status_data\n",
      "req            INFO \tUsing cached data for lap_count\n",
      "req            INFO \tUsing cached data for track_status_data\n",
      "req            INFO \tUsing cached data for _extended_timing_data\n",
      "req            INFO \tUsing cached data for timing_app_data\n",
      "core           INFO \tProcessing timing data...\n"
     ]
    },
    {
     "name": "stdout",
     "output_type": "stream",
     "text": [
      "2018 2\n"
     ]
    },
    {
     "name": "stderr",
     "output_type": "stream",
     "text": [
      "core        WARNING \tDriver 27: Lap timing integrity check failed for 1 lap(s)\n",
      "core        WARNING \tDriver  2: Lap timing integrity check failed for 1 lap(s)\n",
      "core        WARNING \tDriver  9: Lap timing integrity check failed for 1 lap(s)\n",
      "core        WARNING \tDriver 31: Lap timing integrity check failed for 1 lap(s)\n",
      "core        WARNING \tDriver 55: Lap timing integrity check failed for 1 lap(s)\n",
      "core        WARNING \tDriver 16: Lap timing integrity check failed for 1 lap(s)\n",
      "core        WARNING \tDriver  8: Lap timing integrity check failed for 1 lap(s)\n",
      "core        WARNING \tDriver 18: Lap timing integrity check failed for 1 lap(s)\n",
      "core        WARNING \tDriver 35: Lap timing integrity check failed for 1 lap(s)\n",
      "core        WARNING \tDriver 28: Lap timing integrity check failed for 1 lap(s)\n",
      "req            INFO \tUsing cached data for weather_data\n",
      "req            INFO \tUsing cached data for race_control_messages\n",
      "core           INFO \tFinished loading data for 20 drivers: ['5', '77', '44', '10', '20', '27', '14', '2', '9', '31', '55', '16', '8', '18', '35', '11', '28', '7', '33', '3']\n",
      "core           INFO \tLoading data for Chinese Grand Prix - Race [v3.5.3]\n",
      "req            INFO \tUsing cached data for session_info\n",
      "req            INFO \tUsing cached data for driver_info\n",
      "req            INFO \tUsing cached data for session_status_data\n",
      "req            INFO \tUsing cached data for lap_count\n",
      "req            INFO \tUsing cached data for track_status_data\n"
     ]
    },
    {
     "name": "stdout",
     "output_type": "stream",
     "text": [
      "2018 3\n"
     ]
    },
    {
     "name": "stderr",
     "output_type": "stream",
     "text": [
      "req            INFO \tUsing cached data for _extended_timing_data\n",
      "req            INFO \tUsing cached data for timing_app_data\n",
      "core           INFO \tProcessing timing data...\n",
      "req            INFO \tUsing cached data for weather_data\n",
      "req            INFO \tUsing cached data for race_control_messages\n",
      "core        WARNING \tDriver 3 completed the race distance 00:00.025000 before the recorded end of the session.\n",
      "core           INFO \tFinished loading data for 20 drivers: ['3', '77', '7', '44', '33', '27', '14', '5', '55', '20', '31', '11', '2', '18', '35', '9', '8', '10', '16', '28']\n",
      "core           INFO \tLoading data for Azerbaijan Grand Prix - Race [v3.5.3]\n",
      "req            INFO \tUsing cached data for session_info\n",
      "req            INFO \tUsing cached data for driver_info\n"
     ]
    },
    {
     "name": "stdout",
     "output_type": "stream",
     "text": [
      "2018 4\n"
     ]
    },
    {
     "name": "stderr",
     "output_type": "stream",
     "text": [
      "req            INFO \tUsing cached data for session_status_data\n",
      "req            INFO \tUsing cached data for lap_count\n",
      "req            INFO \tUsing cached data for track_status_data\n",
      "req            INFO \tUsing cached data for _extended_timing_data\n",
      "req            INFO \tUsing cached data for timing_app_data\n",
      "core           INFO \tProcessing timing data...\n",
      "core        WARNING \tDriver 55: Lap timing integrity check failed for 1 lap(s)\n",
      "core        WARNING \tDriver 16: Lap timing integrity check failed for 1 lap(s)\n",
      "req            INFO \tUsing cached data for weather_data\n",
      "req            INFO \tUsing cached data for race_control_messages\n",
      "core        WARNING \tDriver 44 completed the race distance 00:00.110000 before the recorded end of the session.\n",
      "core           INFO \tFinished loading data for 20 drivers: ['44', '7', '11', '5', '55', '16', '14', '18', '2', '28', '9', '10', '20', '77', '8', '33', '3', '27', '31', '35']\n",
      "core           INFO \tLoading data for Spanish Grand Prix - Race [v3.5.3]\n",
      "req            INFO \tUsing cached data for session_info\n",
      "req            INFO \tUsing cached data for driver_info\n",
      "req            INFO \tUsing cached data for session_status_data\n",
      "req            INFO \tUsing cached data for lap_count\n",
      "req            INFO \tUsing cached data for track_status_data\n",
      "req            INFO \tUsing cached data for _extended_timing_data\n",
      "req            INFO \tUsing cached data for timing_app_data\n",
      "core           INFO \tProcessing timing data...\n"
     ]
    },
    {
     "name": "stdout",
     "output_type": "stream",
     "text": [
      "2018 5\n"
     ]
    },
    {
     "name": "stderr",
     "output_type": "stream",
     "text": [
      "req            INFO \tUsing cached data for weather_data\n",
      "req            INFO \tUsing cached data for race_control_messages\n",
      "core        WARNING \tDriver 44 completed the race distance 00:00.017000 before the recorded end of the session.\n",
      "core           INFO \tFinished loading data for 20 drivers: ['44', '77', '33', '5', '3', '20', '55', '14', '11', '16', '18', '28', '9', '35', '2', '31', '7', '8', '10', '27']\n",
      "core           INFO \tLoading data for Monaco Grand Prix - Race [v3.5.3]\n",
      "req            INFO \tUsing cached data for session_info\n",
      "req            INFO \tUsing cached data for driver_info\n",
      "req            INFO \tUsing cached data for session_status_data\n",
      "req            INFO \tUsing cached data for lap_count\n",
      "req            INFO \tUsing cached data for track_status_data\n",
      "req            INFO \tUsing cached data for _extended_timing_data\n",
      "req            INFO \tUsing cached data for timing_app_data\n",
      "core           INFO \tProcessing timing data...\n"
     ]
    },
    {
     "name": "stdout",
     "output_type": "stream",
     "text": [
      "2018 6\n"
     ]
    },
    {
     "name": "stderr",
     "output_type": "stream",
     "text": [
      "req            INFO \tUsing cached data for weather_data\n",
      "req            INFO \tUsing cached data for race_control_messages\n",
      "core        WARNING \tDriver 3 completed the race distance 00:00.040000 before the recorded end of the session.\n",
      "core           INFO \tFinished loading data for 20 drivers: ['3', '5', '44', '7', '77', '31', '10', '27', '33', '55', '9', '11', '20', '2', '8', '35', '18', '16', '28', '14']\n",
      "core           INFO \tLoading data for Canadian Grand Prix - Race [v3.5.3]\n",
      "req            INFO \tUsing cached data for session_info\n",
      "req            INFO \tUsing cached data for driver_info\n",
      "req            INFO \tUsing cached data for session_status_data\n",
      "req            INFO \tUsing cached data for lap_count\n",
      "req            INFO \tUsing cached data for track_status_data\n",
      "req            INFO \tUsing cached data for _extended_timing_data\n",
      "req            INFO \tUsing cached data for timing_app_data\n",
      "core           INFO \tProcessing timing data...\n"
     ]
    },
    {
     "name": "stdout",
     "output_type": "stream",
     "text": [
      "2018 7\n"
     ]
    },
    {
     "name": "stderr",
     "output_type": "stream",
     "text": [
      "req            INFO \tUsing cached data for weather_data\n",
      "req            INFO \tUsing cached data for race_control_messages\n",
      "core        WARNING \tDriver 5 completed the race distance 00:00.044000 before the recorded end of the session.\n",
      "core           INFO \tFinished loading data for 20 drivers: ['5', '77', '33', '3', '44', '7', '27', '55', '31', '16', '10', '8', '20', '11', '9', '2', '35', '14', '28', '18']\n",
      "core           INFO \tLoading data for French Grand Prix - Race [v3.5.3]\n",
      "req            INFO \tUsing cached data for session_info\n",
      "req            INFO \tUsing cached data for driver_info\n",
      "req            INFO \tUsing cached data for session_status_data\n",
      "req            INFO \tUsing cached data for lap_count\n",
      "req            INFO \tUsing cached data for track_status_data\n",
      "req            INFO \tUsing cached data for _extended_timing_data\n",
      "req            INFO \tUsing cached data for timing_app_data\n",
      "core           INFO \tProcessing timing data...\n"
     ]
    },
    {
     "name": "stdout",
     "output_type": "stream",
     "text": [
      "2018 8\n"
     ]
    },
    {
     "name": "stderr",
     "output_type": "stream",
     "text": [
      "req            INFO \tUsing cached data for weather_data\n",
      "req            INFO \tUsing cached data for race_control_messages\n",
      "core        WARNING \tDriver 44 completed the race distance 00:00.028000 before the recorded end of the session.\n",
      "core           INFO \tFinished loading data for 20 drivers: ['44', '33', '7', '3', '5', '20', '77', '55', '27', '16', '8', '2', '9', '28', '35', '14', '18', '11', '31', '10']\n",
      "core           INFO \tLoading data for Austrian Grand Prix - Race [v3.5.3]\n",
      "req            INFO \tUsing cached data for session_info\n",
      "req            INFO \tUsing cached data for driver_info\n",
      "req            INFO \tUsing cached data for session_status_data\n",
      "req            INFO \tUsing cached data for lap_count\n",
      "req            INFO \tUsing cached data for track_status_data\n",
      "req            INFO \tUsing cached data for _extended_timing_data\n",
      "req            INFO \tUsing cached data for timing_app_data\n",
      "core           INFO \tProcessing timing data...\n"
     ]
    },
    {
     "name": "stdout",
     "output_type": "stream",
     "text": [
      "2018 9\n"
     ]
    },
    {
     "name": "stderr",
     "output_type": "stream",
     "text": [
      "req            INFO \tUsing cached data for weather_data\n",
      "req            INFO \tUsing cached data for race_control_messages\n",
      "core        WARNING \tDriver 33 completed the race distance 00:00.049000 before the recorded end of the session.\n",
      "core           INFO \tFinished loading data for 20 drivers: ['33', '7', '5', '8', '20', '31', '11', '14', '16', '9', '10', '55', '35', '18', '2', '44', '28', '3', '77', '27']\n",
      "core           INFO \tLoading data for British Grand Prix - Race [v3.5.3]\n",
      "req            INFO \tUsing cached data for session_info\n",
      "req            INFO \tUsing cached data for driver_info\n",
      "req            INFO \tUsing cached data for session_status_data\n",
      "req            INFO \tUsing cached data for lap_count\n",
      "req            INFO \tUsing cached data for track_status_data\n",
      "req            INFO \tUsing cached data for _extended_timing_data\n",
      "req            INFO \tUsing cached data for timing_app_data\n",
      "core           INFO \tProcessing timing data...\n"
     ]
    },
    {
     "name": "stdout",
     "output_type": "stream",
     "text": [
      "2018 10\n"
     ]
    },
    {
     "name": "stderr",
     "output_type": "stream",
     "text": [
      "core        WARNING \tDriver  2: Lap timing integrity check failed for 2 lap(s)\n",
      "req            INFO \tUsing cached data for weather_data\n",
      "req            INFO \tUsing cached data for race_control_messages\n",
      "core        WARNING \tDriver 5 completed the race distance 00:00.014000 before the recorded end of the session.\n",
      "core           INFO \tFinished loading data for 20 drivers: ['5', '44', '7', '77', '3', '27', '31', '14', '20', '11', '2', '18', '10', '35', '33', '8', '55', '9', '16', '28']\n",
      "core           INFO \tLoading data for German Grand Prix - Race [v3.5.3]\n",
      "req            INFO \tUsing cached data for session_info\n",
      "req            INFO \tUsing cached data for driver_info\n",
      "req            INFO \tUsing cached data for session_status_data\n",
      "req            INFO \tUsing cached data for lap_count\n",
      "req            INFO \tUsing cached data for track_status_data\n",
      "req            INFO \tUsing cached data for _extended_timing_data\n",
      "req            INFO \tUsing cached data for timing_app_data\n",
      "core           INFO \tProcessing timing data...\n"
     ]
    },
    {
     "name": "stdout",
     "output_type": "stream",
     "text": [
      "2018 11\n"
     ]
    },
    {
     "name": "stderr",
     "output_type": "stream",
     "text": [
      "core        WARNING \tDriver 16: Lap timing integrity check failed for 1 lap(s)\n",
      "req            INFO \tUsing cached data for weather_data\n",
      "req            INFO \tUsing cached data for race_control_messages\n",
      "core        WARNING \tDriver 44 completed the race distance 00:00.054000 before the recorded end of the session.\n",
      "core           INFO \tFinished loading data for 20 drivers: ['44', '77', '7', '33', '27', '8', '11', '31', '9', '28', '20', '55', '2', '10', '16', '14', '18', '5', '35', '3']\n",
      "core           INFO \tLoading data for Hungarian Grand Prix - Race [v3.5.3]\n",
      "req            INFO \tUsing cached data for session_info\n",
      "req            INFO \tUsing cached data for driver_info\n",
      "req            INFO \tUsing cached data for session_status_data\n",
      "req            INFO \tUsing cached data for lap_count\n",
      "req            INFO \tUsing cached data for track_status_data\n",
      "req            INFO \tUsing cached data for _extended_timing_data\n",
      "req            INFO \tUsing cached data for timing_app_data\n",
      "core           INFO \tProcessing timing data...\n"
     ]
    },
    {
     "name": "stdout",
     "output_type": "stream",
     "text": [
      "2018 12\n"
     ]
    },
    {
     "name": "stderr",
     "output_type": "stream",
     "text": [
      "req            INFO \tUsing cached data for weather_data\n",
      "req            INFO \tUsing cached data for race_control_messages\n",
      "core        WARNING \tDriver 44 completed the race distance 00:00.112000 before the recorded end of the session.\n",
      "core           INFO \tFinished loading data for 20 drivers: ['44', '5', '7', '3', '77', '10', '20', '14', '55', '8', '28', '27', '31', '11', '9', '35', '18', '2', '33', '16']\n",
      "core           INFO \tLoading data for Belgian Grand Prix - Race [v3.5.3]\n",
      "req            INFO \tUsing cached data for session_info\n",
      "req            INFO \tUsing cached data for driver_info\n",
      "req            INFO \tUsing cached data for session_status_data\n",
      "req            INFO \tUsing cached data for lap_count\n",
      "req            INFO \tUsing cached data for track_status_data\n",
      "req            INFO \tUsing cached data for _extended_timing_data\n",
      "req            INFO \tUsing cached data for timing_app_data\n",
      "core           INFO \tProcessing timing data...\n"
     ]
    },
    {
     "name": "stdout",
     "output_type": "stream",
     "text": [
      "2018 13\n"
     ]
    },
    {
     "name": "stderr",
     "output_type": "stream",
     "text": [
      "req            INFO \tUsing cached data for weather_data\n",
      "req            INFO \tUsing cached data for race_control_messages\n",
      "core        WARNING \tDriver 5 completed the race distance 00:00.033000 before the recorded end of the session.\n",
      "core           INFO \tFinished loading data for 20 drivers: ['5', '44', '33', '77', '11', '31', '8', '20', '10', '9', '55', '35', '18', '28', '2', '3', '7', '16', '14', '27']\n",
      "core           INFO \tLoading data for Italian Grand Prix - Race [v3.5.3]\n",
      "req            INFO \tUsing cached data for session_info\n",
      "req            INFO \tUsing cached data for driver_info\n",
      "req            INFO \tUsing cached data for session_status_data\n",
      "req            INFO \tUsing cached data for lap_count\n",
      "req            INFO \tUsing cached data for track_status_data\n",
      "req            INFO \tUsing cached data for _extended_timing_data\n",
      "req            INFO \tUsing cached data for timing_app_data\n",
      "core           INFO \tProcessing timing data...\n"
     ]
    },
    {
     "name": "stdout",
     "output_type": "stream",
     "text": [
      "2018 14\n"
     ]
    },
    {
     "name": "stderr",
     "output_type": "stream",
     "text": [
      "req            INFO \tUsing cached data for weather_data\n",
      "req            INFO \tUsing cached data for race_control_messages\n",
      "core        WARNING \tDriver 44 completed the race distance 00:00.051000 before the recorded end of the session.\n",
      "core           INFO \tFinished loading data for 20 drivers: ['44', '7', '77', '5', '33', '31', '11', '55', '18', '35', '16', '2', '27', '10', '9', '20', '3', '14', '28', '8']\n",
      "core           INFO \tLoading data for Singapore Grand Prix - Race [v3.5.3]\n",
      "req            INFO \tUsing cached data for session_info\n",
      "req            INFO \tUsing cached data for driver_info\n",
      "req            INFO \tUsing cached data for session_status_data\n",
      "req            INFO \tUsing cached data for lap_count\n",
      "req            INFO \tUsing cached data for track_status_data\n",
      "req            INFO \tUsing cached data for _extended_timing_data\n",
      "req            INFO \tUsing cached data for timing_app_data\n",
      "core           INFO \tProcessing timing data...\n"
     ]
    },
    {
     "name": "stdout",
     "output_type": "stream",
     "text": [
      "2018 15\n"
     ]
    },
    {
     "name": "stderr",
     "output_type": "stream",
     "text": [
      "req            INFO \tUsing cached data for weather_data\n",
      "req            INFO \tUsing cached data for race_control_messages\n",
      "core        WARNING \tDriver 44 completed the race distance 00:00.017000 before the recorded end of the session.\n",
      "core           INFO \tFinished loading data for 20 drivers: ['44', '33', '5', '77', '7', '3', '14', '55', '16', '27', '9', '2', '10', '18', '8', '11', '28', '20', '35', '31']\n",
      "core           INFO \tLoading data for Russian Grand Prix - Race [v3.5.3]\n",
      "req            INFO \tUsing cached data for session_info\n",
      "req            INFO \tUsing cached data for driver_info\n",
      "req            INFO \tUsing cached data for session_status_data\n",
      "req            INFO \tUsing cached data for lap_count\n",
      "req            INFO \tUsing cached data for track_status_data\n",
      "req            INFO \tUsing cached data for _extended_timing_data\n",
      "req            INFO \tUsing cached data for timing_app_data\n",
      "core           INFO \tProcessing timing data...\n"
     ]
    },
    {
     "name": "stdout",
     "output_type": "stream",
     "text": [
      "2018 16\n"
     ]
    },
    {
     "name": "stderr",
     "output_type": "stream",
     "text": [
      "req            INFO \tUsing cached data for weather_data\n",
      "req            INFO \tUsing cached data for race_control_messages\n",
      "core        WARNING \tDriver 44 completed the race distance 00:00.089000 before the recorded end of the session.\n",
      "core           INFO \tFinished loading data for 20 drivers: ['44', '77', '5', '7', '33', '3', '16', '20', '31', '11', '8', '27', '9', '14', '18', '2', '55', '35', '10', '28']\n",
      "core           INFO \tLoading data for Japanese Grand Prix - Race [v3.5.3]\n",
      "req            INFO \tUsing cached data for session_info\n",
      "req            INFO \tUsing cached data for driver_info\n",
      "req            INFO \tUsing cached data for session_status_data\n",
      "req            INFO \tUsing cached data for lap_count\n",
      "req            INFO \tUsing cached data for track_status_data\n",
      "req            INFO \tUsing cached data for _extended_timing_data\n",
      "req            INFO \tUsing cached data for timing_app_data\n",
      "core           INFO \tProcessing timing data...\n"
     ]
    },
    {
     "name": "stdout",
     "output_type": "stream",
     "text": [
      "2018 17\n"
     ]
    },
    {
     "name": "stderr",
     "output_type": "stream",
     "text": [
      "req            INFO \tUsing cached data for weather_data\n",
      "req            INFO \tUsing cached data for race_control_messages\n",
      "core        WARNING \tDriver 44 completed the race distance 00:00.042000 before the recorded end of the session.\n",
      "core           INFO \tFinished loading data for 20 drivers: ['44', '77', '33', '3', '7', '5', '11', '8', '31', '55', '10', '9', '28', '14', '2', '35', '18', '16', '27', '20']\n",
      "core           INFO \tLoading data for United States Grand Prix - Race [v3.5.3]\n",
      "req            INFO \tUsing cached data for session_info\n",
      "req            INFO \tUsing cached data for driver_info\n",
      "req            INFO \tUsing cached data for session_status_data\n",
      "req            INFO \tUsing cached data for lap_count\n",
      "req            INFO \tUsing cached data for track_status_data\n",
      "req            INFO \tUsing cached data for _extended_timing_data\n",
      "req            INFO \tUsing cached data for timing_app_data\n",
      "core           INFO \tProcessing timing data...\n"
     ]
    },
    {
     "name": "stdout",
     "output_type": "stream",
     "text": [
      "2018 18\n"
     ]
    },
    {
     "name": "stderr",
     "output_type": "stream",
     "text": [
      "core        WARNING \tDriver 18: Lap timing integrity check failed for 1 lap(s)\n",
      "req            INFO \tUsing cached data for weather_data\n",
      "req            INFO \tUsing cached data for race_control_messages\n",
      "core        WARNING \tDriver 7 completed the race distance 00:00.022000 before the recorded end of the session.\n",
      "core           INFO \tFinished loading data for 20 drivers: ['7', '33', '44', '5', '77', '27', '55', '11', '28', '9', '2', '10', '35', '18', '16', '3', '8', '14', '31', '20']\n",
      "core           INFO \tLoading data for Mexican Grand Prix - Race [v3.5.3]\n",
      "req            INFO \tUsing cached data for session_info\n",
      "req            INFO \tUsing cached data for driver_info\n",
      "req            INFO \tUsing cached data for session_status_data\n",
      "req            INFO \tUsing cached data for lap_count\n",
      "req            INFO \tUsing cached data for track_status_data\n",
      "req            INFO \tUsing cached data for _extended_timing_data\n",
      "req            INFO \tUsing cached data for timing_app_data\n",
      "core           INFO \tProcessing timing data...\n"
     ]
    },
    {
     "name": "stdout",
     "output_type": "stream",
     "text": [
      "2018 19\n"
     ]
    },
    {
     "name": "stderr",
     "output_type": "stream",
     "text": [
      "req            INFO \tUsing cached data for weather_data\n",
      "req            INFO \tUsing cached data for race_control_messages\n",
      "core        WARNING \tDriver 33 completed the race distance 00:00.015000 before the recorded end of the session.\n",
      "core           INFO \tFinished loading data for 20 drivers: ['33', '5', '7', '44', '77', '27', '16', '2', '9', '10', '31', '18', '35', '28', '20', '8', '3', '11', '55', '14']\n",
      "core           INFO \tLoading data for Brazilian Grand Prix - Race [v3.5.3]\n",
      "req            INFO \tUsing cached data for session_info\n",
      "req            INFO \tUsing cached data for driver_info\n",
      "req            INFO \tUsing cached data for session_status_data\n",
      "req            INFO \tUsing cached data for lap_count\n",
      "req            INFO \tUsing cached data for track_status_data\n",
      "req            INFO \tUsing cached data for _extended_timing_data\n",
      "req            INFO \tUsing cached data for timing_app_data\n",
      "core           INFO \tProcessing timing data...\n"
     ]
    },
    {
     "name": "stdout",
     "output_type": "stream",
     "text": [
      "2018 20\n"
     ]
    },
    {
     "name": "stderr",
     "output_type": "stream",
     "text": [
      "req            INFO \tUsing cached data for weather_data\n",
      "req            INFO \tUsing cached data for race_control_messages\n",
      "core        WARNING \tDriver 44 completed the race distance 00:00.157000 before the recorded end of the session.\n",
      "core           INFO \tFinished loading data for 20 drivers: ['44', '33', '7', '3', '77', '5', '16', '8', '20', '11', '28', '55', '10', '2', '31', '35', '14', '18', '27', '9']\n",
      "core           INFO \tLoading data for Australian Grand Prix - Race [v3.5.3]\n",
      "req            INFO \tUsing cached data for session_info\n",
      "req            INFO \tUsing cached data for driver_info\n",
      "req            INFO \tUsing cached data for session_status_data\n",
      "req            INFO \tUsing cached data for lap_count\n",
      "req            INFO \tUsing cached data for track_status_data\n",
      "req            INFO \tUsing cached data for _extended_timing_data\n",
      "req            INFO \tUsing cached data for timing_app_data\n",
      "core           INFO \tProcessing timing data...\n"
     ]
    },
    {
     "name": "stdout",
     "output_type": "stream",
     "text": [
      "2019 1\n"
     ]
    },
    {
     "name": "stderr",
     "output_type": "stream",
     "text": [
      "core        WARNING \tDriver 16: Lap timing integrity check failed for 1 lap(s)\n",
      "req            INFO \tUsing cached data for weather_data\n",
      "req            INFO \tUsing cached data for race_control_messages\n",
      "core        WARNING \tDriver 77 completed the race distance 00:00.387000 before the recorded end of the session.\n",
      "core           INFO \tFinished loading data for 20 drivers: ['77', '44', '33', '5', '16', '20', '27', '7', '18', '26', '10', '4', '11', '23', '99', '63', '88', '8', '3', '55']\n",
      "core           INFO \tLoading data for Bahrain Grand Prix - Race [v3.5.3]\n",
      "req            INFO \tUsing cached data for session_info\n",
      "req            INFO \tUsing cached data for driver_info\n",
      "req            INFO \tUsing cached data for session_status_data\n",
      "req            INFO \tUsing cached data for lap_count\n",
      "req            INFO \tUsing cached data for track_status_data\n",
      "req            INFO \tUsing cached data for _extended_timing_data\n",
      "req            INFO \tUsing cached data for timing_app_data\n",
      "core           INFO \tProcessing timing data...\n"
     ]
    },
    {
     "name": "stdout",
     "output_type": "stream",
     "text": [
      "2019 2\n"
     ]
    },
    {
     "name": "stderr",
     "output_type": "stream",
     "text": [
      "req            INFO \tUsing cached data for weather_data\n",
      "req            INFO \tUsing cached data for race_control_messages\n",
      "core        WARNING \tDriver 44 completed the race distance 00:00.070000 before the recorded end of the session.\n",
      "core           INFO \tFinished loading data for 20 drivers: ['44', '77', '16', '33', '5', '4', '7', '10', '23', '11', '99', '26', '20', '18', '63', '88', '27', '3', '55', '8']\n",
      "core           INFO \tLoading data for Chinese Grand Prix - Race [v3.5.3]\n",
      "req            INFO \tUsing cached data for session_info\n",
      "req            INFO \tUsing cached data for driver_info\n",
      "req            INFO \tUsing cached data for session_status_data\n",
      "req            INFO \tUsing cached data for lap_count\n",
      "req            INFO \tUsing cached data for track_status_data\n",
      "req            INFO \tUsing cached data for _extended_timing_data\n",
      "req            INFO \tUsing cached data for timing_app_data\n",
      "core           INFO \tProcessing timing data...\n"
     ]
    },
    {
     "name": "stdout",
     "output_type": "stream",
     "text": [
      "2019 3\n"
     ]
    },
    {
     "name": "stderr",
     "output_type": "stream",
     "text": [
      "req            INFO \tUsing cached data for weather_data\n",
      "req            INFO \tUsing cached data for race_control_messages\n",
      "core        WARNING \tDriver 44 completed the race distance 00:00.423000 before the recorded end of the session.\n",
      "core           INFO \tFinished loading data for 20 drivers: ['44', '77', '5', '33', '16', '10', '3', '11', '7', '23', '8', '18', '20', '55', '99', '63', '88', '4', '26', '27']\n",
      "core           INFO \tLoading data for Azerbaijan Grand Prix - Race [v3.5.3]\n",
      "req            INFO \tUsing cached data for session_info\n",
      "req            INFO \tUsing cached data for driver_info\n",
      "req            INFO \tUsing cached data for session_status_data\n",
      "req            INFO \tUsing cached data for lap_count\n",
      "req            INFO \tUsing cached data for track_status_data\n",
      "req            INFO \tUsing cached data for _extended_timing_data\n",
      "req            INFO \tUsing cached data for timing_app_data\n",
      "core           INFO \tProcessing timing data...\n"
     ]
    },
    {
     "name": "stdout",
     "output_type": "stream",
     "text": [
      "2019 4\n"
     ]
    },
    {
     "name": "stderr",
     "output_type": "stream",
     "text": [
      "req            INFO \tUsing cached data for weather_data\n",
      "req            INFO \tUsing cached data for race_control_messages\n",
      "core        WARNING \tDriver 77 completed the race distance 00:00.075000 before the recorded end of the session.\n",
      "core           INFO \tFinished loading data for 20 drivers: ['77', '44', '5', '33', '16', '11', '55', '4', '18', '7', '23', '99', '20', '27', '63', '88', '10', '8', '26', '3']\n",
      "core           INFO \tLoading data for Spanish Grand Prix - Race [v3.5.3]\n",
      "req            INFO \tUsing cached data for session_info\n",
      "req            INFO \tUsing cached data for driver_info\n",
      "req            INFO \tUsing cached data for session_status_data\n",
      "req            INFO \tUsing cached data for lap_count\n",
      "req            INFO \tUsing cached data for track_status_data\n",
      "req            INFO \tUsing cached data for _extended_timing_data\n",
      "req            INFO \tUsing cached data for timing_app_data\n",
      "core           INFO \tProcessing timing data...\n"
     ]
    },
    {
     "name": "stdout",
     "output_type": "stream",
     "text": [
      "2019 5\n"
     ]
    },
    {
     "name": "stderr",
     "output_type": "stream",
     "text": [
      "req            INFO \tUsing cached data for weather_data\n",
      "req            INFO \tUsing cached data for race_control_messages\n",
      "core        WARNING \tDriver 44 completed the race distance 00:00.059000 before the recorded end of the session.\n",
      "core           INFO \tFinished loading data for 20 drivers: ['44', '77', '33', '5', '16', '10', '20', '55', '26', '8', '23', '3', '27', '7', '11', '99', '63', '88', '18', '4']\n",
      "core           INFO \tLoading data for Monaco Grand Prix - Race [v3.5.3]\n",
      "req            INFO \tUsing cached data for session_info\n",
      "req            INFO \tUsing cached data for driver_info\n",
      "req            INFO \tUsing cached data for session_status_data\n",
      "req            INFO \tUsing cached data for lap_count\n",
      "req            INFO \tUsing cached data for track_status_data\n",
      "req            INFO \tUsing cached data for _extended_timing_data\n",
      "req            INFO \tUsing cached data for timing_app_data\n",
      "core           INFO \tProcessing timing data...\n"
     ]
    },
    {
     "name": "stdout",
     "output_type": "stream",
     "text": [
      "2019 6\n"
     ]
    },
    {
     "name": "stderr",
     "output_type": "stream",
     "text": [
      "req            INFO \tUsing cached data for weather_data\n",
      "req            INFO \tUsing cached data for race_control_messages\n",
      "core        WARNING \tDriver 44 completed the race distance 00:00.087000 before the recorded end of the session.\n",
      "core           INFO \tFinished loading data for 20 drivers: ['44', '5', '77', '33', '10', '55', '26', '23', '3', '8', '4', '11', '27', '20', '63', '18', '7', '88', '99', '16']\n",
      "core           INFO \tLoading data for Canadian Grand Prix - Race [v3.5.3]\n",
      "req            INFO \tUsing cached data for session_info\n",
      "req            INFO \tUsing cached data for driver_info\n",
      "req            INFO \tUsing cached data for session_status_data\n",
      "req            INFO \tUsing cached data for lap_count\n",
      "req            INFO \tUsing cached data for track_status_data\n",
      "req            INFO \tUsing cached data for _extended_timing_data\n",
      "req            INFO \tUsing cached data for timing_app_data\n",
      "core           INFO \tProcessing timing data...\n"
     ]
    },
    {
     "name": "stdout",
     "output_type": "stream",
     "text": [
      "2019 7\n"
     ]
    },
    {
     "name": "stderr",
     "output_type": "stream",
     "text": [
      "req            INFO \tUsing cached data for weather_data\n",
      "req            INFO \tUsing cached data for race_control_messages\n",
      "core        WARNING \tDriver 5 completed the race distance 00:00.190000 before the recorded end of the session.\n",
      "core           INFO \tFinished loading data for 20 drivers: ['44', '5', '16', '77', '33', '3', '27', '10', '18', '26', '55', '11', '99', '8', '7', '63', '20', '88', '23', '4']\n",
      "core           INFO \tLoading data for French Grand Prix - Race [v3.5.3]\n",
      "req            INFO \tUsing cached data for session_info\n",
      "req            INFO \tUsing cached data for driver_info\n",
      "req            INFO \tUsing cached data for session_status_data\n",
      "req            INFO \tUsing cached data for lap_count\n",
      "req            INFO \tUsing cached data for track_status_data\n",
      "req            INFO \tUsing cached data for _extended_timing_data\n",
      "req            INFO \tUsing cached data for timing_app_data\n",
      "core           INFO \tProcessing timing data...\n"
     ]
    },
    {
     "name": "stdout",
     "output_type": "stream",
     "text": [
      "2019 8\n"
     ]
    },
    {
     "name": "stderr",
     "output_type": "stream",
     "text": [
      "core        WARNING \tDriver 27: Lap timing integrity check failed for 1 lap(s)\n",
      "req            INFO \tUsing cached data for weather_data\n",
      "req            INFO \tUsing cached data for race_control_messages\n",
      "core        WARNING \tDriver 44 completed the race distance 00:00.126000 before the recorded end of the session.\n",
      "core           INFO \tFinished loading data for 20 drivers: ['44', '77', '16', '33', '5', '55', '7', '27', '4', '10', '3', '11', '18', '26', '23', '99', '20', '88', '63', '8']\n",
      "core           INFO \tLoading data for Austrian Grand Prix - Race [v3.5.3]\n",
      "req            INFO \tUsing cached data for session_info\n",
      "req            INFO \tUsing cached data for driver_info\n",
      "req            INFO \tUsing cached data for session_status_data\n",
      "req            INFO \tUsing cached data for lap_count\n",
      "req            INFO \tUsing cached data for track_status_data\n",
      "req            INFO \tUsing cached data for _extended_timing_data\n",
      "req            INFO \tUsing cached data for timing_app_data\n",
      "core           INFO \tProcessing timing data...\n"
     ]
    },
    {
     "name": "stdout",
     "output_type": "stream",
     "text": [
      "2019 9\n"
     ]
    },
    {
     "name": "stderr",
     "output_type": "stream",
     "text": [
      "req            INFO \tUsing cached data for weather_data\n",
      "req            INFO \tUsing cached data for race_control_messages\n",
      "core        WARNING \tDriver 33 completed the race distance 00:00.042000 before the recorded end of the session.\n",
      "core           INFO \tFinished loading data for 20 drivers: ['33', '16', '77', '5', '44', '4', '10', '55', '7', '99', '11', '3', '27', '18', '23', '8', '26', '63', '20', '88']\n",
      "core           INFO \tLoading data for British Grand Prix - Race [v3.5.3]\n",
      "req            INFO \tUsing cached data for session_info\n",
      "req            INFO \tUsing cached data for driver_info\n",
      "req            INFO \tUsing cached data for session_status_data\n",
      "req            INFO \tNo cached data found for lap_count. Loading data...\n",
      "_api           INFO \tFetching lap count data...\n"
     ]
    },
    {
     "name": "stdout",
     "output_type": "stream",
     "text": [
      "2019 10\n"
     ]
    },
    {
     "name": "stderr",
     "output_type": "stream",
     "text": [
      "req            INFO \tData has been written to cache!\n",
      "req            INFO \tNo cached data found for track_status_data. Loading data...\n",
      "_api           INFO \tFetching track status data...\n",
      "req            INFO \tData has been written to cache!\n",
      "req            INFO \tNo cached data found for _extended_timing_data. Loading data...\n",
      "_api           INFO \tFetching timing data...\n",
      "_api           INFO \tParsing timing data...\n",
      "_api        WARNING \tFailed to align laps for drivers: ['20']\n",
      "req            INFO \tData has been written to cache!\n",
      "req            INFO \tNo cached data found for timing_app_data. Loading data...\n",
      "_api           INFO \tFetching timing app data...\n",
      "req            INFO \tData has been written to cache!\n",
      "core           INFO \tProcessing timing data...\n",
      "req            INFO \tNo cached data found for weather_data. Loading data...\n",
      "_api           INFO \tFetching weather data...\n",
      "req            INFO \tData has been written to cache!\n",
      "req            INFO \tNo cached data found for race_control_messages. Loading data...\n",
      "_api           INFO \tFetching race control messages...\n",
      "req            INFO \tData has been written to cache!\n",
      "core        WARNING \tDriver 44 completed the race distance 00:00.042000 before the recorded end of the session.\n",
      "core           INFO \tFinished loading data for 20 drivers: ['44', '77', '16', '10', '33', '55', '3', '7', '26', '27', '4', '23', '18', '63', '88', '5', '11', '99', '8', '20']\n",
      "core           INFO \tLoading data for German Grand Prix - Race [v3.5.3]\n",
      "req            INFO \tNo cached data found for session_info. Loading data...\n",
      "_api           INFO \tFetching session info data...\n"
     ]
    },
    {
     "name": "stdout",
     "output_type": "stream",
     "text": [
      "2019 11\n"
     ]
    },
    {
     "name": "stderr",
     "output_type": "stream",
     "text": [
      "req            INFO \tData has been written to cache!\n",
      "req            INFO \tNo cached data found for driver_info. Loading data...\n",
      "_api           INFO \tFetching driver list...\n",
      "req            INFO \tData has been written to cache!\n",
      "req            INFO \tNo cached data found for session_status_data. Loading data...\n",
      "_api           INFO \tFetching session status data...\n",
      "req            INFO \tData has been written to cache!\n",
      "req            INFO \tNo cached data found for lap_count. Loading data...\n",
      "_api           INFO \tFetching lap count data...\n",
      "req            INFO \tData has been written to cache!\n",
      "req            INFO \tNo cached data found for track_status_data. Loading data...\n",
      "_api           INFO \tFetching track status data...\n",
      "req            INFO \tData has been written to cache!\n",
      "req            INFO \tNo cached data found for _extended_timing_data. Loading data...\n",
      "_api           INFO \tFetching timing data...\n",
      "_api           INFO \tParsing timing data...\n",
      "_api        WARNING \tFailed to align laps for drivers: ['11']\n",
      "req            INFO \tData has been written to cache!\n",
      "req            INFO \tNo cached data found for timing_app_data. Loading data...\n",
      "_api           INFO \tFetching timing app data...\n",
      "req            INFO \tData has been written to cache!\n",
      "core           INFO \tProcessing timing data...\n",
      "req            INFO \tNo cached data found for weather_data. Loading data...\n",
      "_api           INFO \tFetching weather data...\n",
      "req            INFO \tData has been written to cache!\n",
      "req            INFO \tNo cached data found for race_control_messages. Loading data...\n",
      "_api           INFO \tFetching race control messages...\n",
      "req            INFO \tData has been written to cache!\n",
      "core        WARNING \tDriver 33 completed the race distance 00:00.090000 before the recorded end of the session.\n",
      "core           INFO \tFinished loading data for 20 drivers: ['33', '5', '26', '18', '55', '23', '8', '20', '44', '88', '63', '7', '99', '10', '77', '27', '16', '4', '3', '11']\n",
      "core           INFO \tLoading data for Hungarian Grand Prix - Race [v3.5.3]\n",
      "req            INFO \tNo cached data found for session_info. Loading data...\n",
      "_api           INFO \tFetching session info data...\n"
     ]
    },
    {
     "name": "stdout",
     "output_type": "stream",
     "text": [
      "2019 12\n"
     ]
    },
    {
     "name": "stderr",
     "output_type": "stream",
     "text": [
      "req            INFO \tData has been written to cache!\n",
      "req            INFO \tNo cached data found for driver_info. Loading data...\n",
      "_api           INFO \tFetching driver list...\n",
      "req            INFO \tData has been written to cache!\n",
      "req            INFO \tNo cached data found for session_status_data. Loading data...\n",
      "_api           INFO \tFetching session status data...\n",
      "req            INFO \tData has been written to cache!\n",
      "req            INFO \tNo cached data found for lap_count. Loading data...\n",
      "_api           INFO \tFetching lap count data...\n",
      "req            INFO \tData has been written to cache!\n",
      "req            INFO \tNo cached data found for track_status_data. Loading data...\n",
      "_api           INFO \tFetching track status data...\n",
      "req            INFO \tData has been written to cache!\n",
      "req            INFO \tNo cached data found for _extended_timing_data. Loading data...\n",
      "_api           INFO \tFetching timing data...\n",
      "_api           INFO \tParsing timing data...\n",
      "req            INFO \tData has been written to cache!\n",
      "req            INFO \tNo cached data found for timing_app_data. Loading data...\n",
      "_api           INFO \tFetching timing app data...\n",
      "req            INFO \tData has been written to cache!\n",
      "core           INFO \tProcessing timing data...\n",
      "req            INFO \tNo cached data found for weather_data. Loading data...\n",
      "_api           INFO \tFetching weather data...\n",
      "req            INFO \tData has been written to cache!\n",
      "req            INFO \tNo cached data found for race_control_messages. Loading data...\n",
      "_api           INFO \tFetching race control messages...\n",
      "req            INFO \tData has been written to cache!\n",
      "core        WARNING \tDriver 44 completed the race distance 00:00.069000 before the recorded end of the session.\n",
      "core           INFO \tFinished loading data for 20 drivers: ['44', '33', '5', '16', '55', '10', '7', '77', '4', '23', '11', '27', '20', '3', '26', '63', '18', '99', '88', '8']\n",
      "core           INFO \tLoading data for Belgian Grand Prix - Race [v3.5.3]\n",
      "req            INFO \tNo cached data found for session_info. Loading data...\n",
      "_api           INFO \tFetching session info data...\n"
     ]
    },
    {
     "name": "stdout",
     "output_type": "stream",
     "text": [
      "2019 13\n"
     ]
    },
    {
     "name": "stderr",
     "output_type": "stream",
     "text": [
      "req            INFO \tData has been written to cache!\n",
      "req            INFO \tNo cached data found for driver_info. Loading data...\n",
      "_api           INFO \tFetching driver list...\n",
      "req            INFO \tData has been written to cache!\n",
      "req            INFO \tNo cached data found for session_status_data. Loading data...\n",
      "_api           INFO \tFetching session status data...\n",
      "req            INFO \tData has been written to cache!\n",
      "req            INFO \tNo cached data found for lap_count. Loading data...\n",
      "_api           INFO \tFetching lap count data...\n",
      "req            INFO \tData has been written to cache!\n",
      "req            INFO \tNo cached data found for track_status_data. Loading data...\n",
      "_api           INFO \tFetching track status data...\n",
      "req            INFO \tData has been written to cache!\n",
      "req            INFO \tNo cached data found for _extended_timing_data. Loading data...\n",
      "_api           INFO \tFetching timing data...\n",
      "_api           INFO \tParsing timing data...\n",
      "_api        WARNING \tFailed to align laps for drivers: ['55']\n",
      "req            INFO \tData has been written to cache!\n",
      "req            INFO \tNo cached data found for timing_app_data. Loading data...\n",
      "_api           INFO \tFetching timing app data...\n",
      "req            INFO \tData has been written to cache!\n",
      "core           INFO \tProcessing timing data...\n",
      "req            INFO \tNo cached data found for weather_data. Loading data...\n",
      "_api           INFO \tFetching weather data...\n",
      "req            INFO \tData has been written to cache!\n",
      "req            INFO \tNo cached data found for race_control_messages. Loading data...\n",
      "_api           INFO \tFetching race control messages...\n",
      "req            INFO \tData has been written to cache!\n",
      "core        WARNING \tDriver 16 completed the race distance 00:00.211000 before the recorded end of the session.\n",
      "core           INFO \tFinished loading data for 20 drivers: ['16', '44', '77', '5', '23', '11', '26', '27', '10', '18', '4', '20', '8', '3', '63', '7', '88', '99', '55', '33']\n",
      "core           INFO \tLoading data for Italian Grand Prix - Race [v3.5.3]\n",
      "req            INFO \tNo cached data found for session_info. Loading data...\n",
      "_api           INFO \tFetching session info data...\n"
     ]
    },
    {
     "name": "stdout",
     "output_type": "stream",
     "text": [
      "2019 14\n"
     ]
    },
    {
     "name": "stderr",
     "output_type": "stream",
     "text": [
      "req            INFO \tData has been written to cache!\n",
      "req            INFO \tNo cached data found for driver_info. Loading data...\n",
      "_api           INFO \tFetching driver list...\n",
      "req            INFO \tData has been written to cache!\n",
      "req            INFO \tNo cached data found for session_status_data. Loading data...\n",
      "_api           INFO \tFetching session status data...\n",
      "req            INFO \tData has been written to cache!\n",
      "req            INFO \tNo cached data found for lap_count. Loading data...\n",
      "_api           INFO \tFetching lap count data...\n",
      "req            INFO \tData has been written to cache!\n",
      "req            INFO \tNo cached data found for track_status_data. Loading data...\n",
      "_api           INFO \tFetching track status data...\n",
      "req            INFO \tData has been written to cache!\n",
      "req            INFO \tNo cached data found for _extended_timing_data. Loading data...\n",
      "_api           INFO \tFetching timing data...\n",
      "_api           INFO \tParsing timing data...\n",
      "req            INFO \tData has been written to cache!\n",
      "req            INFO \tNo cached data found for timing_app_data. Loading data...\n",
      "_api           INFO \tFetching timing app data...\n",
      "req            INFO \tData has been written to cache!\n",
      "core           INFO \tProcessing timing data...\n",
      "req            INFO \tNo cached data found for weather_data. Loading data...\n",
      "_api           INFO \tFetching weather data...\n",
      "req            INFO \tData has been written to cache!\n",
      "req            INFO \tNo cached data found for race_control_messages. Loading data...\n",
      "_api           INFO \tFetching race control messages...\n",
      "req            INFO \tData has been written to cache!\n",
      "core        WARNING \tDriver 16 completed the race distance 00:00.092000 before the recorded end of the session.\n",
      "core           INFO \tFinished loading data for 20 drivers: ['16', '77', '44', '3', '27', '23', '11', '33', '99', '4', '10', '18', '5', '63', '7', '8', '88', '20', '26', '55']\n",
      "core           INFO \tLoading data for Singapore Grand Prix - Race [v3.5.3]\n",
      "req            INFO \tNo cached data found for session_info. Loading data...\n",
      "_api           INFO \tFetching session info data...\n"
     ]
    },
    {
     "name": "stdout",
     "output_type": "stream",
     "text": [
      "2019 15\n"
     ]
    },
    {
     "name": "stderr",
     "output_type": "stream",
     "text": [
      "req            INFO \tData has been written to cache!\n",
      "req            INFO \tNo cached data found for driver_info. Loading data...\n",
      "_api           INFO \tFetching driver list...\n",
      "req            INFO \tData has been written to cache!\n",
      "req            INFO \tNo cached data found for session_status_data. Loading data...\n",
      "_api           INFO \tFetching session status data...\n",
      "req            INFO \tData has been written to cache!\n",
      "req            INFO \tNo cached data found for lap_count. Loading data...\n",
      "_api           INFO \tFetching lap count data...\n",
      "req            INFO \tData has been written to cache!\n",
      "req            INFO \tNo cached data found for track_status_data. Loading data...\n",
      "_api           INFO \tFetching track status data...\n",
      "req            INFO \tData has been written to cache!\n",
      "req            INFO \tNo cached data found for _extended_timing_data. Loading data...\n",
      "_api           INFO \tFetching timing data...\n",
      "_api           INFO \tParsing timing data...\n",
      "_api        WARNING \tFailed to align laps for drivers: ['55']\n",
      "req            INFO \tData has been written to cache!\n",
      "req            INFO \tNo cached data found for timing_app_data. Loading data...\n",
      "_api           INFO \tFetching timing app data...\n",
      "req            INFO \tData has been written to cache!\n",
      "core           INFO \tProcessing timing data...\n",
      "core        WARNING \tDriver 18: Lap timing integrity check failed for 1 lap(s)\n",
      "req            INFO \tNo cached data found for weather_data. Loading data...\n",
      "_api           INFO \tFetching weather data...\n",
      "req            INFO \tData has been written to cache!\n",
      "req            INFO \tNo cached data found for race_control_messages. Loading data...\n",
      "_api           INFO \tFetching race control messages...\n",
      "req            INFO \tData has been written to cache!\n",
      "core        WARNING \tDriver 5 completed the race distance 00:00.171000 before the recorded end of the session.\n",
      "core           INFO \tFinished loading data for 20 drivers: ['5', '16', '33', '44', '77', '23', '4', '10', '27', '99', '8', '55', '18', '3', '26', '88', '20', '7', '11', '63']\n",
      "core           INFO \tLoading data for Russian Grand Prix - Race [v3.5.3]\n",
      "req            INFO \tNo cached data found for session_info. Loading data...\n",
      "_api           INFO \tFetching session info data...\n"
     ]
    },
    {
     "name": "stdout",
     "output_type": "stream",
     "text": [
      "2019 16\n"
     ]
    },
    {
     "name": "stderr",
     "output_type": "stream",
     "text": [
      "req            INFO \tData has been written to cache!\n",
      "req            INFO \tNo cached data found for driver_info. Loading data...\n",
      "_api           INFO \tFetching driver list...\n",
      "req            INFO \tData has been written to cache!\n",
      "req            INFO \tNo cached data found for session_status_data. Loading data...\n",
      "_api           INFO \tFetching session status data...\n",
      "req            INFO \tData has been written to cache!\n",
      "req            INFO \tNo cached data found for lap_count. Loading data...\n",
      "_api           INFO \tFetching lap count data...\n",
      "req            INFO \tData has been written to cache!\n",
      "req            INFO \tNo cached data found for track_status_data. Loading data...\n",
      "_api           INFO \tFetching track status data...\n",
      "req            INFO \tData has been written to cache!\n",
      "req            INFO \tNo cached data found for _extended_timing_data. Loading data...\n",
      "_api           INFO \tFetching timing data...\n",
      "_api           INFO \tParsing timing data...\n",
      "req            INFO \tData has been written to cache!\n",
      "req            INFO \tNo cached data found for timing_app_data. Loading data...\n",
      "_api           INFO \tFetching timing app data...\n",
      "req            INFO \tData has been written to cache!\n",
      "core           INFO \tProcessing timing data...\n",
      "req            INFO \tNo cached data found for weather_data. Loading data...\n",
      "_api           INFO \tFetching weather data...\n",
      "req            INFO \tData has been written to cache!\n",
      "req            INFO \tNo cached data found for race_control_messages. Loading data...\n",
      "_api           INFO \tFetching race control messages...\n",
      "req            INFO \tData has been written to cache!\n",
      "core        WARNING \tDriver 44 completed the race distance 00:00.308000 before the recorded end of the session.\n",
      "core           INFO \tFinished loading data for 20 drivers: ['44', '77', '16', '33', '23', '55', '11', '4', '20', '27', '18', '26', '7', '10', '99', '88', '63', '5', '3', '8']\n",
      "core           INFO \tLoading data for Japanese Grand Prix - Race [v3.5.3]\n",
      "req            INFO \tNo cached data found for session_info. Loading data...\n",
      "_api           INFO \tFetching session info data...\n"
     ]
    },
    {
     "name": "stdout",
     "output_type": "stream",
     "text": [
      "2019 17\n"
     ]
    },
    {
     "name": "stderr",
     "output_type": "stream",
     "text": [
      "req            INFO \tData has been written to cache!\n",
      "req            INFO \tNo cached data found for driver_info. Loading data...\n",
      "_api           INFO \tFetching driver list...\n",
      "req            INFO \tData has been written to cache!\n",
      "req            INFO \tNo cached data found for session_status_data. Loading data...\n",
      "_api           INFO \tFetching session status data...\n",
      "req            INFO \tData has been written to cache!\n",
      "req            INFO \tNo cached data found for lap_count. Loading data...\n",
      "_api           INFO \tFetching lap count data...\n",
      "req            INFO \tData has been written to cache!\n",
      "req            INFO \tNo cached data found for track_status_data. Loading data...\n",
      "_api           INFO \tFetching track status data...\n",
      "req            INFO \tData has been written to cache!\n",
      "req            INFO \tNo cached data found for _extended_timing_data. Loading data...\n",
      "_api           INFO \tFetching timing data...\n",
      "_api           INFO \tParsing timing data...\n",
      "_api        WARNING \tDriver  5: Ignoring late data for a previously processed lap.The data may contain errors (previous: 52; current 53)\n",
      "_api        WARNING \tDriver 16: Ignoring late data for a previously processed lap.The data may contain errors (previous: 51; current 52)\n",
      "_api        WARNING \tDriver 77: Ignoring late data for a previously processed lap.The data may contain errors (previous: 52; current 53)\n",
      "_api        WARNING \tDriver 44: Ignoring late data for a previously processed lap.The data may contain errors (previous: 52; current 53)\n",
      "_api        WARNING \tDriver 23: Ignoring late data for a previously processed lap.The data may contain errors (previous: 52; current 53)\n",
      "_api        WARNING \tDriver 55: Ignoring late data for a previously processed lap.The data may contain errors (previous: 52; current 53)\n",
      "_api        WARNING \tDriver  4: Ignoring late data for a previously processed lap.The data may contain errors (previous: 51; current 52)\n",
      "_api        WARNING \tDriver 10: Ignoring late data for a previously processed lap.The data may contain errors (previous: 51; current 52)\n",
      "_api        WARNING \tDriver  8: Ignoring late data for a previously processed lap.The data may contain errors (previous: 51; current 52)\n",
      "_api        WARNING \tDriver 99: Ignoring late data for a previously processed lap.The data may contain errors (previous: 51; current 52)\n",
      "_api        WARNING \tDriver 18: Ignoring late data for a previously processed lap.The data may contain errors (previous: 51; current 52)\n",
      "_api        WARNING \tDriver  7: Ignoring late data for a previously processed lap.The data may contain errors (previous: 51; current 52)\n",
      "_api        WARNING \tDriver 26: Ignoring late data for a previously processed lap.The data may contain errors (previous: 51; current 52)\n",
      "_api        WARNING \tDriver 27: Ignoring late data for a previously processed lap.The data may contain errors (previous: 51; current 52)\n",
      "_api        WARNING \tDriver  3: Ignoring late data for a previously processed lap.The data may contain errors (previous: 51; current 52)\n",
      "_api        WARNING \tDriver 63: Ignoring late data for a previously processed lap.The data may contain errors (previous: 50; current 51)\n",
      "_api        WARNING \tDriver 20: Ignoring late data for a previously processed lap.The data may contain errors (previous: 51; current 52)\n",
      "_api        WARNING \tDriver 88: Ignoring late data for a previously processed lap.The data may contain errors (previous: 50; current 51)\n",
      "req            INFO \tData has been written to cache!\n",
      "req            INFO \tNo cached data found for timing_app_data. Loading data...\n",
      "_api           INFO \tFetching timing app data...\n",
      "req            INFO \tData has been written to cache!\n",
      "core           INFO \tProcessing timing data...\n",
      "req            INFO \tNo cached data found for weather_data. Loading data...\n",
      "_api           INFO \tFetching weather data...\n",
      "req            INFO \tData has been written to cache!\n",
      "req            INFO \tNo cached data found for race_control_messages. Loading data...\n",
      "_api           INFO \tFetching race control messages...\n",
      "req            INFO \tData has been written to cache!\n",
      "core        WARNING \tDriver 77 completed the race distance 00:00.224000 before the recorded end of the session.\n",
      "core           INFO \tFinished loading data for 20 drivers: ['77', '5', '44', '23', '55', '16', '10', '11', '18', '26', '4', '7', '8', '99', '20', '63', '88', '33', '3', '27']\n",
      "core           INFO \tLoading data for Mexican Grand Prix - Race [v3.5.3]\n",
      "req            INFO \tNo cached data found for session_info. Loading data...\n",
      "_api           INFO \tFetching session info data...\n"
     ]
    },
    {
     "name": "stdout",
     "output_type": "stream",
     "text": [
      "2019 18\n"
     ]
    },
    {
     "name": "stderr",
     "output_type": "stream",
     "text": [
      "req            INFO \tData has been written to cache!\n",
      "req            INFO \tNo cached data found for driver_info. Loading data...\n",
      "_api           INFO \tFetching driver list...\n",
      "req            INFO \tData has been written to cache!\n",
      "req            INFO \tNo cached data found for session_status_data. Loading data...\n",
      "_api           INFO \tFetching session status data...\n",
      "req            INFO \tData has been written to cache!\n",
      "req            INFO \tNo cached data found for lap_count. Loading data...\n",
      "_api           INFO \tFetching lap count data...\n",
      "req            INFO \tData has been written to cache!\n",
      "req            INFO \tNo cached data found for track_status_data. Loading data...\n",
      "_api           INFO \tFetching track status data...\n",
      "req            INFO \tData has been written to cache!\n",
      "req            INFO \tNo cached data found for _extended_timing_data. Loading data...\n",
      "_api           INFO \tFetching timing data...\n",
      "_api           INFO \tParsing timing data...\n",
      "req            INFO \tData has been written to cache!\n",
      "req            INFO \tNo cached data found for timing_app_data. Loading data...\n",
      "_api           INFO \tFetching timing app data...\n",
      "req            INFO \tData has been written to cache!\n",
      "core           INFO \tProcessing timing data...\n",
      "core        WARNING \tDriver  5: Lap timing integrity check failed for 1 lap(s)\n",
      "req            INFO \tNo cached data found for weather_data. Loading data...\n",
      "_api           INFO \tFetching weather data...\n",
      "req            INFO \tData has been written to cache!\n",
      "req            INFO \tNo cached data found for race_control_messages. Loading data...\n",
      "_api           INFO \tFetching race control messages...\n",
      "req            INFO \tData has been written to cache!\n",
      "core        WARNING \tDriver 44 completed the race distance 00:00.798000 before the recorded end of the session.\n",
      "core           INFO \tFinished loading data for 20 drivers: ['44', '5', '77', '16', '23', '33', '11', '3', '10', '27', '26', '18', '55', '99', '20', '63', '8', '88', '7', '4']\n",
      "core           INFO \tLoading data for United States Grand Prix - Race [v3.5.3]\n",
      "req            INFO \tNo cached data found for session_info. Loading data...\n",
      "_api           INFO \tFetching session info data...\n"
     ]
    },
    {
     "name": "stdout",
     "output_type": "stream",
     "text": [
      "2019 19\n"
     ]
    },
    {
     "name": "stderr",
     "output_type": "stream",
     "text": [
      "req            INFO \tData has been written to cache!\n",
      "req            INFO \tNo cached data found for driver_info. Loading data...\n",
      "_api           INFO \tFetching driver list...\n",
      "req            INFO \tData has been written to cache!\n",
      "req            INFO \tNo cached data found for session_status_data. Loading data...\n",
      "_api           INFO \tFetching session status data...\n",
      "req            INFO \tData has been written to cache!\n",
      "req            INFO \tNo cached data found for lap_count. Loading data...\n",
      "_api           INFO \tFetching lap count data...\n",
      "req            INFO \tData has been written to cache!\n",
      "req            INFO \tNo cached data found for track_status_data. Loading data...\n",
      "_api           INFO \tFetching track status data...\n",
      "req            INFO \tData has been written to cache!\n",
      "req            INFO \tNo cached data found for _extended_timing_data. Loading data...\n",
      "_api           INFO \tFetching timing data...\n",
      "_api           INFO \tParsing timing data...\n",
      "req            INFO \tData has been written to cache!\n",
      "req            INFO \tNo cached data found for timing_app_data. Loading data...\n",
      "_api           INFO \tFetching timing app data...\n",
      "req            INFO \tData has been written to cache!\n",
      "core           INFO \tProcessing timing data...\n",
      "core        WARNING \tDriver  4: Lap timing integrity check failed for 1 lap(s)\n",
      "req            INFO \tNo cached data found for weather_data. Loading data...\n",
      "_api           INFO \tFetching weather data...\n",
      "req            INFO \tData has been written to cache!\n",
      "req            INFO \tNo cached data found for race_control_messages. Loading data...\n",
      "_api           INFO \tFetching race control messages...\n",
      "req            INFO \tData has been written to cache!\n",
      "core        WARNING \tDriver 77 completed the race distance 00:00.080000 before the recorded end of the session.\n",
      "core           INFO \tFinished loading data for 20 drivers: ['77', '44', '33', '16', '23', '3', '4', '55', '27', '11', '7', '26', '18', '99', '8', '10', '63', '20', '88', '5']\n",
      "core           INFO \tLoading data for Brazilian Grand Prix - Race [v3.5.3]\n",
      "req            INFO \tNo cached data found for session_info. Loading data...\n",
      "_api           INFO \tFetching session info data...\n"
     ]
    },
    {
     "name": "stdout",
     "output_type": "stream",
     "text": [
      "2019 20\n"
     ]
    },
    {
     "name": "stderr",
     "output_type": "stream",
     "text": [
      "req            INFO \tData has been written to cache!\n",
      "req            INFO \tNo cached data found for driver_info. Loading data...\n",
      "_api           INFO \tFetching driver list...\n",
      "req            INFO \tData has been written to cache!\n",
      "req            INFO \tNo cached data found for session_status_data. Loading data...\n",
      "_api           INFO \tFetching session status data...\n",
      "req            INFO \tData has been written to cache!\n",
      "req            INFO \tNo cached data found for lap_count. Loading data...\n",
      "_api           INFO \tFetching lap count data...\n",
      "req            INFO \tData has been written to cache!\n",
      "req            INFO \tNo cached data found for track_status_data. Loading data...\n",
      "_api           INFO \tFetching track status data...\n",
      "req            INFO \tData has been written to cache!\n",
      "req            INFO \tNo cached data found for _extended_timing_data. Loading data...\n",
      "_api           INFO \tFetching timing data...\n",
      "_api           INFO \tParsing timing data...\n",
      "_api        WARNING \tDriver 20: Encountered 1 timing integrity error(s) near lap(s): [7].\n",
      "This might be a bug and should be reported.\n",
      "req            INFO \tData has been written to cache!\n",
      "req            INFO \tNo cached data found for timing_app_data. Loading data...\n",
      "_api           INFO \tFetching timing app data...\n",
      "req            INFO \tData has been written to cache!\n",
      "core           INFO \tProcessing timing data...\n",
      "core        WARNING \tDriver 20: Lap timing integrity check failed for 1 lap(s)\n",
      "req            INFO \tNo cached data found for weather_data. Loading data...\n",
      "_api           INFO \tFetching weather data...\n",
      "req            INFO \tData has been written to cache!\n",
      "req            INFO \tNo cached data found for race_control_messages. Loading data...\n",
      "_api           INFO \tFetching race control messages...\n",
      "req            INFO \tData has been written to cache!\n",
      "core        WARNING \tDriver 33 completed the race distance 00:00.145000 before the recorded end of the session.\n",
      "core           INFO \tFinished loading data for 20 drivers: ['33', '10', '55', '7', '99', '3', '44', '4', '11', '26', '20', '63', '8', '23', '27', '88', '5', '16', '18', '77']\n",
      "core           INFO \tLoading data for Austrian Grand Prix - Race [v3.5.3]\n",
      "req            INFO \tNo cached data found for session_info. Loading data...\n",
      "_api           INFO \tFetching session info data...\n"
     ]
    },
    {
     "name": "stdout",
     "output_type": "stream",
     "text": [
      "2020 1\n"
     ]
    },
    {
     "name": "stderr",
     "output_type": "stream",
     "text": [
      "req            INFO \tData has been written to cache!\n",
      "req            INFO \tNo cached data found for driver_info. Loading data...\n",
      "_api           INFO \tFetching driver list...\n",
      "req            INFO \tData has been written to cache!\n",
      "req            INFO \tNo cached data found for session_status_data. Loading data...\n",
      "_api           INFO \tFetching session status data...\n",
      "req            INFO \tData has been written to cache!\n",
      "req            INFO \tNo cached data found for lap_count. Loading data...\n",
      "_api           INFO \tFetching lap count data...\n",
      "req            INFO \tData has been written to cache!\n",
      "req            INFO \tNo cached data found for track_status_data. Loading data...\n",
      "_api           INFO \tFetching track status data...\n",
      "req            INFO \tData has been written to cache!\n",
      "req            INFO \tNo cached data found for _extended_timing_data. Loading data...\n",
      "_api           INFO \tFetching timing data...\n",
      "_api           INFO \tParsing timing data...\n",
      "_api        WARNING \tDriver 63: Encountered 1 timing integrity error(s) near lap(s): [9].\n",
      "This might be a bug and should be reported.\n",
      "_api        WARNING \tDriver  7: Encountered 1 timing integrity error(s) near lap(s): [9].\n",
      "This might be a bug and should be reported.\n",
      "req            INFO \tData has been written to cache!\n",
      "req            INFO \tNo cached data found for timing_app_data. Loading data...\n",
      "_api           INFO \tFetching timing app data...\n",
      "req            INFO \tData has been written to cache!\n",
      "core           INFO \tProcessing timing data...\n",
      "core        WARNING \tDriver 77: Lap timing integrity check failed for 1 lap(s)\n",
      "core        WARNING \tDriver 16: Lap timing integrity check failed for 1 lap(s)\n",
      "core        WARNING \tDriver  4: Lap timing integrity check failed for 1 lap(s)\n",
      "core        WARNING \tDriver 44: Lap timing integrity check failed for 1 lap(s)\n",
      "core        WARNING \tDriver 55: Lap timing integrity check failed for 1 lap(s)\n",
      "core        WARNING \tDriver 11: Lap timing integrity check failed for 1 lap(s)\n",
      "core        WARNING \tDriver 10: Lap timing integrity check failed for 1 lap(s)\n",
      "core        WARNING \tDriver 31: Lap timing integrity check failed for 1 lap(s)\n",
      "core        WARNING \tDriver 99: Lap timing integrity check failed for 1 lap(s)\n",
      "core        WARNING \tDriver  5: Lap timing integrity check failed for 1 lap(s)\n",
      "core        WARNING \tDriver 26: Lap timing integrity check failed for 1 lap(s)\n",
      "core        WARNING \tDriver 23: Lap timing integrity check failed for 1 lap(s)\n",
      "core        WARNING \tDriver  8: Lap timing integrity check failed for 1 lap(s)\n",
      "core        WARNING \tDriver 20: Lap timing integrity check failed for 1 lap(s)\n",
      "core        WARNING \tDriver 18: Lap timing integrity check failed for 1 lap(s)\n",
      "core        WARNING \tDriver  3: Lap timing integrity check failed for 1 lap(s)\n",
      "req            INFO \tNo cached data found for weather_data. Loading data...\n",
      "_api           INFO \tFetching weather data...\n",
      "req            INFO \tData has been written to cache!\n",
      "req            INFO \tNo cached data found for race_control_messages. Loading data...\n",
      "_api           INFO \tFetching race control messages...\n",
      "req            INFO \tData has been written to cache!\n",
      "core           INFO \tFinished loading data for 20 drivers: ['77', '16', '4', '44', '55', '11', '10', '31', '99', '5', '6', '26', '23', '7', '63', '8', '20', '18', '3', '33']\n",
      "core           INFO \tLoading data for Styrian Grand Prix - Race [v3.5.3]\n",
      "req            INFO \tNo cached data found for session_info. Loading data...\n",
      "_api           INFO \tFetching session info data...\n"
     ]
    },
    {
     "name": "stdout",
     "output_type": "stream",
     "text": [
      "2020 2\n"
     ]
    },
    {
     "name": "stderr",
     "output_type": "stream",
     "text": [
      "req            INFO \tData has been written to cache!\n",
      "req            INFO \tNo cached data found for driver_info. Loading data...\n",
      "_api           INFO \tFetching driver list...\n",
      "req            INFO \tData has been written to cache!\n",
      "req            INFO \tNo cached data found for session_status_data. Loading data...\n",
      "_api           INFO \tFetching session status data...\n",
      "req            INFO \tData has been written to cache!\n",
      "req            INFO \tNo cached data found for lap_count. Loading data...\n",
      "_api           INFO \tFetching lap count data...\n",
      "req            INFO \tData has been written to cache!\n",
      "req            INFO \tNo cached data found for track_status_data. Loading data...\n",
      "_api           INFO \tFetching track status data...\n",
      "req            INFO \tData has been written to cache!\n",
      "req            INFO \tNo cached data found for _extended_timing_data. Loading data...\n",
      "_api           INFO \tFetching timing data...\n",
      "_api           INFO \tParsing timing data...\n",
      "_api        WARNING \tFailed to align laps for drivers: ['5']\n",
      "req            INFO \tData has been written to cache!\n",
      "req            INFO \tNo cached data found for timing_app_data. Loading data...\n",
      "_api           INFO \tFetching timing app data...\n",
      "req            INFO \tData has been written to cache!\n",
      "core           INFO \tProcessing timing data...\n",
      "req            INFO \tNo cached data found for weather_data. Loading data...\n",
      "_api           INFO \tFetching weather data...\n",
      "req            INFO \tData has been written to cache!\n",
      "req            INFO \tNo cached data found for race_control_messages. Loading data...\n",
      "_api           INFO \tFetching race control messages...\n",
      "req            INFO \tData has been written to cache!\n",
      "core        WARNING \tDriver 44 completed the race distance 00:00.057000 before the recorded end of the session.\n",
      "core           INFO \tFinished loading data for 20 drivers: ['44', '77', '33', '23', '4', '11', '18', '3', '55', '26', '7', '20', '8', '99', '10', '63', '6', '31', '16', '5']\n",
      "core           INFO \tLoading data for Hungarian Grand Prix - Race [v3.5.3]\n",
      "req            INFO \tNo cached data found for session_info. Loading data...\n",
      "_api           INFO \tFetching session info data...\n"
     ]
    },
    {
     "name": "stdout",
     "output_type": "stream",
     "text": [
      "2020 3\n"
     ]
    },
    {
     "name": "stderr",
     "output_type": "stream",
     "text": [
      "req            INFO \tData has been written to cache!\n",
      "req            INFO \tNo cached data found for driver_info. Loading data...\n",
      "_api           INFO \tFetching driver list...\n",
      "req            INFO \tData has been written to cache!\n",
      "req            INFO \tNo cached data found for session_status_data. Loading data...\n",
      "_api           INFO \tFetching session status data...\n",
      "req            INFO \tData has been written to cache!\n",
      "req            INFO \tNo cached data found for lap_count. Loading data...\n",
      "_api           INFO \tFetching lap count data...\n",
      "req            INFO \tData has been written to cache!\n",
      "req            INFO \tNo cached data found for track_status_data. Loading data...\n",
      "_api           INFO \tFetching track status data...\n",
      "req            INFO \tData has been written to cache!\n",
      "req            INFO \tNo cached data found for _extended_timing_data. Loading data...\n",
      "_api           INFO \tFetching timing data...\n",
      "_api           INFO \tParsing timing data...\n",
      "req            INFO \tData has been written to cache!\n",
      "req            INFO \tNo cached data found for timing_app_data. Loading data...\n",
      "_api           INFO \tFetching timing app data...\n",
      "req            INFO \tData has been written to cache!\n",
      "core           INFO \tProcessing timing data...\n",
      "req            INFO \tNo cached data found for weather_data. Loading data...\n",
      "_api           INFO \tFetching weather data...\n",
      "req            INFO \tData has been written to cache!\n",
      "req            INFO \tNo cached data found for race_control_messages. Loading data...\n",
      "_api           INFO \tFetching race control messages...\n",
      "req            INFO \tData has been written to cache!\n",
      "core        WARNING \tDriver 44 completed the race distance 00:00.098000 before the recorded end of the session.\n",
      "core           INFO \tFinished loading data for 20 drivers: ['44', '33', '77', '18', '23', '5', '11', '3', '55', '20', '16', '26', '4', '31', '7', '8', '99', '63', '6', '10']\n",
      "core           INFO \tLoading data for British Grand Prix - Race [v3.5.3]\n",
      "req            INFO \tNo cached data found for session_info. Loading data...\n",
      "_api           INFO \tFetching session info data...\n"
     ]
    },
    {
     "name": "stdout",
     "output_type": "stream",
     "text": [
      "2020 4\n"
     ]
    },
    {
     "name": "stderr",
     "output_type": "stream",
     "text": [
      "req            INFO \tData has been written to cache!\n",
      "req            INFO \tNo cached data found for driver_info. Loading data...\n",
      "_api           INFO \tFetching driver list...\n",
      "req            INFO \tData has been written to cache!\n",
      "req            INFO \tNo cached data found for session_status_data. Loading data...\n",
      "_api           INFO \tFetching session status data...\n",
      "req            INFO \tData has been written to cache!\n",
      "req            INFO \tNo cached data found for lap_count. Loading data...\n",
      "_api           INFO \tFetching lap count data...\n",
      "req            INFO \tData has been written to cache!\n",
      "req            INFO \tNo cached data found for track_status_data. Loading data...\n",
      "_api           INFO \tFetching track status data...\n",
      "req            INFO \tData has been written to cache!\n",
      "req            INFO \tNo cached data found for _extended_timing_data. Loading data...\n",
      "_api           INFO \tFetching timing data...\n",
      "_api           INFO \tParsing timing data...\n",
      "_api        WARNING \tDriver  4: Ignoring late data for a previously processed lap.The data may contain errors (previous: 35; current 36)\n",
      "_api        WARNING \tDriver  8: Encountered 1 timing integrity error(s) near lap(s): [15].\n",
      "This might be a bug and should be reported.\n",
      "_api        WARNING \tFailed to align laps for drivers: ['20']\n",
      "req            INFO \tData has been written to cache!\n",
      "req            INFO \tNo cached data found for timing_app_data. Loading data...\n",
      "_api           INFO \tFetching timing app data...\n",
      "req            INFO \tData has been written to cache!\n",
      "core           INFO \tProcessing timing data...\n",
      "req            INFO \tNo cached data found for weather_data. Loading data...\n",
      "_api           INFO \tFetching weather data...\n",
      "req            INFO \tData has been written to cache!\n",
      "req            INFO \tNo cached data found for race_control_messages. Loading data...\n",
      "_api           INFO \tFetching race control messages...\n",
      "req            INFO \tData has been written to cache!\n",
      "core           INFO \tFinished loading data for 20 drivers: ['44', '33', '16', '3', '4', '31', '10', '23', '18', '5', '77', '63', '55', '99', '6', '8', '7', '26', '20', '27']\n",
      "core           INFO \tLoading data for 70th Anniversary Grand Prix - Race [v3.5.3]\n",
      "req            INFO \tNo cached data found for session_info. Loading data...\n",
      "_api           INFO \tFetching session info data...\n"
     ]
    },
    {
     "name": "stdout",
     "output_type": "stream",
     "text": [
      "2020 5\n"
     ]
    },
    {
     "name": "stderr",
     "output_type": "stream",
     "text": [
      "req            INFO \tData has been written to cache!\n",
      "req            INFO \tNo cached data found for driver_info. Loading data...\n",
      "_api           INFO \tFetching driver list...\n",
      "req            INFO \tData has been written to cache!\n",
      "req            INFO \tNo cached data found for session_status_data. Loading data...\n",
      "_api           INFO \tFetching session status data...\n",
      "req            INFO \tData has been written to cache!\n",
      "req            INFO \tNo cached data found for lap_count. Loading data...\n",
      "_api           INFO \tFetching lap count data...\n",
      "req            INFO \tData has been written to cache!\n",
      "req            INFO \tNo cached data found for track_status_data. Loading data...\n",
      "_api           INFO \tFetching track status data...\n",
      "req            INFO \tData has been written to cache!\n",
      "req            INFO \tNo cached data found for _extended_timing_data. Loading data...\n",
      "_api           INFO \tFetching timing data...\n",
      "_api           INFO \tParsing timing data...\n",
      "req            INFO \tData has been written to cache!\n",
      "req            INFO \tNo cached data found for timing_app_data. Loading data...\n",
      "_api           INFO \tFetching timing app data...\n",
      "req            INFO \tData has been written to cache!\n",
      "core           INFO \tProcessing timing data...\n",
      "req            INFO \tNo cached data found for weather_data. Loading data...\n",
      "_api           INFO \tFetching weather data...\n",
      "req            INFO \tData has been written to cache!\n",
      "req            INFO \tNo cached data found for race_control_messages. Loading data...\n",
      "_api           INFO \tFetching race control messages...\n",
      "req            INFO \tData has been written to cache!\n",
      "core        WARNING \tDriver 33 completed the race distance 00:00.036000 before the recorded end of the session.\n",
      "core           INFO \tFinished loading data for 20 drivers: ['33', '44', '77', '16', '23', '18', '27', '31', '4', '26', '10', '5', '55', '3', '7', '8', '99', '63', '6', '20']\n",
      "core           INFO \tLoading data for Spanish Grand Prix - Race [v3.5.3]\n",
      "req            INFO \tNo cached data found for session_info. Loading data...\n",
      "_api           INFO \tFetching session info data...\n"
     ]
    },
    {
     "name": "stdout",
     "output_type": "stream",
     "text": [
      "2020 6\n"
     ]
    },
    {
     "name": "stderr",
     "output_type": "stream",
     "text": [
      "req            INFO \tData has been written to cache!\n",
      "req            INFO \tNo cached data found for driver_info. Loading data...\n",
      "_api           INFO \tFetching driver list...\n",
      "req            INFO \tData has been written to cache!\n",
      "req            INFO \tNo cached data found for session_status_data. Loading data...\n",
      "_api           INFO \tFetching session status data...\n",
      "req            INFO \tData has been written to cache!\n",
      "req            INFO \tNo cached data found for lap_count. Loading data...\n",
      "_api           INFO \tFetching lap count data...\n",
      "req            INFO \tData has been written to cache!\n",
      "req            INFO \tNo cached data found for track_status_data. Loading data...\n",
      "_api           INFO \tFetching track status data...\n",
      "req            INFO \tData has been written to cache!\n",
      "req            INFO \tNo cached data found for _extended_timing_data. Loading data...\n",
      "_api           INFO \tFetching timing data...\n",
      "_api           INFO \tParsing timing data...\n",
      "req            INFO \tData has been written to cache!\n",
      "req            INFO \tNo cached data found for timing_app_data. Loading data...\n",
      "_api           INFO \tFetching timing app data...\n",
      "req            INFO \tData has been written to cache!\n",
      "core           INFO \tProcessing timing data...\n",
      "req            INFO \tNo cached data found for weather_data. Loading data...\n",
      "_api           INFO \tFetching weather data...\n",
      "req            INFO \tData has been written to cache!\n",
      "req            INFO \tNo cached data found for race_control_messages. Loading data...\n",
      "_api           INFO \tFetching race control messages...\n",
      "req            INFO \tData has been written to cache!\n",
      "core        WARNING \tDriver 44 completed the race distance 00:00.071000 before the recorded end of the session.\n",
      "core           INFO \tFinished loading data for 20 drivers: ['44', '33', '77', '18', '11', '55', '5', '23', '10', '4', '3', '26', '31', '7', '20', '99', '63', '6', '8', '16']\n",
      "core           INFO \tLoading data for Belgian Grand Prix - Race [v3.5.3]\n",
      "req            INFO \tNo cached data found for session_info. Loading data...\n",
      "_api           INFO \tFetching session info data...\n"
     ]
    },
    {
     "name": "stdout",
     "output_type": "stream",
     "text": [
      "2020 7\n"
     ]
    },
    {
     "name": "stderr",
     "output_type": "stream",
     "text": [
      "req            INFO \tData has been written to cache!\n",
      "req            INFO \tNo cached data found for driver_info. Loading data...\n",
      "_api           INFO \tFetching driver list...\n",
      "req            INFO \tData has been written to cache!\n",
      "req            INFO \tNo cached data found for session_status_data. Loading data...\n",
      "_api           INFO \tFetching session status data...\n",
      "req            INFO \tData has been written to cache!\n",
      "req            INFO \tNo cached data found for lap_count. Loading data...\n",
      "_api           INFO \tFetching lap count data...\n",
      "req            INFO \tData has been written to cache!\n",
      "req            INFO \tNo cached data found for track_status_data. Loading data...\n",
      "_api           INFO \tFetching track status data...\n",
      "req            INFO \tData has been written to cache!\n",
      "req            INFO \tNo cached data found for _extended_timing_data. Loading data...\n",
      "_api           INFO \tFetching timing data...\n",
      "_api           INFO \tParsing timing data...\n",
      "_api        WARNING \tDriver 26: Ignoring late data for a previously processed lap.The data may contain errors (previous: 40; current 41)\n",
      "req            INFO \tData has been written to cache!\n",
      "req            INFO \tNo cached data found for timing_app_data. Loading data...\n",
      "_api           INFO \tFetching timing app data...\n",
      "req            INFO \tData has been written to cache!\n",
      "core           INFO \tProcessing timing data...\n",
      "req            INFO \tNo cached data found for weather_data. Loading data...\n",
      "_api           INFO \tFetching weather data...\n",
      "req            INFO \tData has been written to cache!\n",
      "req            INFO \tNo cached data found for race_control_messages. Loading data...\n",
      "_api           INFO \tFetching race control messages...\n",
      "req            INFO \tData has been written to cache!\n",
      "core        WARNING \tDriver 44 completed the race distance 00:00.105000 before the recorded end of the session.\n",
      "core           INFO \tFinished loading data for 20 drivers: ['44', '77', '33', '3', '31', '23', '4', '10', '18', '11', '26', '7', '5', '16', '8', '6', '20', '99', '63', '55']\n",
      "core           INFO \tLoading data for Italian Grand Prix - Race [v3.5.3]\n",
      "req            INFO \tNo cached data found for session_info. Loading data...\n",
      "_api           INFO \tFetching session info data...\n"
     ]
    },
    {
     "name": "stdout",
     "output_type": "stream",
     "text": [
      "2020 8\n"
     ]
    },
    {
     "name": "stderr",
     "output_type": "stream",
     "text": [
      "req            INFO \tData has been written to cache!\n",
      "req            INFO \tNo cached data found for driver_info. Loading data...\n",
      "_api           INFO \tFetching driver list...\n",
      "req            INFO \tData has been written to cache!\n",
      "req            INFO \tNo cached data found for session_status_data. Loading data...\n",
      "_api           INFO \tFetching session status data...\n",
      "req            INFO \tData has been written to cache!\n",
      "req            INFO \tNo cached data found for lap_count. Loading data...\n",
      "_api           INFO \tFetching lap count data...\n",
      "req            INFO \tData has been written to cache!\n",
      "req            INFO \tNo cached data found for track_status_data. Loading data...\n",
      "_api           INFO \tFetching track status data...\n",
      "req            INFO \tData has been written to cache!\n",
      "req            INFO \tNo cached data found for _extended_timing_data. Loading data...\n",
      "_api           INFO \tFetching timing data...\n",
      "_api           INFO \tParsing timing data...\n",
      "req            INFO \tData has been written to cache!\n",
      "req            INFO \tNo cached data found for timing_app_data. Loading data...\n",
      "_api           INFO \tFetching timing app data...\n",
      "req            INFO \tData has been written to cache!\n",
      "core           INFO \tProcessing timing data...\n",
      "req            INFO \tNo cached data found for weather_data. Loading data...\n",
      "_api           INFO \tFetching weather data...\n",
      "req            INFO \tData has been written to cache!\n",
      "req            INFO \tNo cached data found for race_control_messages. Loading data...\n",
      "_api           INFO \tFetching race control messages...\n",
      "req            INFO \tData has been written to cache!\n",
      "core        WARNING \tDriver 10 completed the race distance 00:00.067000 before the recorded end of the session.\n",
      "core           INFO \tFinished loading data for 20 drivers: ['10', '55', '18', '4', '77', '3', '44', '31', '26', '11', '6', '8', '7', '63', '23', '99', '33', '16', '20', '5']\n",
      "core           INFO \tLoading data for Tuscan Grand Prix - Race [v3.5.3]\n",
      "req            INFO \tNo cached data found for session_info. Loading data...\n",
      "_api           INFO \tFetching session info data...\n"
     ]
    },
    {
     "name": "stdout",
     "output_type": "stream",
     "text": [
      "2020 9\n"
     ]
    },
    {
     "name": "stderr",
     "output_type": "stream",
     "text": [
      "req            INFO \tData has been written to cache!\n",
      "req            INFO \tNo cached data found for driver_info. Loading data...\n",
      "_api           INFO \tFetching driver list...\n",
      "req            INFO \tData has been written to cache!\n",
      "req            INFO \tNo cached data found for session_status_data. Loading data...\n",
      "_api           INFO \tFetching session status data...\n",
      "req            INFO \tData has been written to cache!\n",
      "req            INFO \tNo cached data found for lap_count. Loading data...\n",
      "_api           INFO \tFetching lap count data...\n",
      "req            INFO \tData has been written to cache!\n",
      "req            INFO \tNo cached data found for track_status_data. Loading data...\n",
      "_api           INFO \tFetching track status data...\n",
      "req            INFO \tData has been written to cache!\n",
      "req            INFO \tNo cached data found for _extended_timing_data. Loading data...\n",
      "_api           INFO \tFetching timing data...\n",
      "_api           INFO \tParsing timing data...\n",
      "req            INFO \tData has been written to cache!\n",
      "req            INFO \tNo cached data found for timing_app_data. Loading data...\n",
      "_api           INFO \tFetching timing app data...\n",
      "req            INFO \tData has been written to cache!\n",
      "core           INFO \tProcessing timing data...\n",
      "req            INFO \tNo cached data found for weather_data. Loading data...\n",
      "_api           INFO \tFetching weather data...\n",
      "req            INFO \tData has been written to cache!\n",
      "req            INFO \tNo cached data found for race_control_messages. Loading data...\n",
      "_api           INFO \tFetching race control messages...\n",
      "req            INFO \tData has been written to cache!\n",
      "core        WARNING \tDriver 44 completed the race distance 00:00.070000 before the recorded end of the session.\n",
      "core           INFO \tFinished loading data for 20 drivers: ['44', '77', '23', '3', '11', '4', '26', '16', '7', '5', '63', '8', '18', '31', '6', '20', '99', '55', '33', '10']\n",
      "core           INFO \tLoading data for Russian Grand Prix - Race [v3.5.3]\n",
      "req            INFO \tNo cached data found for session_info. Loading data...\n",
      "_api           INFO \tFetching session info data...\n"
     ]
    },
    {
     "name": "stdout",
     "output_type": "stream",
     "text": [
      "2020 10\n"
     ]
    },
    {
     "name": "stderr",
     "output_type": "stream",
     "text": [
      "req            INFO \tData has been written to cache!\n",
      "req            INFO \tNo cached data found for driver_info. Loading data...\n",
      "_api           INFO \tFetching driver list...\n",
      "req            INFO \tData has been written to cache!\n",
      "req            INFO \tNo cached data found for session_status_data. Loading data...\n",
      "_api           INFO \tFetching session status data...\n",
      "req            INFO \tData has been written to cache!\n",
      "req            INFO \tNo cached data found for lap_count. Loading data...\n",
      "_api           INFO \tFetching lap count data...\n",
      "req            INFO \tData has been written to cache!\n",
      "req            INFO \tNo cached data found for track_status_data. Loading data...\n",
      "_api           INFO \tFetching track status data...\n",
      "req            INFO \tData has been written to cache!\n",
      "req            INFO \tNo cached data found for _extended_timing_data. Loading data...\n",
      "_api           INFO \tFetching timing data...\n",
      "_api           INFO \tParsing timing data...\n",
      "req            INFO \tData has been written to cache!\n",
      "req            INFO \tNo cached data found for timing_app_data. Loading data...\n",
      "_api           INFO \tFetching timing app data...\n",
      "req            INFO \tData has been written to cache!\n",
      "core           INFO \tProcessing timing data...\n",
      "req            INFO \tNo cached data found for weather_data. Loading data...\n",
      "_api           INFO \tFetching weather data...\n",
      "req            INFO \tData has been written to cache!\n",
      "req            INFO \tNo cached data found for race_control_messages. Loading data...\n",
      "_api           INFO \tFetching race control messages...\n",
      "req            INFO \tData has been written to cache!\n",
      "core        WARNING \tDriver 77 completed the race distance 00:00.039000 before the recorded end of the session.\n",
      "core           INFO \tFinished loading data for 20 drivers: ['77', '33', '44', '11', '3', '16', '31', '26', '10', '23', '99', '20', '5', '7', '4', '6', '8', '63', '55', '18']\n",
      "core           INFO \tLoading data for Eifel Grand Prix - Race [v3.5.3]\n",
      "req            INFO \tNo cached data found for session_info. Loading data...\n",
      "_api           INFO \tFetching session info data...\n"
     ]
    },
    {
     "name": "stdout",
     "output_type": "stream",
     "text": [
      "2020 11\n"
     ]
    },
    {
     "name": "stderr",
     "output_type": "stream",
     "text": [
      "req            INFO \tData has been written to cache!\n",
      "req            INFO \tNo cached data found for driver_info. Loading data...\n",
      "_api           INFO \tFetching driver list...\n",
      "req            INFO \tData has been written to cache!\n",
      "req            INFO \tNo cached data found for session_status_data. Loading data...\n",
      "_api           INFO \tFetching session status data...\n",
      "req            INFO \tData has been written to cache!\n",
      "req            INFO \tNo cached data found for lap_count. Loading data...\n",
      "_api           INFO \tFetching lap count data...\n",
      "req            INFO \tData has been written to cache!\n",
      "req            INFO \tNo cached data found for track_status_data. Loading data...\n",
      "_api           INFO \tFetching track status data...\n",
      "req            INFO \tData has been written to cache!\n",
      "req            INFO \tNo cached data found for _extended_timing_data. Loading data...\n",
      "_api           INFO \tFetching timing data...\n",
      "_api           INFO \tParsing timing data...\n",
      "_api        WARNING \tDriver  7: Ignoring late data for a previously processed lap.The data may contain errors (previous: 37; current 38)\n",
      "req            INFO \tData has been written to cache!\n",
      "req            INFO \tNo cached data found for timing_app_data. Loading data...\n",
      "_api           INFO \tFetching timing app data...\n",
      "req            INFO \tData has been written to cache!\n",
      "core           INFO \tProcessing timing data...\n",
      "req            INFO \tNo cached data found for weather_data. Loading data...\n",
      "_api           INFO \tFetching weather data...\n",
      "req            INFO \tData has been written to cache!\n",
      "req            INFO \tNo cached data found for race_control_messages. Loading data...\n",
      "_api           INFO \tFetching race control messages...\n",
      "req            INFO \tData has been written to cache!\n",
      "core        WARNING \tDriver 44 completed the race distance 00:00.016000 before the recorded end of the session.\n",
      "core           INFO \tFinished loading data for 20 drivers: ['44', '33', '3', '11', '55', '10', '16', '27', '8', '99', '5', '7', '20', '6', '26', '4', '23', '31', '77', '63']\n",
      "core           INFO \tLoading data for Portuguese Grand Prix - Race [v3.5.3]\n",
      "req            INFO \tNo cached data found for session_info. Loading data...\n",
      "_api           INFO \tFetching session info data...\n"
     ]
    },
    {
     "name": "stdout",
     "output_type": "stream",
     "text": [
      "2020 12\n"
     ]
    },
    {
     "name": "stderr",
     "output_type": "stream",
     "text": [
      "req            INFO \tData has been written to cache!\n",
      "req            INFO \tNo cached data found for driver_info. Loading data...\n",
      "_api           INFO \tFetching driver list...\n",
      "req            INFO \tData has been written to cache!\n",
      "req            INFO \tNo cached data found for session_status_data. Loading data...\n",
      "_api           INFO \tFetching session status data...\n",
      "req            INFO \tData has been written to cache!\n",
      "req            INFO \tNo cached data found for lap_count. Loading data...\n",
      "_api           INFO \tFetching lap count data...\n",
      "req            INFO \tData has been written to cache!\n",
      "req            INFO \tNo cached data found for track_status_data. Loading data...\n",
      "_api           INFO \tFetching track status data...\n",
      "req            INFO \tData has been written to cache!\n",
      "req            INFO \tNo cached data found for _extended_timing_data. Loading data...\n",
      "_api           INFO \tFetching timing data...\n",
      "_api           INFO \tParsing timing data...\n",
      "_api        WARNING \tDriver 77: Ignoring late data for a previously processed lap.The data may contain errors (previous: 62; current 63)\n",
      "req            INFO \tData has been written to cache!\n",
      "req            INFO \tNo cached data found for timing_app_data. Loading data...\n",
      "_api           INFO \tFetching timing app data...\n",
      "req            INFO \tData has been written to cache!\n",
      "core           INFO \tProcessing timing data...\n",
      "req            INFO \tNo cached data found for weather_data. Loading data...\n",
      "_api           INFO \tFetching weather data...\n",
      "req            INFO \tData has been written to cache!\n",
      "req            INFO \tNo cached data found for race_control_messages. Loading data...\n",
      "_api           INFO \tFetching race control messages...\n",
      "req            INFO \tData has been written to cache!\n",
      "core        WARNING \tDriver 44 completed the race distance 00:00.098000 before the recorded end of the session.\n",
      "core           INFO \tFinished loading data for 20 drivers: ['44', '77', '33', '16', '10', '55', '11', '31', '3', '5', '7', '23', '4', '63', '99', '20', '8', '6', '26', '18']\n",
      "core           INFO \tLoading data for Emilia Romagna Grand Prix - Race [v3.5.3]\n",
      "req            INFO \tNo cached data found for session_info. Loading data...\n",
      "_api           INFO \tFetching session info data...\n"
     ]
    },
    {
     "name": "stdout",
     "output_type": "stream",
     "text": [
      "2020 13\n"
     ]
    },
    {
     "name": "stderr",
     "output_type": "stream",
     "text": [
      "req            INFO \tData has been written to cache!\n",
      "req            INFO \tNo cached data found for driver_info. Loading data...\n",
      "_api           INFO \tFetching driver list...\n",
      "req            INFO \tData has been written to cache!\n",
      "req            INFO \tNo cached data found for session_status_data. Loading data...\n",
      "_api           INFO \tFetching session status data...\n",
      "req            INFO \tData has been written to cache!\n",
      "req            INFO \tNo cached data found for lap_count. Loading data...\n",
      "_api           INFO \tFetching lap count data...\n",
      "req            INFO \tData has been written to cache!\n",
      "req            INFO \tNo cached data found for track_status_data. Loading data...\n",
      "_api           INFO \tFetching track status data...\n",
      "req            INFO \tData has been written to cache!\n",
      "req            INFO \tNo cached data found for _extended_timing_data. Loading data...\n",
      "_api           INFO \tFetching timing data...\n",
      "_api           INFO \tParsing timing data...\n",
      "req            INFO \tData has been written to cache!\n",
      "req            INFO \tNo cached data found for timing_app_data. Loading data...\n",
      "_api           INFO \tFetching timing app data...\n",
      "req            INFO \tData has been written to cache!\n",
      "core           INFO \tProcessing timing data...\n",
      "core        WARNING \tDriver 23: Lap timing integrity check failed for 1 lap(s)\n",
      "req            INFO \tNo cached data found for weather_data. Loading data...\n",
      "_api           INFO \tFetching weather data...\n",
      "req            INFO \tData has been written to cache!\n",
      "req            INFO \tNo cached data found for race_control_messages. Loading data...\n",
      "_api           INFO \tFetching race control messages...\n",
      "req            INFO \tData has been written to cache!\n",
      "core        WARNING \tDriver 44 completed the race distance 00:00.100000 before the recorded end of the session.\n",
      "core           INFO \tFinished loading data for 20 drivers: ['44', '77', '3', '26', '16', '11', '55', '4', '7', '99', '6', '5', '18', '8', '23', '63', '33', '20', '31', '10']\n",
      "core           INFO \tLoading data for Turkish Grand Prix - Race [v3.5.3]\n",
      "req            INFO \tNo cached data found for session_info. Loading data...\n",
      "_api           INFO \tFetching session info data...\n"
     ]
    },
    {
     "name": "stdout",
     "output_type": "stream",
     "text": [
      "2020 14\n"
     ]
    },
    {
     "name": "stderr",
     "output_type": "stream",
     "text": [
      "req            INFO \tData has been written to cache!\n",
      "req            INFO \tNo cached data found for driver_info. Loading data...\n",
      "_api           INFO \tFetching driver list...\n",
      "req            INFO \tData has been written to cache!\n",
      "req            INFO \tNo cached data found for session_status_data. Loading data...\n",
      "_api           INFO \tFetching session status data...\n",
      "req            INFO \tData has been written to cache!\n",
      "req            INFO \tNo cached data found for lap_count. Loading data...\n",
      "_api           INFO \tFetching lap count data...\n",
      "req            INFO \tData has been written to cache!\n",
      "req            INFO \tNo cached data found for track_status_data. Loading data...\n",
      "_api           INFO \tFetching track status data...\n",
      "req            INFO \tData has been written to cache!\n",
      "req            INFO \tNo cached data found for _extended_timing_data. Loading data...\n",
      "_api           INFO \tFetching timing data...\n",
      "_api           INFO \tParsing timing data...\n",
      "req            INFO \tData has been written to cache!\n",
      "req            INFO \tNo cached data found for timing_app_data. Loading data...\n",
      "_api           INFO \tFetching timing app data...\n",
      "req            INFO \tData has been written to cache!\n",
      "core           INFO \tProcessing timing data...\n",
      "req            INFO \tNo cached data found for weather_data. Loading data...\n",
      "_api           INFO \tFetching weather data...\n",
      "req            INFO \tData has been written to cache!\n",
      "req            INFO \tNo cached data found for race_control_messages. Loading data...\n",
      "_api           INFO \tFetching race control messages...\n",
      "req            INFO \tData has been written to cache!\n",
      "core        WARNING \tDriver 44 completed the race distance 00:00.068000 before the recorded end of the session.\n",
      "core           INFO \tFinished loading data for 20 drivers: ['44', '11', '5', '16', '55', '33', '23', '4', '18', '3', '31', '26', '10', '77', '7', '63', '20', '8', '6', '99']\n",
      "core           INFO \tLoading data for Bahrain Grand Prix - Race [v3.5.3]\n",
      "req            INFO \tNo cached data found for session_info. Loading data...\n",
      "_api           INFO \tFetching session info data...\n"
     ]
    },
    {
     "name": "stdout",
     "output_type": "stream",
     "text": [
      "2020 15\n"
     ]
    },
    {
     "name": "stderr",
     "output_type": "stream",
     "text": [
      "req            INFO \tData has been written to cache!\n",
      "req            INFO \tNo cached data found for driver_info. Loading data...\n",
      "_api           INFO \tFetching driver list...\n",
      "req            INFO \tData has been written to cache!\n",
      "req            INFO \tNo cached data found for session_status_data. Loading data...\n",
      "_api           INFO \tFetching session status data...\n",
      "req            INFO \tData has been written to cache!\n",
      "req            INFO \tNo cached data found for lap_count. Loading data...\n",
      "_api           INFO \tFetching lap count data...\n",
      "req            INFO \tData has been written to cache!\n",
      "req            INFO \tNo cached data found for track_status_data. Loading data...\n",
      "_api           INFO \tFetching track status data...\n",
      "req            INFO \tData has been written to cache!\n",
      "req            INFO \tNo cached data found for _extended_timing_data. Loading data...\n",
      "_api           INFO \tFetching timing data...\n",
      "_api           INFO \tParsing timing data...\n",
      "_api        WARNING \tDriver 55: Encountered 1 timing integrity error(s) near lap(s): [48].\n",
      "This might be a bug and should be reported.\n",
      "_api        WARNING \tFailed to align laps for drivers: ['18']\n",
      "req            INFO \tData has been written to cache!\n",
      "req            INFO \tNo cached data found for timing_app_data. Loading data...\n",
      "_api           INFO \tFetching timing app data...\n",
      "req            INFO \tData has been written to cache!\n",
      "core           INFO \tProcessing timing data...\n",
      "req            INFO \tNo cached data found for weather_data. Loading data...\n",
      "_api           INFO \tFetching weather data...\n",
      "req            INFO \tData has been written to cache!\n",
      "req            INFO \tNo cached data found for race_control_messages. Loading data...\n",
      "_api           INFO \tFetching race control messages...\n",
      "req            INFO \tData has been written to cache!\n",
      "core           INFO \tFinished loading data for 20 drivers: ['44', '33', '23', '4', '55', '10', '3', '77', '31', '16', '26', '63', '5', '6', '7', '99', '20', '11', '18', '8']\n",
      "core           INFO \tLoading data for Sakhir Grand Prix - Race [v3.5.3]\n",
      "req            INFO \tNo cached data found for session_info. Loading data...\n",
      "_api           INFO \tFetching session info data...\n"
     ]
    },
    {
     "name": "stdout",
     "output_type": "stream",
     "text": [
      "2020 16\n"
     ]
    },
    {
     "name": "stderr",
     "output_type": "stream",
     "text": [
      "req            INFO \tData has been written to cache!\n",
      "req            INFO \tNo cached data found for driver_info. Loading data...\n",
      "_api           INFO \tFetching driver list...\n",
      "req            INFO \tData has been written to cache!\n",
      "req            INFO \tNo cached data found for session_status_data. Loading data...\n",
      "_api           INFO \tFetching session status data...\n",
      "req            INFO \tData has been written to cache!\n",
      "req            INFO \tNo cached data found for lap_count. Loading data...\n",
      "_api           INFO \tFetching lap count data...\n",
      "req            INFO \tData has been written to cache!\n",
      "req            INFO \tNo cached data found for track_status_data. Loading data...\n",
      "_api           INFO \tFetching track status data...\n",
      "req            INFO \tData has been written to cache!\n",
      "req            INFO \tNo cached data found for _extended_timing_data. Loading data...\n",
      "_api           INFO \tFetching timing data...\n",
      "_api           INFO \tParsing timing data...\n",
      "req            INFO \tData has been written to cache!\n",
      "req            INFO \tNo cached data found for timing_app_data. Loading data...\n",
      "_api           INFO \tFetching timing app data...\n",
      "req            INFO \tData has been written to cache!\n",
      "core           INFO \tProcessing timing data...\n",
      "req            INFO \tNo cached data found for weather_data. Loading data...\n",
      "_api           INFO \tFetching weather data...\n",
      "req            INFO \tData has been written to cache!\n",
      "req            INFO \tNo cached data found for race_control_messages. Loading data...\n",
      "_api           INFO \tFetching race control messages...\n",
      "req            INFO \tData has been written to cache!\n",
      "core        WARNING \tDriver 11 completed the race distance 00:00.111000 before the recorded end of the session.\n",
      "core           INFO \tFinished loading data for 20 drivers: ['11', '31', '18', '55', '3', '23', '26', '77', '63', '4', '10', '5', '99', '7', '20', '89', '51', '6', '33', '16']\n",
      "core           INFO \tLoading data for Abu Dhabi Grand Prix - Race [v3.5.3]\n",
      "req            INFO \tNo cached data found for session_info. Loading data...\n",
      "_api           INFO \tFetching session info data...\n"
     ]
    },
    {
     "name": "stdout",
     "output_type": "stream",
     "text": [
      "2020 17\n"
     ]
    },
    {
     "name": "stderr",
     "output_type": "stream",
     "text": [
      "req            INFO \tData has been written to cache!\n",
      "req            INFO \tNo cached data found for driver_info. Loading data...\n",
      "_api           INFO \tFetching driver list...\n",
      "req            INFO \tData has been written to cache!\n",
      "req            INFO \tNo cached data found for session_status_data. Loading data...\n",
      "_api           INFO \tFetching session status data...\n",
      "req            INFO \tData has been written to cache!\n",
      "req            INFO \tNo cached data found for lap_count. Loading data...\n",
      "_api           INFO \tFetching lap count data...\n",
      "req            INFO \tData has been written to cache!\n",
      "req            INFO \tNo cached data found for track_status_data. Loading data...\n",
      "_api           INFO \tFetching track status data...\n",
      "req            INFO \tData has been written to cache!\n",
      "req            INFO \tNo cached data found for _extended_timing_data. Loading data...\n",
      "_api           INFO \tFetching timing data...\n",
      "_api           INFO \tParsing timing data...\n",
      "req            INFO \tData has been written to cache!\n",
      "req            INFO \tNo cached data found for timing_app_data. Loading data...\n",
      "_api           INFO \tFetching timing app data...\n",
      "req            INFO \tData has been written to cache!\n",
      "core           INFO \tProcessing timing data...\n",
      "core        WARNING \tDriver  6: Lap timing integrity check failed for 1 lap(s)\n",
      "req            INFO \tNo cached data found for weather_data. Loading data...\n",
      "_api           INFO \tFetching weather data...\n",
      "req            INFO \tData has been written to cache!\n",
      "req            INFO \tNo cached data found for race_control_messages. Loading data...\n",
      "_api           INFO \tFetching race control messages...\n",
      "req            INFO \tData has been written to cache!\n",
      "core        WARNING \tDriver 33 completed the race distance 00:00.087000 before the recorded end of the session.\n",
      "core           INFO \tFinished loading data for 20 drivers: ['33', '77', '44', '23', '4', '55', '3', '10', '31', '18', '26', '7', '16', '5', '63', '99', '6', '20', '51', '11']\n",
      "core           INFO \tLoading data for Bahrain Grand Prix - Race [v3.5.3]\n",
      "req            INFO \tNo cached data found for session_info. Loading data...\n",
      "_api           INFO \tFetching session info data...\n"
     ]
    },
    {
     "name": "stdout",
     "output_type": "stream",
     "text": [
      "2021 1\n"
     ]
    },
    {
     "name": "stderr",
     "output_type": "stream",
     "text": [
      "req            INFO \tData has been written to cache!\n",
      "req            INFO \tNo cached data found for driver_info. Loading data...\n",
      "_api           INFO \tFetching driver list...\n",
      "req            INFO \tData has been written to cache!\n",
      "req            INFO \tNo cached data found for session_status_data. Loading data...\n",
      "_api           INFO \tFetching session status data...\n",
      "req            INFO \tData has been written to cache!\n",
      "req            INFO \tNo cached data found for lap_count. Loading data...\n",
      "_api           INFO \tFetching lap count data...\n",
      "req            INFO \tData has been written to cache!\n",
      "req            INFO \tNo cached data found for track_status_data. Loading data...\n",
      "_api           INFO \tFetching track status data...\n",
      "req            INFO \tData has been written to cache!\n",
      "req            INFO \tNo cached data found for _extended_timing_data. Loading data...\n",
      "_api           INFO \tFetching timing data...\n",
      "_api           INFO \tParsing timing data...\n",
      "req            INFO \tData has been written to cache!\n",
      "req            INFO \tNo cached data found for timing_app_data. Loading data...\n",
      "_api           INFO \tFetching timing app data...\n",
      "req            INFO \tData has been written to cache!\n",
      "core           INFO \tProcessing timing data...\n",
      "req            INFO \tNo cached data found for weather_data. Loading data...\n",
      "_api           INFO \tFetching weather data...\n",
      "req            INFO \tData has been written to cache!\n",
      "req            INFO \tNo cached data found for race_control_messages. Loading data...\n",
      "_api           INFO \tFetching race control messages...\n",
      "req            INFO \tData has been written to cache!\n",
      "core        WARNING \tDriver 44 completed the race distance 00:00.067000 before the recorded end of the session.\n",
      "core           INFO \tFinished loading data for 20 drivers: ['44', '33', '77', '4', '11', '16', '3', '55', '22', '18', '7', '99', '31', '63', '5', '47', '10', '6', '14', '9']\n",
      "core           INFO \tLoading data for Emilia Romagna Grand Prix - Race [v3.5.3]\n",
      "req            INFO \tNo cached data found for session_info. Loading data...\n",
      "_api           INFO \tFetching session info data...\n"
     ]
    },
    {
     "name": "stdout",
     "output_type": "stream",
     "text": [
      "2021 2\n"
     ]
    },
    {
     "name": "stderr",
     "output_type": "stream",
     "text": [
      "req            INFO \tData has been written to cache!\n",
      "req            INFO \tNo cached data found for driver_info. Loading data...\n",
      "_api           INFO \tFetching driver list...\n",
      "req            INFO \tData has been written to cache!\n",
      "req            INFO \tNo cached data found for session_status_data. Loading data...\n",
      "_api           INFO \tFetching session status data...\n",
      "req            INFO \tData has been written to cache!\n",
      "req            INFO \tNo cached data found for lap_count. Loading data...\n",
      "_api           INFO \tFetching lap count data...\n",
      "req            INFO \tData has been written to cache!\n",
      "req            INFO \tNo cached data found for track_status_data. Loading data...\n",
      "_api           INFO \tFetching track status data...\n",
      "req            INFO \tData has been written to cache!\n",
      "req            INFO \tNo cached data found for _extended_timing_data. Loading data...\n",
      "_api           INFO \tFetching timing data...\n",
      "_api           INFO \tParsing timing data...\n",
      "req            INFO \tData has been written to cache!\n",
      "req            INFO \tNo cached data found for timing_app_data. Loading data...\n",
      "_api           INFO \tFetching timing app data...\n",
      "req            INFO \tData has been written to cache!\n",
      "core           INFO \tProcessing timing data...\n",
      "req            INFO \tNo cached data found for weather_data. Loading data...\n",
      "_api           INFO \tFetching weather data...\n",
      "req            INFO \tData has been written to cache!\n",
      "req            INFO \tNo cached data found for race_control_messages. Loading data...\n",
      "_api           INFO \tFetching race control messages...\n",
      "req            INFO \tData has been written to cache!\n",
      "core        WARNING \tDriver 33 completed the race distance 00:01.003000 before the recorded end of the session.\n",
      "core           INFO \tFinished loading data for 20 drivers: ['33', '44', '4', '16', '55', '3', '10', '18', '31', '14', '11', '22', '7', '99', '5', '47', '9', '77', '63', '6']\n",
      "core           INFO \tLoading data for Portuguese Grand Prix - Race [v3.5.3]\n",
      "req            INFO \tNo cached data found for session_info. Loading data...\n",
      "_api           INFO \tFetching session info data...\n"
     ]
    },
    {
     "name": "stdout",
     "output_type": "stream",
     "text": [
      "2021 3\n"
     ]
    },
    {
     "name": "stderr",
     "output_type": "stream",
     "text": [
      "req            INFO \tData has been written to cache!\n",
      "req            INFO \tNo cached data found for driver_info. Loading data...\n",
      "_api           INFO \tFetching driver list...\n",
      "req            INFO \tData has been written to cache!\n",
      "req            INFO \tNo cached data found for session_status_data. Loading data...\n",
      "_api           INFO \tFetching session status data...\n",
      "req            INFO \tData has been written to cache!\n",
      "req            INFO \tNo cached data found for lap_count. Loading data...\n",
      "_api           INFO \tFetching lap count data...\n",
      "req            INFO \tData has been written to cache!\n",
      "req            INFO \tNo cached data found for track_status_data. Loading data...\n",
      "_api           INFO \tFetching track status data...\n",
      "req            INFO \tData has been written to cache!\n",
      "req            INFO \tNo cached data found for _extended_timing_data. Loading data...\n",
      "_api           INFO \tFetching timing data...\n",
      "_api           INFO \tParsing timing data...\n",
      "_api        WARNING \tDriver 44: Ignoring late data for a previously processed lap.The data may contain errors (previous: 61; current 62)\n",
      "_api        WARNING \tFailed to align laps for drivers: ['7']\n",
      "req            INFO \tData has been written to cache!\n",
      "req            INFO \tNo cached data found for timing_app_data. Loading data...\n",
      "_api           INFO \tFetching timing app data...\n",
      "req            INFO \tData has been written to cache!\n",
      "core           INFO \tProcessing timing data...\n",
      "req            INFO \tNo cached data found for weather_data. Loading data...\n",
      "_api           INFO \tFetching weather data...\n",
      "req            INFO \tData has been written to cache!\n",
      "req            INFO \tNo cached data found for race_control_messages. Loading data...\n",
      "_api           INFO \tFetching race control messages...\n",
      "req            INFO \tData has been written to cache!\n",
      "core        WARNING \tDriver 44 completed the race distance 00:00.050000 before the recorded end of the session.\n",
      "core           INFO \tFinished loading data for 20 drivers: ['44', '33', '77', '11', '4', '16', '31', '14', '3', '10', '55', '99', '5', '18', '22', '63', '47', '6', '9', '7']\n",
      "core           INFO \tLoading data for Spanish Grand Prix - Race [v3.5.3]\n",
      "req            INFO \tNo cached data found for session_info. Loading data...\n",
      "_api           INFO \tFetching session info data...\n"
     ]
    },
    {
     "name": "stdout",
     "output_type": "stream",
     "text": [
      "2021 4\n"
     ]
    },
    {
     "name": "stderr",
     "output_type": "stream",
     "text": [
      "req            INFO \tData has been written to cache!\n",
      "req            INFO \tNo cached data found for driver_info. Loading data...\n",
      "_api           INFO \tFetching driver list...\n",
      "req            INFO \tData has been written to cache!\n",
      "req            INFO \tNo cached data found for session_status_data. Loading data...\n",
      "_api           INFO \tFetching session status data...\n",
      "req            INFO \tData has been written to cache!\n",
      "req            INFO \tNo cached data found for lap_count. Loading data...\n",
      "_api           INFO \tFetching lap count data...\n",
      "req            INFO \tData has been written to cache!\n",
      "req            INFO \tNo cached data found for track_status_data. Loading data...\n",
      "_api           INFO \tFetching track status data...\n",
      "req            INFO \tData has been written to cache!\n",
      "req            INFO \tNo cached data found for _extended_timing_data. Loading data...\n",
      "_api           INFO \tFetching timing data...\n",
      "_api           INFO \tParsing timing data...\n",
      "_api        WARNING \tDriver 55: Ignoring late data for a previously processed lap.The data may contain errors (previous: 28; current 29)\n",
      "_api        WARNING \tDriver 22: Ignoring late data for a previously processed lap.The data may contain errors (previous: 2; current 3)\n",
      "req            INFO \tData has been written to cache!\n",
      "req            INFO \tNo cached data found for timing_app_data. Loading data...\n",
      "_api           INFO \tFetching timing app data...\n",
      "req            INFO \tData has been written to cache!\n",
      "core           INFO \tProcessing timing data...\n",
      "req            INFO \tNo cached data found for weather_data. Loading data...\n",
      "_api           INFO \tFetching weather data...\n",
      "req            INFO \tData has been written to cache!\n",
      "req            INFO \tNo cached data found for race_control_messages. Loading data...\n",
      "_api           INFO \tFetching race control messages...\n",
      "req            INFO \tData has been written to cache!\n",
      "core        WARNING \tDriver 44 completed the race distance 00:00.083000 before the recorded end of the session.\n",
      "core           INFO \tFinished loading data for 20 drivers: ['44', '33', '77', '16', '11', '3', '55', '4', '31', '10', '18', '7', '5', '63', '99', '6', '14', '47', '9', '22']\n",
      "core           INFO \tLoading data for Monaco Grand Prix - Race [v3.5.3]\n",
      "req            INFO \tNo cached data found for session_info. Loading data...\n",
      "_api           INFO \tFetching session info data...\n"
     ]
    },
    {
     "name": "stdout",
     "output_type": "stream",
     "text": [
      "2021 5\n"
     ]
    },
    {
     "name": "stderr",
     "output_type": "stream",
     "text": [
      "req            INFO \tData has been written to cache!\n",
      "req            INFO \tNo cached data found for driver_info. Loading data...\n",
      "_api           INFO \tFetching driver list...\n",
      "req            INFO \tData has been written to cache!\n",
      "req            INFO \tNo cached data found for session_status_data. Loading data...\n",
      "_api           INFO \tFetching session status data...\n",
      "req            INFO \tData has been written to cache!\n",
      "req            INFO \tNo cached data found for lap_count. Loading data...\n",
      "_api           INFO \tFetching lap count data...\n",
      "req            INFO \tData has been written to cache!\n",
      "req            INFO \tNo cached data found for track_status_data. Loading data...\n",
      "_api           INFO \tFetching track status data...\n",
      "req            INFO \tData has been written to cache!\n",
      "req            INFO \tNo cached data found for _extended_timing_data. Loading data...\n",
      "_api           INFO \tFetching timing data...\n",
      "_api           INFO \tParsing timing data...\n",
      "req            INFO \tData has been written to cache!\n",
      "req            INFO \tNo cached data found for timing_app_data. Loading data...\n",
      "_api           INFO \tFetching timing app data...\n",
      "req            INFO \tData has been written to cache!\n",
      "core           INFO \tProcessing timing data...\n",
      "req            INFO \tNo cached data found for weather_data. Loading data...\n",
      "_api           INFO \tFetching weather data...\n",
      "req            INFO \tData has been written to cache!\n",
      "req            INFO \tNo cached data found for race_control_messages. Loading data...\n",
      "_api           INFO \tFetching race control messages...\n",
      "req            INFO \tData has been written to cache!\n",
      "core        WARNING \tDriver 33 completed the race distance 00:00.058000 before the recorded end of the session.\n",
      "core           INFO \tFinished loading data for 20 drivers: ['33', '55', '4', '11', '5', '10', '44', '18', '31', '99', '7', '3', '14', '63', '6', '22', '9', '47', '77', '16']\n",
      "core           INFO \tLoading data for Azerbaijan Grand Prix - Race [v3.5.3]\n",
      "req            INFO \tNo cached data found for session_info. Loading data...\n",
      "_api           INFO \tFetching session info data...\n"
     ]
    },
    {
     "name": "stdout",
     "output_type": "stream",
     "text": [
      "2021 6\n"
     ]
    },
    {
     "name": "stderr",
     "output_type": "stream",
     "text": [
      "req            INFO \tData has been written to cache!\n",
      "req            INFO \tNo cached data found for driver_info. Loading data...\n",
      "_api           INFO \tFetching driver list...\n",
      "req            INFO \tData has been written to cache!\n",
      "req            INFO \tNo cached data found for session_status_data. Loading data...\n",
      "_api           INFO \tFetching session status data...\n",
      "req            INFO \tData has been written to cache!\n",
      "req            INFO \tNo cached data found for lap_count. Loading data...\n",
      "_api           INFO \tFetching lap count data...\n",
      "req            INFO \tData has been written to cache!\n",
      "req            INFO \tNo cached data found for track_status_data. Loading data...\n",
      "_api           INFO \tFetching track status data...\n",
      "req            INFO \tData has been written to cache!\n",
      "req            INFO \tNo cached data found for _extended_timing_data. Loading data...\n",
      "_api           INFO \tFetching timing data...\n",
      "_api           INFO \tParsing timing data...\n",
      "_api        WARNING \tDriver 47: Ignoring late data for a previously processed lap.The data may contain errors (previous: 42; current 43)\n",
      "req            INFO \tData has been written to cache!\n",
      "req            INFO \tNo cached data found for timing_app_data. Loading data...\n",
      "_api           INFO \tFetching timing app data...\n",
      "req            INFO \tData has been written to cache!\n",
      "core           INFO \tProcessing timing data...\n",
      "req            INFO \tNo cached data found for weather_data. Loading data...\n",
      "_api           INFO \tFetching weather data...\n",
      "req            INFO \tData has been written to cache!\n",
      "req            INFO \tNo cached data found for race_control_messages. Loading data...\n",
      "_api           INFO \tFetching race control messages...\n",
      "req            INFO \tData has been written to cache!\n",
      "core        WARNING \tDriver 11 completed the race distance 00:00.028000 before the recorded end of the session.\n",
      "core           INFO \tFinished loading data for 20 drivers: ['11', '5', '10', '16', '4', '14', '22', '55', '3', '7', '99', '77', '47', '9', '44', '6', '63', '33', '18', '31']\n",
      "core           INFO \tLoading data for French Grand Prix - Race [v3.5.3]\n",
      "req            INFO \tNo cached data found for session_info. Loading data...\n",
      "_api           INFO \tFetching session info data...\n"
     ]
    },
    {
     "name": "stdout",
     "output_type": "stream",
     "text": [
      "2021 7\n"
     ]
    },
    {
     "name": "stderr",
     "output_type": "stream",
     "text": [
      "req            INFO \tData has been written to cache!\n",
      "req            INFO \tNo cached data found for driver_info. Loading data...\n",
      "_api           INFO \tFetching driver list...\n",
      "req            INFO \tData has been written to cache!\n",
      "req            INFO \tNo cached data found for session_status_data. Loading data...\n",
      "_api           INFO \tFetching session status data...\n",
      "req            INFO \tData has been written to cache!\n",
      "req            INFO \tNo cached data found for lap_count. Loading data...\n",
      "_api           INFO \tFetching lap count data...\n",
      "req            INFO \tData has been written to cache!\n",
      "req            INFO \tNo cached data found for track_status_data. Loading data...\n",
      "_api           INFO \tFetching track status data...\n",
      "req            INFO \tData has been written to cache!\n",
      "req            INFO \tNo cached data found for _extended_timing_data. Loading data...\n",
      "_api           INFO \tFetching timing data...\n",
      "_api           INFO \tParsing timing data...\n",
      "req            INFO \tData has been written to cache!\n",
      "req            INFO \tNo cached data found for timing_app_data. Loading data...\n",
      "_api           INFO \tFetching timing app data...\n",
      "req            INFO \tData has been written to cache!\n",
      "core           INFO \tProcessing timing data...\n",
      "req            INFO \tNo cached data found for weather_data. Loading data...\n",
      "_api           INFO \tFetching weather data...\n",
      "req            INFO \tData has been written to cache!\n",
      "req            INFO \tNo cached data found for race_control_messages. Loading data...\n",
      "_api           INFO \tFetching race control messages...\n",
      "req            INFO \tData has been written to cache!\n",
      "core        WARNING \tDriver 33 completed the race distance 00:00.047000 before the recorded end of the session.\n",
      "core           INFO \tFinished loading data for 20 drivers: ['33', '44', '11', '77', '4', '3', '10', '14', '5', '18', '55', '63', '22', '31', '99', '16', '7', '6', '47', '9']\n",
      "core           INFO \tLoading data for Styrian Grand Prix - Race [v3.5.3]\n",
      "req            INFO \tNo cached data found for session_info. Loading data...\n",
      "_api           INFO \tFetching session info data...\n",
      "logger      WARNING \tFailed to load session info data!\n",
      "req            INFO \tNo cached data found for driver_info. Loading data...\n",
      "_api           INFO \tFetching driver list...\n"
     ]
    },
    {
     "name": "stdout",
     "output_type": "stream",
     "text": [
      "2021 8\n"
     ]
    },
    {
     "name": "stderr",
     "output_type": "stream",
     "text": [
      "core        WARNING \tFailed to load extended driver information!\n",
      "logger      WARNING \tFailed to load result data from Ergast!\n",
      "core        WARNING \tNo result data for this session available on Ergast! (This is expected for recent sessions)\n",
      "core        WARNING \tFailed to load driver list and session results!\n",
      "req            INFO \tNo cached data found for session_status_data. Loading data...\n",
      "_api           INFO \tFetching session status data...\n",
      "logger      WARNING \tFailed to load session status data!\n",
      "req            INFO \tNo cached data found for lap_count. Loading data...\n",
      "_api           INFO \tFetching lap count data...\n",
      "logger      WARNING \tFailed to load total lap count!\n",
      "req            INFO \tNo cached data found for track_status_data. Loading data...\n",
      "_api           INFO \tFetching track status data...\n",
      "logger      WARNING \tFailed to load track status data!\n",
      "req            INFO \tNo cached data found for _extended_timing_data. Loading data...\n",
      "_api           INFO \tFetching timing data...\n",
      "logger      WARNING \tFailed to load timing data!\n",
      "logger      WARNING \tFailed to add first lap time from Ergast!\n",
      "req            INFO \tNo cached data found for weather_data. Loading data...\n",
      "_api           INFO \tFetching weather data...\n",
      "logger      WARNING \tFailed to load weather data!\n",
      "req            INFO \tNo cached data found for race_control_messages. Loading data...\n",
      "_api           INFO \tFetching race control messages...\n",
      "logger      WARNING \tFailed to load race control messages!\n",
      "core           INFO \tFinished loading data for 0 drivers: []\n",
      "core           INFO \tLoading data for Austrian Grand Prix - Race [v3.5.3]\n",
      "req            INFO \tNo cached data found for session_info. Loading data...\n",
      "_api           INFO \tFetching session info data...\n"
     ]
    },
    {
     "name": "stdout",
     "output_type": "stream",
     "text": [
      "2021 9\n"
     ]
    },
    {
     "name": "stderr",
     "output_type": "stream",
     "text": [
      "logger      WARNING \tFailed to load session info data!\n",
      "req            INFO \tNo cached data found for driver_info. Loading data...\n",
      "_api           INFO \tFetching driver list...\n",
      "core        WARNING \tFailed to load extended driver information!\n",
      "logger      WARNING \tFailed to load result data from Ergast!\n",
      "core        WARNING \tNo result data for this session available on Ergast! (This is expected for recent sessions)\n",
      "core        WARNING \tFailed to load driver list and session results!\n",
      "req            INFO \tNo cached data found for session_status_data. Loading data...\n",
      "_api           INFO \tFetching session status data...\n",
      "logger      WARNING \tFailed to load session status data!\n",
      "req            INFO \tNo cached data found for lap_count. Loading data...\n",
      "_api           INFO \tFetching lap count data...\n",
      "logger      WARNING \tFailed to load total lap count!\n",
      "req            INFO \tNo cached data found for track_status_data. Loading data...\n",
      "_api           INFO \tFetching track status data...\n",
      "logger      WARNING \tFailed to load track status data!\n",
      "req            INFO \tNo cached data found for _extended_timing_data. Loading data...\n",
      "_api           INFO \tFetching timing data...\n",
      "logger      WARNING \tFailed to load timing data!\n",
      "logger      WARNING \tFailed to add first lap time from Ergast!\n",
      "req            INFO \tNo cached data found for weather_data. Loading data...\n",
      "_api           INFO \tFetching weather data...\n",
      "logger      WARNING \tFailed to load weather data!\n",
      "req            INFO \tNo cached data found for race_control_messages. Loading data...\n",
      "_api           INFO \tFetching race control messages...\n",
      "logger      WARNING \tFailed to load race control messages!\n",
      "core           INFO \tFinished loading data for 0 drivers: []\n",
      "core           INFO \tLoading data for British Grand Prix - Race [v3.5.3]\n",
      "req            INFO \tNo cached data found for session_info. Loading data...\n",
      "_api           INFO \tFetching session info data...\n"
     ]
    },
    {
     "name": "stdout",
     "output_type": "stream",
     "text": [
      "2021 10\n"
     ]
    },
    {
     "name": "stderr",
     "output_type": "stream",
     "text": [
      "logger      WARNING \tFailed to load session info data!\n",
      "req            INFO \tNo cached data found for driver_info. Loading data...\n",
      "_api           INFO \tFetching driver list...\n",
      "core        WARNING \tFailed to load extended driver information!\n",
      "logger      WARNING \tFailed to load result data from Ergast!\n",
      "core        WARNING \tNo result data for this session available on Ergast! (This is expected for recent sessions)\n",
      "core        WARNING \tFailed to load driver list and session results!\n",
      "req            INFO \tNo cached data found for session_status_data. Loading data...\n",
      "_api           INFO \tFetching session status data...\n",
      "logger      WARNING \tFailed to load session status data!\n",
      "req            INFO \tNo cached data found for lap_count. Loading data...\n",
      "_api           INFO \tFetching lap count data...\n",
      "logger      WARNING \tFailed to load total lap count!\n",
      "req            INFO \tNo cached data found for track_status_data. Loading data...\n",
      "_api           INFO \tFetching track status data...\n",
      "logger      WARNING \tFailed to load track status data!\n",
      "req            INFO \tNo cached data found for _extended_timing_data. Loading data...\n",
      "_api           INFO \tFetching timing data...\n",
      "logger      WARNING \tFailed to load timing data!\n",
      "logger      WARNING \tFailed to add first lap time from Ergast!\n",
      "req            INFO \tNo cached data found for weather_data. Loading data...\n",
      "_api           INFO \tFetching weather data...\n",
      "logger      WARNING \tFailed to load weather data!\n",
      "req            INFO \tNo cached data found for race_control_messages. Loading data...\n",
      "_api           INFO \tFetching race control messages...\n",
      "logger      WARNING \tFailed to load race control messages!\n",
      "core           INFO \tFinished loading data for 0 drivers: []\n",
      "core           INFO \tLoading data for Hungarian Grand Prix - Race [v3.5.3]\n",
      "req            INFO \tNo cached data found for session_info. Loading data...\n",
      "_api           INFO \tFetching session info data...\n"
     ]
    },
    {
     "name": "stdout",
     "output_type": "stream",
     "text": [
      "2021 11\n"
     ]
    },
    {
     "name": "stderr",
     "output_type": "stream",
     "text": [
      "logger      WARNING \tFailed to load session info data!\n",
      "req            INFO \tNo cached data found for driver_info. Loading data...\n",
      "_api           INFO \tFetching driver list...\n",
      "core        WARNING \tFailed to load extended driver information!\n",
      "logger      WARNING \tFailed to load result data from Ergast!\n",
      "core        WARNING \tNo result data for this session available on Ergast! (This is expected for recent sessions)\n",
      "core        WARNING \tFailed to load driver list and session results!\n",
      "req            INFO \tNo cached data found for session_status_data. Loading data...\n",
      "_api           INFO \tFetching session status data...\n",
      "logger      WARNING \tFailed to load session status data!\n",
      "req            INFO \tNo cached data found for lap_count. Loading data...\n",
      "_api           INFO \tFetching lap count data...\n",
      "logger      WARNING \tFailed to load total lap count!\n",
      "req            INFO \tNo cached data found for track_status_data. Loading data...\n",
      "_api           INFO \tFetching track status data...\n",
      "logger      WARNING \tFailed to load track status data!\n",
      "req            INFO \tNo cached data found for _extended_timing_data. Loading data...\n",
      "_api           INFO \tFetching timing data...\n",
      "logger      WARNING \tFailed to load timing data!\n",
      "logger      WARNING \tFailed to add first lap time from Ergast!\n",
      "req            INFO \tNo cached data found for weather_data. Loading data...\n",
      "_api           INFO \tFetching weather data...\n",
      "logger      WARNING \tFailed to load weather data!\n",
      "req            INFO \tNo cached data found for race_control_messages. Loading data...\n",
      "_api           INFO \tFetching race control messages...\n",
      "logger      WARNING \tFailed to load race control messages!\n",
      "core           INFO \tFinished loading data for 0 drivers: []\n",
      "core           INFO \tLoading data for Belgian Grand Prix - Race [v3.5.3]\n",
      "req            INFO \tNo cached data found for session_info. Loading data...\n",
      "_api           INFO \tFetching session info data...\n"
     ]
    },
    {
     "name": "stdout",
     "output_type": "stream",
     "text": [
      "2021 12\n"
     ]
    },
    {
     "name": "stderr",
     "output_type": "stream",
     "text": [
      "logger      WARNING \tFailed to load session info data!\n",
      "req            INFO \tNo cached data found for driver_info. Loading data...\n",
      "_api           INFO \tFetching driver list...\n",
      "core        WARNING \tFailed to load extended driver information!\n",
      "logger      WARNING \tFailed to load result data from Ergast!\n",
      "core        WARNING \tNo result data for this session available on Ergast! (This is expected for recent sessions)\n",
      "core        WARNING \tFailed to load driver list and session results!\n",
      "req            INFO \tNo cached data found for session_status_data. Loading data...\n",
      "_api           INFO \tFetching session status data...\n",
      "logger      WARNING \tFailed to load session status data!\n",
      "req            INFO \tNo cached data found for lap_count. Loading data...\n",
      "_api           INFO \tFetching lap count data...\n",
      "logger      WARNING \tFailed to load total lap count!\n",
      "req            INFO \tNo cached data found for track_status_data. Loading data...\n",
      "_api           INFO \tFetching track status data...\n",
      "logger      WARNING \tFailed to load track status data!\n",
      "req            INFO \tNo cached data found for _extended_timing_data. Loading data...\n",
      "_api           INFO \tFetching timing data...\n",
      "logger      WARNING \tFailed to load timing data!\n",
      "logger      WARNING \tFailed to add first lap time from Ergast!\n",
      "req            INFO \tNo cached data found for weather_data. Loading data...\n",
      "_api           INFO \tFetching weather data...\n",
      "logger      WARNING \tFailed to load weather data!\n",
      "req            INFO \tNo cached data found for race_control_messages. Loading data...\n",
      "_api           INFO \tFetching race control messages...\n",
      "logger      WARNING \tFailed to load race control messages!\n",
      "core           INFO \tFinished loading data for 0 drivers: []\n",
      "core           INFO \tLoading data for Dutch Grand Prix - Race [v3.5.3]\n",
      "req            INFO \tNo cached data found for session_info. Loading data...\n",
      "_api           INFO \tFetching session info data...\n"
     ]
    },
    {
     "name": "stdout",
     "output_type": "stream",
     "text": [
      "2021 13\n"
     ]
    },
    {
     "name": "stderr",
     "output_type": "stream",
     "text": [
      "logger      WARNING \tFailed to load session info data!\n",
      "req            INFO \tNo cached data found for driver_info. Loading data...\n",
      "_api           INFO \tFetching driver list...\n",
      "core        WARNING \tFailed to load extended driver information!\n",
      "logger      WARNING \tFailed to load result data from Ergast!\n",
      "core        WARNING \tNo result data for this session available on Ergast! (This is expected for recent sessions)\n",
      "core        WARNING \tFailed to load driver list and session results!\n",
      "req            INFO \tNo cached data found for session_status_data. Loading data...\n",
      "_api           INFO \tFetching session status data...\n",
      "logger      WARNING \tFailed to load session status data!\n",
      "req            INFO \tNo cached data found for lap_count. Loading data...\n",
      "_api           INFO \tFetching lap count data...\n",
      "logger      WARNING \tFailed to load total lap count!\n",
      "req            INFO \tNo cached data found for track_status_data. Loading data...\n",
      "_api           INFO \tFetching track status data...\n",
      "logger      WARNING \tFailed to load track status data!\n",
      "req            INFO \tNo cached data found for _extended_timing_data. Loading data...\n",
      "_api           INFO \tFetching timing data...\n",
      "logger      WARNING \tFailed to load timing data!\n",
      "logger      WARNING \tFailed to add first lap time from Ergast!\n",
      "req            INFO \tNo cached data found for weather_data. Loading data...\n",
      "_api           INFO \tFetching weather data...\n",
      "logger      WARNING \tFailed to load weather data!\n",
      "req            INFO \tNo cached data found for race_control_messages. Loading data...\n",
      "_api           INFO \tFetching race control messages...\n",
      "logger      WARNING \tFailed to load race control messages!\n",
      "core           INFO \tFinished loading data for 0 drivers: []\n",
      "core           INFO \tLoading data for Italian Grand Prix - Race [v3.5.3]\n",
      "req            INFO \tNo cached data found for session_info. Loading data...\n",
      "_api           INFO \tFetching session info data...\n"
     ]
    },
    {
     "name": "stdout",
     "output_type": "stream",
     "text": [
      "2021 14\n"
     ]
    },
    {
     "name": "stderr",
     "output_type": "stream",
     "text": [
      "logger      WARNING \tFailed to load session info data!\n",
      "req            INFO \tNo cached data found for driver_info. Loading data...\n",
      "_api           INFO \tFetching driver list...\n",
      "core        WARNING \tFailed to load extended driver information!\n",
      "logger      WARNING \tFailed to load result data from Ergast!\n",
      "core        WARNING \tNo result data for this session available on Ergast! (This is expected for recent sessions)\n",
      "core        WARNING \tFailed to load driver list and session results!\n",
      "req            INFO \tNo cached data found for session_status_data. Loading data...\n",
      "_api           INFO \tFetching session status data...\n",
      "logger      WARNING \tFailed to load session status data!\n",
      "req            INFO \tNo cached data found for lap_count. Loading data...\n",
      "_api           INFO \tFetching lap count data...\n",
      "logger      WARNING \tFailed to load total lap count!\n",
      "req            INFO \tNo cached data found for track_status_data. Loading data...\n",
      "_api           INFO \tFetching track status data...\n",
      "logger      WARNING \tFailed to load track status data!\n",
      "req            INFO \tNo cached data found for _extended_timing_data. Loading data...\n",
      "_api           INFO \tFetching timing data...\n",
      "logger      WARNING \tFailed to load timing data!\n",
      "logger      WARNING \tFailed to add first lap time from Ergast!\n",
      "req            INFO \tNo cached data found for weather_data. Loading data...\n",
      "_api           INFO \tFetching weather data...\n",
      "logger      WARNING \tFailed to load weather data!\n",
      "req            INFO \tNo cached data found for race_control_messages. Loading data...\n",
      "_api           INFO \tFetching race control messages...\n",
      "logger      WARNING \tFailed to load race control messages!\n",
      "core           INFO \tFinished loading data for 0 drivers: []\n",
      "core           INFO \tLoading data for Russian Grand Prix - Race [v3.5.3]\n",
      "req            INFO \tNo cached data found for session_info. Loading data...\n",
      "_api           INFO \tFetching session info data...\n"
     ]
    },
    {
     "name": "stdout",
     "output_type": "stream",
     "text": [
      "2021 15\n"
     ]
    },
    {
     "name": "stderr",
     "output_type": "stream",
     "text": [
      "logger      WARNING \tFailed to load session info data!\n",
      "req            INFO \tNo cached data found for driver_info. Loading data...\n",
      "_api           INFO \tFetching driver list...\n",
      "core        WARNING \tFailed to load extended driver information!\n",
      "logger      WARNING \tFailed to load result data from Ergast!\n",
      "core        WARNING \tNo result data for this session available on Ergast! (This is expected for recent sessions)\n",
      "core        WARNING \tFailed to load driver list and session results!\n",
      "req            INFO \tNo cached data found for session_status_data. Loading data...\n",
      "_api           INFO \tFetching session status data...\n",
      "logger      WARNING \tFailed to load session status data!\n",
      "req            INFO \tNo cached data found for lap_count. Loading data...\n",
      "_api           INFO \tFetching lap count data...\n",
      "logger      WARNING \tFailed to load total lap count!\n",
      "req            INFO \tNo cached data found for track_status_data. Loading data...\n",
      "_api           INFO \tFetching track status data...\n",
      "logger      WARNING \tFailed to load track status data!\n",
      "req            INFO \tNo cached data found for _extended_timing_data. Loading data...\n",
      "_api           INFO \tFetching timing data...\n",
      "logger      WARNING \tFailed to load timing data!\n",
      "logger      WARNING \tFailed to add first lap time from Ergast!\n",
      "req            INFO \tNo cached data found for weather_data. Loading data...\n",
      "_api           INFO \tFetching weather data...\n",
      "logger      WARNING \tFailed to load weather data!\n",
      "req            INFO \tNo cached data found for race_control_messages. Loading data...\n",
      "_api           INFO \tFetching race control messages...\n",
      "logger      WARNING \tFailed to load race control messages!\n",
      "core           INFO \tFinished loading data for 0 drivers: []\n",
      "core           INFO \tLoading data for Turkish Grand Prix - Race [v3.5.3]\n",
      "req            INFO \tNo cached data found for session_info. Loading data...\n",
      "_api           INFO \tFetching session info data...\n"
     ]
    },
    {
     "name": "stdout",
     "output_type": "stream",
     "text": [
      "2021 16\n"
     ]
    },
    {
     "name": "stderr",
     "output_type": "stream",
     "text": [
      "logger      WARNING \tFailed to load session info data!\n",
      "req            INFO \tNo cached data found for driver_info. Loading data...\n",
      "_api           INFO \tFetching driver list...\n",
      "core        WARNING \tFailed to load extended driver information!\n",
      "logger      WARNING \tFailed to load result data from Ergast!\n",
      "core        WARNING \tNo result data for this session available on Ergast! (This is expected for recent sessions)\n",
      "core        WARNING \tFailed to load driver list and session results!\n",
      "req            INFO \tNo cached data found for session_status_data. Loading data...\n",
      "_api           INFO \tFetching session status data...\n",
      "logger      WARNING \tFailed to load session status data!\n",
      "req            INFO \tNo cached data found for lap_count. Loading data...\n",
      "_api           INFO \tFetching lap count data...\n",
      "logger      WARNING \tFailed to load total lap count!\n",
      "req            INFO \tNo cached data found for track_status_data. Loading data...\n",
      "_api           INFO \tFetching track status data...\n",
      "logger      WARNING \tFailed to load track status data!\n",
      "req            INFO \tNo cached data found for _extended_timing_data. Loading data...\n",
      "_api           INFO \tFetching timing data...\n",
      "logger      WARNING \tFailed to load timing data!\n",
      "logger      WARNING \tFailed to add first lap time from Ergast!\n",
      "req            INFO \tNo cached data found for weather_data. Loading data...\n",
      "_api           INFO \tFetching weather data...\n",
      "logger      WARNING \tFailed to load weather data!\n",
      "req            INFO \tNo cached data found for race_control_messages. Loading data...\n",
      "_api           INFO \tFetching race control messages...\n",
      "logger      WARNING \tFailed to load race control messages!\n",
      "core           INFO \tFinished loading data for 0 drivers: []\n",
      "core           INFO \tLoading data for United States Grand Prix - Race [v3.5.3]\n",
      "req            INFO \tNo cached data found for session_info. Loading data...\n",
      "_api           INFO \tFetching session info data...\n"
     ]
    },
    {
     "name": "stdout",
     "output_type": "stream",
     "text": [
      "2021 17\n"
     ]
    },
    {
     "name": "stderr",
     "output_type": "stream",
     "text": [
      "logger      WARNING \tFailed to load session info data!\n",
      "req            INFO \tNo cached data found for driver_info. Loading data...\n",
      "_api           INFO \tFetching driver list...\n",
      "core        WARNING \tFailed to load extended driver information!\n",
      "logger      WARNING \tFailed to load result data from Ergast!\n",
      "core        WARNING \tNo result data for this session available on Ergast! (This is expected for recent sessions)\n",
      "core        WARNING \tFailed to load driver list and session results!\n",
      "req            INFO \tNo cached data found for session_status_data. Loading data...\n",
      "_api           INFO \tFetching session status data...\n",
      "logger      WARNING \tFailed to load session status data!\n",
      "req            INFO \tNo cached data found for lap_count. Loading data...\n",
      "_api           INFO \tFetching lap count data...\n",
      "logger      WARNING \tFailed to load total lap count!\n",
      "req            INFO \tNo cached data found for track_status_data. Loading data...\n",
      "_api           INFO \tFetching track status data...\n",
      "logger      WARNING \tFailed to load track status data!\n",
      "req            INFO \tNo cached data found for _extended_timing_data. Loading data...\n",
      "_api           INFO \tFetching timing data...\n",
      "logger      WARNING \tFailed to load timing data!\n",
      "logger      WARNING \tFailed to add first lap time from Ergast!\n",
      "req            INFO \tNo cached data found for weather_data. Loading data...\n",
      "_api           INFO \tFetching weather data...\n",
      "logger      WARNING \tFailed to load weather data!\n",
      "req            INFO \tNo cached data found for race_control_messages. Loading data...\n",
      "_api           INFO \tFetching race control messages...\n",
      "logger      WARNING \tFailed to load race control messages!\n",
      "core           INFO \tFinished loading data for 0 drivers: []\n",
      "core           INFO \tLoading data for Mexico City Grand Prix - Race [v3.5.3]\n",
      "req            INFO \tNo cached data found for session_info. Loading data...\n",
      "_api           INFO \tFetching session info data...\n"
     ]
    },
    {
     "name": "stdout",
     "output_type": "stream",
     "text": [
      "2021 18\n"
     ]
    },
    {
     "name": "stderr",
     "output_type": "stream",
     "text": [
      "logger      WARNING \tFailed to load session info data!\n",
      "req            INFO \tNo cached data found for driver_info. Loading data...\n",
      "_api           INFO \tFetching driver list...\n",
      "core        WARNING \tFailed to load extended driver information!\n",
      "logger      WARNING \tFailed to load result data from Ergast!\n",
      "core        WARNING \tNo result data for this session available on Ergast! (This is expected for recent sessions)\n",
      "core        WARNING \tFailed to load driver list and session results!\n",
      "req            INFO \tNo cached data found for session_status_data. Loading data...\n",
      "_api           INFO \tFetching session status data...\n",
      "logger      WARNING \tFailed to load session status data!\n",
      "req            INFO \tNo cached data found for lap_count. Loading data...\n",
      "_api           INFO \tFetching lap count data...\n",
      "logger      WARNING \tFailed to load total lap count!\n",
      "req            INFO \tNo cached data found for track_status_data. Loading data...\n",
      "_api           INFO \tFetching track status data...\n",
      "logger      WARNING \tFailed to load track status data!\n",
      "req            INFO \tNo cached data found for _extended_timing_data. Loading data...\n",
      "_api           INFO \tFetching timing data...\n",
      "logger      WARNING \tFailed to load timing data!\n",
      "logger      WARNING \tFailed to add first lap time from Ergast!\n",
      "req            INFO \tNo cached data found for weather_data. Loading data...\n",
      "_api           INFO \tFetching weather data...\n",
      "logger      WARNING \tFailed to load weather data!\n",
      "req            INFO \tNo cached data found for race_control_messages. Loading data...\n",
      "_api           INFO \tFetching race control messages...\n",
      "logger      WARNING \tFailed to load race control messages!\n",
      "core           INFO \tFinished loading data for 0 drivers: []\n",
      "core           INFO \tLoading data for São Paulo Grand Prix - Race [v3.5.3]\n",
      "req            INFO \tNo cached data found for session_info. Loading data...\n",
      "_api           INFO \tFetching session info data...\n"
     ]
    },
    {
     "name": "stdout",
     "output_type": "stream",
     "text": [
      "2021 19\n"
     ]
    },
    {
     "name": "stderr",
     "output_type": "stream",
     "text": [
      "logger      WARNING \tFailed to load session info data!\n",
      "req            INFO \tNo cached data found for driver_info. Loading data...\n",
      "_api           INFO \tFetching driver list...\n",
      "core        WARNING \tFailed to load extended driver information!\n",
      "logger      WARNING \tFailed to load result data from Ergast!\n",
      "core        WARNING \tNo result data for this session available on Ergast! (This is expected for recent sessions)\n",
      "core        WARNING \tFailed to load driver list and session results!\n",
      "req            INFO \tNo cached data found for session_status_data. Loading data...\n",
      "_api           INFO \tFetching session status data...\n",
      "logger      WARNING \tFailed to load session status data!\n",
      "req            INFO \tNo cached data found for lap_count. Loading data...\n",
      "_api           INFO \tFetching lap count data...\n",
      "logger      WARNING \tFailed to load total lap count!\n",
      "req            INFO \tNo cached data found for track_status_data. Loading data...\n",
      "_api           INFO \tFetching track status data...\n",
      "logger      WARNING \tFailed to load track status data!\n",
      "req            INFO \tNo cached data found for _extended_timing_data. Loading data...\n",
      "_api           INFO \tFetching timing data...\n",
      "logger      WARNING \tFailed to load timing data!\n",
      "logger      WARNING \tFailed to add first lap time from Ergast!\n",
      "req            INFO \tNo cached data found for weather_data. Loading data...\n",
      "_api           INFO \tFetching weather data...\n",
      "logger      WARNING \tFailed to load weather data!\n",
      "req            INFO \tNo cached data found for race_control_messages. Loading data...\n",
      "_api           INFO \tFetching race control messages...\n",
      "logger      WARNING \tFailed to load race control messages!\n",
      "core           INFO \tFinished loading data for 0 drivers: []\n",
      "core           INFO \tLoading data for Qatar Grand Prix - Race [v3.5.3]\n",
      "req            INFO \tNo cached data found for session_info. Loading data...\n",
      "_api           INFO \tFetching session info data...\n"
     ]
    },
    {
     "name": "stdout",
     "output_type": "stream",
     "text": [
      "2021 20\n"
     ]
    },
    {
     "name": "stderr",
     "output_type": "stream",
     "text": [
      "logger      WARNING \tFailed to load session info data!\n",
      "req            INFO \tNo cached data found for driver_info. Loading data...\n",
      "_api           INFO \tFetching driver list...\n",
      "core        WARNING \tFailed to load extended driver information!\n",
      "logger      WARNING \tFailed to load result data from Ergast!\n",
      "core        WARNING \tNo result data for this session available on Ergast! (This is expected for recent sessions)\n",
      "core        WARNING \tFailed to load driver list and session results!\n",
      "req            INFO \tNo cached data found for session_status_data. Loading data...\n",
      "_api           INFO \tFetching session status data...\n",
      "logger      WARNING \tFailed to load session status data!\n",
      "req            INFO \tNo cached data found for lap_count. Loading data...\n",
      "_api           INFO \tFetching lap count data...\n",
      "logger      WARNING \tFailed to load total lap count!\n",
      "req            INFO \tNo cached data found for track_status_data. Loading data...\n",
      "_api           INFO \tFetching track status data...\n",
      "logger      WARNING \tFailed to load track status data!\n",
      "req            INFO \tNo cached data found for _extended_timing_data. Loading data...\n",
      "_api           INFO \tFetching timing data...\n",
      "logger      WARNING \tFailed to load timing data!\n",
      "logger      WARNING \tFailed to add first lap time from Ergast!\n",
      "req            INFO \tNo cached data found for weather_data. Loading data...\n",
      "_api           INFO \tFetching weather data...\n",
      "logger      WARNING \tFailed to load weather data!\n",
      "req            INFO \tNo cached data found for race_control_messages. Loading data...\n",
      "_api           INFO \tFetching race control messages...\n",
      "logger      WARNING \tFailed to load race control messages!\n",
      "core           INFO \tFinished loading data for 0 drivers: []\n",
      "core           INFO \tLoading data for Saudi Arabian Grand Prix - Race [v3.5.3]\n",
      "req            INFO \tNo cached data found for session_info. Loading data...\n",
      "_api           INFO \tFetching session info data...\n"
     ]
    },
    {
     "name": "stdout",
     "output_type": "stream",
     "text": [
      "2021 21\n"
     ]
    },
    {
     "name": "stderr",
     "output_type": "stream",
     "text": [
      "logger      WARNING \tFailed to load session info data!\n",
      "req            INFO \tNo cached data found for driver_info. Loading data...\n",
      "_api           INFO \tFetching driver list...\n",
      "core        WARNING \tFailed to load extended driver information!\n",
      "logger      WARNING \tFailed to load result data from Ergast!\n",
      "core        WARNING \tNo result data for this session available on Ergast! (This is expected for recent sessions)\n",
      "core        WARNING \tFailed to load driver list and session results!\n",
      "req            INFO \tNo cached data found for session_status_data. Loading data...\n",
      "_api           INFO \tFetching session status data...\n",
      "logger      WARNING \tFailed to load session status data!\n",
      "req            INFO \tNo cached data found for lap_count. Loading data...\n",
      "_api           INFO \tFetching lap count data...\n",
      "logger      WARNING \tFailed to load total lap count!\n",
      "req            INFO \tNo cached data found for track_status_data. Loading data...\n",
      "_api           INFO \tFetching track status data...\n",
      "logger      WARNING \tFailed to load track status data!\n",
      "req            INFO \tNo cached data found for _extended_timing_data. Loading data...\n",
      "_api           INFO \tFetching timing data...\n",
      "logger      WARNING \tFailed to load timing data!\n",
      "logger      WARNING \tFailed to add first lap time from Ergast!\n",
      "req            INFO \tNo cached data found for weather_data. Loading data...\n",
      "_api           INFO \tFetching weather data...\n",
      "logger      WARNING \tFailed to load weather data!\n",
      "req            INFO \tNo cached data found for race_control_messages. Loading data...\n",
      "_api           INFO \tFetching race control messages...\n",
      "logger      WARNING \tFailed to load race control messages!\n",
      "core           INFO \tFinished loading data for 0 drivers: []\n",
      "core           INFO \tLoading data for Abu Dhabi Grand Prix - Race [v3.5.3]\n",
      "req            INFO \tNo cached data found for session_info. Loading data...\n",
      "_api           INFO \tFetching session info data...\n"
     ]
    },
    {
     "name": "stdout",
     "output_type": "stream",
     "text": [
      "2021 22\n"
     ]
    },
    {
     "name": "stderr",
     "output_type": "stream",
     "text": [
      "logger      WARNING \tFailed to load session info data!\n",
      "req            INFO \tNo cached data found for driver_info. Loading data...\n",
      "_api           INFO \tFetching driver list...\n",
      "core        WARNING \tFailed to load extended driver information!\n",
      "logger      WARNING \tFailed to load result data from Ergast!\n",
      "core        WARNING \tNo result data for this session available on Ergast! (This is expected for recent sessions)\n",
      "core        WARNING \tFailed to load driver list and session results!\n",
      "req            INFO \tNo cached data found for session_status_data. Loading data...\n",
      "_api           INFO \tFetching session status data...\n",
      "logger      WARNING \tFailed to load session status data!\n",
      "req            INFO \tNo cached data found for lap_count. Loading data...\n",
      "_api           INFO \tFetching lap count data...\n",
      "logger      WARNING \tFailed to load total lap count!\n",
      "req            INFO \tNo cached data found for track_status_data. Loading data...\n",
      "_api           INFO \tFetching track status data...\n",
      "logger      WARNING \tFailed to load track status data!\n",
      "req            INFO \tNo cached data found for _extended_timing_data. Loading data...\n",
      "_api           INFO \tFetching timing data...\n",
      "logger      WARNING \tFailed to load timing data!\n",
      "logger      WARNING \tFailed to add first lap time from Ergast!\n",
      "req            INFO \tNo cached data found for weather_data. Loading data...\n",
      "_api           INFO \tFetching weather data...\n",
      "logger      WARNING \tFailed to load weather data!\n",
      "req            INFO \tNo cached data found for race_control_messages. Loading data...\n",
      "_api           INFO \tFetching race control messages...\n",
      "logger      WARNING \tFailed to load race control messages!\n",
      "core           INFO \tFinished loading data for 0 drivers: []\n",
      "logger      WARNING \tFailed to load schedule from FastF1 backend!\n",
      "req            INFO \tNo cached data found for season_schedule. Loading data...\n",
      "_api           INFO \tFetching season schedule...\n",
      "logger      WARNING \tFailed to load schedule from F1 API backend!\n",
      "logger      WARNING \tFailed to load schedule from Ergast API backend!\n",
      "logger      WARNING \tFailed to load schedule from FastF1 backend!\n",
      "req            INFO \tNo cached data found for season_schedule. Loading data...\n",
      "_api           INFO \tFetching season schedule...\n",
      "logger      WARNING \tFailed to load schedule from F1 API backend!\n",
      "logger      WARNING \tFailed to load schedule from Ergast API backend!\n"
     ]
    }
   ],
   "source": [
    "lap_list = []\n",
    "weather_list = []\n",
    "years = range(2015, 2024)\n",
    "for year in years:\n",
    "    try:\n",
    "        schedule = fastf1.get_event_schedule(year)\n",
    "    except Exception:\n",
    "        continue\n",
    "    total_rounds = schedule['RoundNumber'].nunique()\n",
    "\n",
    "    for i in range(1, total_rounds):\n",
    "        print(year, i)\n",
    "        race = fastf1.get_session(year, i, 'R')\n",
    "        race.load(telemetry=False)\n",
    "        try:\n",
    "            laps = race.laps\n",
    "            weather = race.weather_data\n",
    "            lap_list.append(laps)\n",
    "            weather_list.append(weather)\n",
    "        except Exception:\n",
    "            continue"
   ]
  },
  {
   "cell_type": "code",
   "execution_count": 4,
   "id": "6e046087",
   "metadata": {},
   "outputs": [
    {
     "name": "stdout",
     "output_type": "stream",
     "text": [
      "-0.00019455033294922883\n"
     ]
    }
   ],
   "source": [
    "\n",
    "def evaluate_pit_lap_gain(lap_list):\n",
    "    results = []\n",
    "    for laps_df, weather_df in zip(lap_list, weather_list):\n",
    "        for driver_code in laps_df[\"Driver\"].unique():\n",
    "            driver_laps = laps_df[laps_df['Driver'] == driver_code].sort_values('LapNumber')\n",
    "            pit_laps = driver_laps[driver_laps['PitInTime'].notna()]\n",
    "\n",
    "            \n",
    "            for _, pit_row in pit_laps.iterrows():\n",
    "                pit_lap = pit_row['LapNumber']\n",
    "                \n",
    "                # Get 3 laps before\n",
    "                before_laps = driver_laps[(driver_laps['LapNumber'] >= pit_lap - 4) & \n",
    "                                        (driver_laps['LapNumber'] < pit_lap - 1)]\n",
    "                \n",
    "                after_laps = driver_laps[(driver_laps['LapNumber'] > pit_lap + 1) & \n",
    "                                        (driver_laps['LapNumber'] <= pit_lap + 4)]\n",
    "                \n",
    "                \n",
    "                before = before_laps['LapTime'].dt.total_seconds().dropna()\n",
    "                after = after_laps['LapTime'].dt.total_seconds().dropna()\n",
    "                \n",
    "                \n",
    "                \n",
    "                if len(before) >= 2 and len(after) >= 2:\n",
    "                    delta = before.mean() - after.mean()\n",
    "                    pct_gain = delta/before.mean()\n",
    "                    if np.abs(pct_gain) > 0.3: continue\n",
    "                    compound_before = before_laps.iloc[-1]['Compound'] if not before_laps.empty else None\n",
    "                    compound_after = after_laps.iloc[0]['Compound'] if not after_laps.empty else None\n",
    "                \n",
    "                    pit_time = pit_row['PitInTime']\n",
    "                    weather_data = weather_df\n",
    "                    pit_weather = weather_data[weather_data['Time'] > pit_time]\n",
    "                    if pit_weather.shape[0] > 0: pit_weather = pit_weather.iloc[0]\n",
    "                    else: continue\n",
    "\n",
    "                    results.append({\n",
    "                        'Driver': driver_code,\n",
    "                        'PitLap': pit_lap,\n",
    "                        'AvgLapBefore': before.mean(),\n",
    "                        'AvgLapAfter': after.mean(),\n",
    "                        'LapTimeGain': delta,\n",
    "                        'CompoundBefore': compound_before,\n",
    "                        'CompoundAfter': compound_after,\n",
    "                        'AirTemp': pit_weather[\"AirTemp\"],\n",
    "                        'Humidity': pit_weather[\"Humidity\"],\n",
    "                        'Pressure': pit_weather[\"Pressure\"],\n",
    "                        'Rainfall': pit_weather[\"Rainfall\"],\n",
    "                        'TrackTemp': pit_weather[\"TrackTemp\"],\n",
    "                        'WindDirection': pit_weather[\"WindDirection\"],\n",
    "                        \"WindSpeed\": pit_weather[\"WindSpeed\"]})\n",
    "\n",
    "    \n",
    "    return pd.DataFrame(results)\n",
    "\n",
    "pit_changes = evaluate_pit_lap_gain(lap_list)\n",
    "print((pit_changes[\"LapTimeGain\"]/pit_changes[\"AvgLapBefore\"]).mean())\n"
   ]
  },
  {
   "cell_type": "code",
   "execution_count": 5,
   "id": "f8451ad8",
   "metadata": {},
   "outputs": [
    {
     "data": {
      "text/plain": [
       "0      -0.007130\n",
       "1      -0.000409\n",
       "2       0.203553\n",
       "3      -0.296007\n",
       "4      -0.237314\n",
       "          ...   \n",
       "1607    0.019883\n",
       "1608    0.018728\n",
       "1609    0.020512\n",
       "1610    0.020925\n",
       "1611    0.018713\n",
       "Length: 1612, dtype: float64"
      ]
     },
     "execution_count": 5,
     "metadata": {},
     "output_type": "execute_result"
    }
   ],
   "source": [
    "pit_changes[\"LapTimeGain\"]/pit_changes[\"AvgLapBefore\"]"
   ]
  },
  {
   "cell_type": "code",
   "execution_count": 6,
   "id": "00f2533e",
   "metadata": {},
   "outputs": [
    {
     "data": {
      "image/png": "[encoded data removed]",
      "text/plain": [
       "<Figure size 640x480 with 1 Axes>"
      ]
     },
     "metadata": {},
     "output_type": "display_data"
    }
   ],
   "source": [
    "plt.figure()\n",
    "plt.plot(pit_changes[\"LapTimeGain\"]/pit_changes[\"AvgLapBefore\"], 'o')\n",
    "plt.show()"
   ]
  },
  {
   "cell_type": "code",
   "execution_count": 62,
   "id": "5e415631",
   "metadata": {},
   "outputs": [
    {
     "data": {
      "image/png": "[encoded data removed]",
      "text/plain": [
       "<Figure size 600x300 with 2 Axes>"
      ]
     },
     "metadata": {},
     "output_type": "display_data"
    }
   ],
   "source": [
    "order = [\"WET\", \"ULTRASOFT\", \"HYPERSOFT\", \"SUPERSOFT\", \"SOFT\", \"MEDIUM\", \"INTERMEDIATE\", \"HARD\"]\n",
    "transition_matrix = pd.crosstab(pit_changes[\"CompoundBefore\"], pit_changes[\"CompoundAfter\"])\n",
    "transition_matrix = transition_matrix.reindex(index=order, columns=order, fill_value=0)\n",
    "\n",
    "plt.figure(figsize=(6, 3))\n",
    "plt.imshow(transition_matrix, cmap=\"Blues\", aspect=\"auto\")\n",
    "plt.xticks(ticks=np.arange(len(transition_matrix.columns)), labels=transition_matrix.columns, rotation=45)\n",
    "plt.yticks(ticks=np.arange(len(transition_matrix.index)), labels=transition_matrix.index)\n",
    "plt.xlabel(\"Compound After\")\n",
    "plt.ylabel(\"Compound Before\")\n",
    "plt.title(\"Compound Transition Matrix\")\n",
    "plt.colorbar(label=\"Count\")\n",
    "plt.show()"
   ]
  },
  {
   "cell_type": "code",
   "execution_count": null,
   "id": "3a9a19d3",
   "metadata": {},
   "outputs": [
    {
     "name": "stdout",
     "output_type": "stream",
     "text": [
      "(1289, 9) (323, 9)\n",
      "Test RMSE: 0.05451 Train RMSE: 0.01321\n",
      "Pred_mean: -0.0026633618399500847\n",
      "Mean: -0.00019455033294922883, mean_rmse: 0.08014356310509292\n"
     ]
    }
   ],
   "source": [
    "data = pit_changes.copy()\n",
    "y = data[\"LapTimeGain\"]/data[\"AvgLapBefore\"]\n",
    "data.drop(columns = [\"Driver\", \"PitLap\", 'AvgLapBefore', 'AvgLapAfter', 'LapTimeGain'], inplace=True)\n",
    "X = data[[column for column in data.columns if column != \"y\"]]\n",
    "\n",
    "cat_cols = ['CompoundBefore', 'CompoundAfter']\n",
    "\n",
    "for col in cat_cols:\n",
    "    X[col] = X[col].astype('category')\n",
    "\n",
    "X_train, X_test, y_train, y_test = train_test_split(X, y, random_state=1, test_size=0.2)\n",
    "print(X_train.shape, X_test.shape)\n",
    "train_mse = []\n",
    "test_mse = []\n",
    "for depth in range(1, 10):\n",
    "    params = {\n",
    "        'objective': 'reg:squarederror', 'learning_rate': 0.3, 'max_depth': depth, 'subsample': 0.5, 'seed': 1\n",
    "    }\n",
    "    dtrain = xgb.DMatrix(X_train, label=y_train, enable_categorical=True)\n",
    "    dtest = xgb.DMatrix(X_test, label=y_test, enable_categorical=True)\n",
    "    num_rounds = 100\n",
    "    model = xgb.train(params, dtrain, num_rounds)\n",
    "\n",
    "    y_pred_train = model.predict(dtrain)\n",
    "    # print(any(np.isnan(y_train)))\n",
    "    y_pred = model.predict(dtest)\n",
    "    rmse_train = np.sqrt(np.mean((y_train - y_pred_train) ** 2))\n",
    "    rmse = np.sqrt(np.mean((y_test - y_pred) ** 2))\n",
    "\n",
    "    train_mse.append(rmse_train)\n",
    "    test_mse.append(rmse)\n",
    "print(f\"Test RMSE: {rmse:.5f}\", f\"Train RMSE: {rmse_train:.5f}\")\n",
    "print(f\"Pred_mean: {y_pred.mean()}\")\n",
    "mean = y.mean()\n",
    "print(f\"Mean: {mean}, mean_rmse: {np.sqrt(np.mean((y_test - mean) ** 2))}\")\n",
    "# print(X_train)"
   ]
  },
  {
   "cell_type": "code",
   "execution_count": 68,
   "id": "e9b7dfc4",
   "metadata": {},
   "outputs": [
    {
     "name": "stdout",
     "output_type": "stream",
     "text": [
      "Test RMSE: 0.07834 Train RMSE: 0.06894\n",
      "Pred_mean: 0.002978873857742362\n",
      "Mean: -0.00019455033294922883, mean_rmse: 0.08014356310509292\n"
     ]
    }
   ],
   "source": [
    "from sklearn.linear_model import LinearRegression\n",
    "from sklearn.metrics import mean_squared_error\n",
    "\n",
    "data = pit_changes.copy()\n",
    "y = data[\"LapTimeGain\"] / data[\"AvgLapBefore\"]\n",
    "data.drop(columns=[\"Driver\", \"PitLap\", \"AvgLapBefore\", \"AvgLapAfter\", \"LapTimeGain\"], inplace=True)\n",
    "X = data[[column for column in data.columns if column != \"y\"]]\n",
    "\n",
    "cat_cols = ['CompoundBefore', 'CompoundAfter']\n",
    "X = pd.get_dummies(X, columns=cat_cols)\n",
    "\n",
    "X_train, X_test, y_train, y_test = train_test_split(X, y, random_state=1, test_size=0.2)\n",
    "\n",
    "lr = LinearRegression()\n",
    "lr.fit(X_train, y_train)\n",
    "\n",
    "y_pred_train = lr.predict(X_train)\n",
    "y_pred = lr.predict(X_test)\n",
    "\n",
    "rmse_train = np.sqrt(mean_squared_error(y_train, y_pred_train))\n",
    "rmse = np.sqrt(mean_squared_error(y_test, y_pred))\n",
    "\n",
    "print(f\"Test RMSE: {rmse:.5f}\", f\"Train RMSE: {rmse_train:.5f}\")\n",
    "print(f\"Pred_mean: {y_pred.mean()}\")\n",
    "mean = y.mean()\n",
    "print(f\"Mean: {mean}, mean_rmse: {np.sqrt(np.mean((y_test - mean) ** 2))}\")"
   ]
  },
  {
   "cell_type": "code",
   "execution_count": 8,
   "id": "4683470a",
   "metadata": {},
   "outputs": [
    {
     "name": "stdout",
     "output_type": "stream",
     "text": [
      "[0.06327021294391028, 0.04540040051778599, 0.03325587115050455, 0.023612372575061286, 0.018371956203636776, 0.015278219724675916, 0.014274628335769753, 0.013598620896084272, 0.01320944885703078]\n"
     ]
    },
    {
     "data": {
      "image/png": "[encoded data removed]",
      "text/plain": [
       "<Figure size 640x480 with 1 Axes>"
      ]
     },
     "metadata": {},
     "output_type": "display_data"
    }
   ],
   "source": [
    "print(train_mse)\n",
    "plt.figure()\n",
    "plt.plot(range(1, 10), train_mse)\n",
    "plt.plot(range(1, 10), test_mse)\n",
    "plt.xlabel(\"Model Depth\")\n",
    "plt.ylabel(\"Mean Square Error\")\n",
    "plt.legend([\"Training\", \"Testing\"])\n",
    "plt.show()"
   ]
  },
  {
   "cell_type": "code",
   "execution_count": null,
   "id": "ee3aa63c",
   "metadata": {},
   "outputs": [
    {
     "name": "stdout",
     "output_type": "stream",
     "text": [
      "(1289, 9) (323, 9)\n",
      "Test RMSE: 0.05263 Train RMSE: 0.02361\n",
      "Pred_mean: -0.0005439363303594291\n",
      "Mean: -0.00019455033294922883, mean_rmse: 0.08014356310509292\n"
     ]
    }
   ],
   "source": [
    "data = pit_changes.copy()\n",
    "y = data[\"LapTimeGain\"]/data[\"AvgLapBefore\"]\n",
    "data.drop(columns = [\"Driver\", \"PitLap\", 'AvgLapBefore', 'AvgLapAfter', 'LapTimeGain'], inplace=True)\n",
    "X = data[[column for column in data.columns if column != \"y\"]]\n",
    "\n",
    "cat_cols = ['CompoundBefore', 'CompoundAfter']\n",
    "\n",
    "for col in cat_cols:\n",
    "    X[col] = X[col].astype('category')\n",
    "\n",
    "X_train, X_test, y_train, y_test = train_test_split(X, y, random_state=1, test_size=0.2)\n",
    "print(X_train.shape, X_test.shape)\n",
    "train_mse = []\n",
    "test_mse = []\n",
    "depth = 4\n",
    "params = {\n",
    "    'objective': 'reg:squarederror', 'learning_rate': 0.3, 'max_depth': depth, 'subsample': 0.5, 'seed': 1\n",
    "}\n",
    "dtrain = xgb.DMatrix(X_train, label=y_train, enable_categorical=True)\n",
    "dtest = xgb.DMatrix(X_test, label=y_test, enable_categorical=True)\n",
    "num_rounds = 100\n",
    "model = xgb.train(params, dtrain, num_rounds)\n",
    "\n",
    "y_pred_train = model.predict(dtrain)\n",
    "# print(any(np.isnan(y_train)))\n",
    "y_pred = model.predict(dtest)\n",
    "rmse_train = np.sqrt(np.mean((y_train - y_pred_train) ** 2))\n",
    "rmse = np.sqrt(np.mean((y_test - y_pred) ** 2))\n",
    "\n",
    "train_mse.append(rmse_train)\n",
    "test_mse.append(rmse)\n",
    "print(f\"Test RMSE: {rmse:.5f}\", f\"Train RMSE: {rmse_train:.5f}\")\n",
    "print(f\"Pred_mean: {y_pred.mean()}\")\n",
    "mean = y.mean()\n",
    "print(f\"Mean: {mean}, mean_rmse: {np.sqrt(np.mean((y_test - mean) ** 2))}\")\n",
    "# print(X_train)"
   ]
  },
  {
   "cell_type": "code",
   "execution_count": 10,
   "id": "9004dd07",
   "metadata": {},
   "outputs": [
    {
     "data": {
      "image/png": "[encoded data removed]",
      "text/plain": [
       "<Figure size 640x480 with 1 Axes>"
      ]
     },
     "metadata": {},
     "output_type": "display_data"
    }
   ],
   "source": [
    "plt.figure()\n",
    "plt.plot(y_test * 100, 100 * (y_pred - y_test), 'o')\n",
    "plt.xlabel(\"Actual Percent Change\")\n",
    "plt.ylabel(\"Residual\")\n",
    "plt.show()"
   ]
  },
  {
   "cell_type": "code",
   "execution_count": 13,
   "id": "0691bdb7",
   "metadata": {},
   "outputs": [
    {
     "data": {
      "image/png": "[encoded data removed]",
      "text/plain": [
       "<Figure size 640x480 with 1 Axes>"
      ]
     },
     "metadata": {},
     "output_type": "display_data"
    }
   ],
   "source": [
    "residual = 100 * (y_pred - y_test)\n",
    "plt.figure()\n",
    "plt.hist(residual, bins=100)\n",
    "plt.ylabel(\"Counts\")\n",
    "plt.xlabel(\"Residual, %\")\n",
    "plt.show()"
   ]
  },
  {
   "cell_type": "code",
   "execution_count": null,
   "id": "388e3da7",
   "metadata": {},
   "outputs": [
    {
     "name": "stdout",
     "output_type": "stream",
     "text": [
      "Train Accuracy: 0.95655546935609\n",
      "Accuracy: 0.7306501547987616\n",
      "Baseline accuracy (most common class): 0.3591331269349845\n"
     ]
    }
   ],
   "source": [
    "from sklearn.preprocessing import LabelEncoder\n",
    "\n",
    "data = pit_changes.copy()\n",
    "\n",
    "y = data['CompoundAfter']\n",
    "le = LabelEncoder()\n",
    "y = le.fit_transform(y)\n",
    "data.drop(columns = [\"Driver\", \"PitLap\", 'AvgLapBefore', 'AvgLapAfter', 'LapTimeGain', 'CompoundAfter'], inplace=True)\n",
    "X = data[[column for column in data.columns if column != \"y\"]]\n",
    "\n",
    "cat_cols = ['CompoundBefore']\n",
    "\n",
    "for col in cat_cols:\n",
    "    X[col] = X[col].astype('category')\n",
    "\n",
    "X_train, X_test, y_train, y_test = train_test_split(X, y, random_state=1, test_size=0.2)\n",
    "\n",
    "clf = XGBClassifier(\n",
    "    objective='multi:softprob', learning_rate=0.3, max_depth=5, subsample=0.5, seed=42, enable_categorical=True, n_estimators=100\n",
    ")\n",
    "clf.fit(X_train, y_train)\n",
    "\n",
    "y_pred = clf.predict(X_test)\n",
    "y_pred_train = clf.predict(X_train)\n",
    "print(\"Train Accuracy:\", np.mean(y_pred_train == y_train))\n",
    "print(\"Accuracy:\", np.mean(y_pred == y_test))\n",
    "\n",
    "most_common = np.bincount(y_test).argmax()\n",
    "baseline_acc = np.mean(y_test == most_common)\n",
    "print(\"Baseline accuracy (most common class):\", baseline_acc)"
   ]
  },
  {
   "cell_type": "code",
   "execution_count": 57,
   "id": "717636ec",
   "metadata": {},
   "outputs": [
    {
     "name": "stdout",
     "output_type": "stream",
     "text": [
      "Index(['CompoundBefore', 'AirTemp', 'Humidity', 'Pressure', 'Rainfall',\n",
      "       'TrackTemp', 'WindDirection', 'WindSpeed'],\n",
      "      dtype='object')\n"
     ]
    }
   ],
   "source": [
    "print(X.columns)"
   ]
  },
  {
   "cell_type": "code",
   "execution_count": 66,
   "id": "e25c1850",
   "metadata": {},
   "outputs": [
    {
     "data": {
      "text/plain": [
       "<Figure size 640x480 with 0 Axes>"
      ]
     },
     "metadata": {},
     "output_type": "display_data"
    },
    {
     "data": {
      "image/png": "[encoded data removed]",
      "text/plain": [
       "<Figure size 640x480 with 2 Axes>"
      ]
     },
     "metadata": {},
     "output_type": "display_data"
    }
   ],
   "source": [
    "from sklearn.metrics import confusion_matrix, ConfusionMatrixDisplay\n",
    "\n",
    "ordered_indices = [list(le.classes_).index(c) for c in order if c in le.classes_]\n",
    "\n",
    "cm = confusion_matrix(y_test, y_pred, labels=ordered_indices)\n",
    "disp = ConfusionMatrixDisplay(confusion_matrix=cm, display_labels=[le.classes_[i] for i in ordered_indices])\n",
    "plt.figure()\n",
    "disp.plot(cmap='Blues', xticks_rotation=45)\n",
    "plt.title(\"Confusion Matrix\")\n",
    "plt.show()"
   ]
  },
  {
   "cell_type": "code",
   "execution_count": 69,
   "id": "d55d9fe0",
   "metadata": {},
   "outputs": [
    {
     "data": {
      "image/png": "[encoded data removed]",
      "text/plain": [
       "<Figure size 600x400 with 1 Axes>"
      ]
     },
     "metadata": {},
     "output_type": "display_data"
    }
   ],
   "source": [
    "importances = clf.feature_importances_\n",
    "features = clf.feature_names_in_\n",
    "\n",
    "plt.figure(figsize=(6, 4))\n",
    "plt.barh(features, importances)\n",
    "plt.xlabel(\"Feature Importance\")\n",
    "plt.title(\"XGBClassifier Feature Importances\")\n",
    "plt.show()"
   ]
  },
  {
   "cell_type": "code",
   "execution_count": 56,
   "id": "1387caaa",
   "metadata": {},
   "outputs": [
    {
     "name": "stdout",
     "output_type": "stream",
     "text": [
      "Train Accuracy: 0.9146625290923196\n",
      "Accuracy: 0.718266253869969\n",
      "Baseline accuracy (most common class): 0.3591331269349845\n"
     ]
    }
   ],
   "source": [
    "from sklearn.ensemble import RandomForestClassifier\n",
    "\n",
    "data = pit_changes.copy()\n",
    "\n",
    "y = data['CompoundAfter']\n",
    "le = LabelEncoder()\n",
    "y = le.fit_transform(y)\n",
    "data.drop(columns = [\"Driver\", \"PitLap\", 'AvgLapBefore', 'AvgLapAfter', 'LapTimeGain', 'CompoundAfter'], inplace=True)\n",
    "X = data[[column for column in data.columns if column != \"y\"]]\n",
    "\n",
    "cat_cols = ['CompoundBefore']\n",
    "\n",
    "for col in cat_cols:\n",
    "    X[col] = le.fit_transform(X[col])\n",
    "\n",
    "X_train, X_test, y_train, y_test = train_test_split(X, y, random_state=1, test_size=0.2)\n",
    "\n",
    "rf_clf = RandomForestClassifier(\n",
    "    n_estimators=5,\n",
    "    max_depth=15,\n",
    "    random_state=42\n",
    ")\n",
    "rf_clf.fit(X_train, y_train)\n",
    "\n",
    "y_pred = rf_clf.predict(X_test)\n",
    "y_pred_train = rf_clf.predict(X_train)\n",
    "print(\"Train Accuracy:\", np.mean(y_pred_train == y_train))\n",
    "print(\"Accuracy:\", np.mean(y_pred == y_test))\n",
    "\n",
    "most_common = np.bincount(y_test).argmax()\n",
    "baseline_acc = np.mean(y_test == most_common)\n",
    "print(\"Baseline accuracy (most common class):\", baseline_acc)"
   ]
  }
 ],
 "metadata": {
  "kernelspec": {
   "display_name": "base",
   "language": "python",
   "name": "python3"
  },
  "language_info": {
   "codemirror_mode": {
    "name": "ipython",
    "version": 3
   },
   "file_extension": ".py",
   "mimetype": "text/x-python",
   "name": "python",
   "nbconvert_exporter": "python",
   "pygments_lexer": "ipython3",
   "version": "3.12.7"
  }
 },
 "nbformat": 4,
 "nbformat_minor": 5
}
