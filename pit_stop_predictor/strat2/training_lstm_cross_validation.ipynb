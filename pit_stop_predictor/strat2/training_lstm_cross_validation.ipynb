{
 "cells": [
  {
   "cell_type": "code",
   "execution_count": 5,
   "metadata": {},
   "outputs": [
    {
     "name": "stdout",
     "output_type": "stream",
     "text": [
      "Using device: mps\n"
     ]
    }
   ],
   "source": [
    "import pandas as pd\n",
    "import numpy as np\n",
    "import torch\n",
    "import torch.nn as nn\n",
    "import torch.optim as optim\n",
    "import matplotlib.pyplot as plt\n",
    "import os\n",
    "from sklearn.model_selection import KFold\n",
    "%matplotlib inline\n",
    "\n",
    "device = torch.device(\"mps\" if torch.backends.mps.is_available() else \"cpu\")\n",
    "print(f\"Using device: {device}\")"
   ]
  },
  {
   "cell_type": "code",
   "execution_count": 6,
   "metadata": {},
   "outputs": [],
   "source": [
    "try:\n",
    "    train_df = pd.read_csv('train_data.csv')\n",
    "    val_df = pd.read_csv('val_data.csv')\n",
    "    test_df = pd.read_csv('test_data.csv')\n",
    "except FileNotFoundError as e:\n",
    "    print(f\"Error: {e}. Ensure 'train_data.csv', 'val_data.csv', and 'test_data.csv' are in {os.getcwd()}\")\n",
    "    raise\n",
    "\n",
    "train_df = train_df.fillna(0)\n",
    "val_df = val_df.fillna(0)\n",
    "test_df = test_df.fillna(0)\n",
    "\n",
    "combined_df = pd.concat([train_df, val_df], ignore_index=True)\n",
    "\n",
    "try:\n",
    "    y_combined = combined_df['RemainingLaps']\n",
    "    X_combined_flat = combined_df.drop('RemainingLaps', axis=1)\n",
    "    y_test = test_df['RemainingLaps']\n",
    "    X_test_flat = test_df.drop('RemainingLaps', axis=1)\n",
    "except KeyError as e:\n",
    "    print(f\"Error: {e}. Ensure 'RemainingLaps' column exists in all CSV files. Columns found in train_data.csv: {train_df.columns.tolist()}\")\n",
    "    raise\n"
   ]
  },
  {
   "cell_type": "code",
   "execution_count": 7,
   "metadata": {},
   "outputs": [],
   "source": [
    "try:\n",
    "    y_combined = combined_df['RemainingLaps']\n",
    "    X_combined_flat = combined_df.drop('RemainingLaps', axis=1)\n",
    "    y_test = test_df['RemainingLaps']\n",
    "    X_test_flat = test_df.drop('RemainingLaps', axis=1)\n",
    "except KeyError as e:\n",
    "    print(f\"Error: {e}. Ensure 'RemainingLaps' column exists in all CSV files. Columns found in train_data.csv: {train_df.columns.tolist()}\")\n",
    "    raise"
   ]
  },
  {
   "cell_type": "code",
   "execution_count": 8,
   "metadata": {},
   "outputs": [],
   "source": [
    "window_size = 2\n",
    "\n",
    "# Calculate number of features per timestep\n",
    "try:\n",
    "    N = X_combined_flat.shape[1] // window_size\n",
    "    assert X_combined_flat.shape[1] % window_size == 0, f\"Number of feature columns ({X_combined_flat.shape[1]}) must be divisible by window_size ({window_size})\"\n",
    "except AssertionError as e:\n",
    "    print(f\"Error: {e}. Check feature columns in CSV files.\")\n",
    "    raise"
   ]
  },
  {
   "cell_type": "code",
   "execution_count": 9,
   "metadata": {},
   "outputs": [],
   "source": [
    "# Reshape flattened features into 3D arrays (samples, timesteps, features)\n",
    "X_combined = X_combined_flat.values.reshape(-1, window_size, N)\n",
    "X_test = X_test_flat.values.reshape(-1, window_size, N)\n",
    "\n",
    "# Convert to PyTorch tensors\n",
    "X_combined = torch.tensor(X_combined, dtype=torch.float32).to(device)\n",
    "y_combined = torch.tensor(y_combined.values, dtype=torch.float32).to(device)\n",
    "X_test = torch.tensor(X_test, dtype=torch.float32).to(device)\n",
    "y_test = torch.tensor(y_test.values, dtype=torch.float32).to(device)\n",
    "\n",
    "# Verify no NaN values\n",
    "assert not torch.isnan(X_combined).any(), \"NaN values detected in X_combined after filling\"\n",
    "assert not torch.isnan(y_combined).any(), \"NaN values detected in y_combined after filling\"\n",
    "assert not torch.isnan(X_test).any(), \"NaN values detected in X_test after filling\"\n",
    "assert not torch.isnan(y_test).any(), \"NaN values detected in y_test after filling\""
   ]
  },
  {
   "cell_type": "code",
   "execution_count": 10,
   "metadata": {},
   "outputs": [],
   "source": [
    "def r2_score(y_true, y_pred):\n",
    "    ss_tot = torch.sum((y_true - torch.mean(y_true)) ** 2)\n",
    "    ss_res = torch.sum((y_true - y_pred) ** 2)\n",
    "    r2 = 1 - ss_res / ss_tot\n",
    "    return r2.item()"
   ]
  },
  {
   "cell_type": "code",
   "execution_count": 11,
   "metadata": {},
   "outputs": [],
   "source": [
    "class TireStintLSTM(nn.Module):\n",
    "    def __init__(self, input_size, hidden_size):\n",
    "        super(TireStintLSTM, self).__init__()\n",
    "        self.lstm1 = nn.LSTM(input_size, hidden_size, batch_first=True)\n",
    "        self.dropout1 = nn.Dropout(0.4)\n",
    "        self.lstm2 = nn.LSTM(hidden_size, hidden_size, batch_first=True)\n",
    "        self.dropout2 = nn.Dropout(0.4)\n",
    "        self.lstm3 = nn.LSTM(hidden_size, hidden_size, batch_first=True)\n",
    "        self.dropout3 = nn.Dropout(0.4)\n",
    "        self.fc = nn.Linear(hidden_size, 1)\n",
    "\n",
    "    def forward(self, x):\n",
    "        out, _ = self.lstm1(x)\n",
    "        out = self.dropout1(out)\n",
    "        out, _ = self.lstm2(out)\n",
    "        out = self.dropout2(out)\n",
    "        out, _ = self.lstm3(out)\n",
    "        out = self.dropout3(out[:, -1, :])\n",
    "        out = self.fc(out)\n",
    "        return out"
   ]
  },
  {
   "cell_type": "code",
   "execution_count": 12,
   "metadata": {},
   "outputs": [],
   "source": [
    "n_splits = 5\n",
    "kf = KFold(n_splits=n_splits, shuffle=True, random_state=42)\n",
    "cv_train_losses = []\n",
    "cv_val_losses = []\n",
    "cv_train_r2_scores = []\n",
    "cv_val_r2_scores = []"
   ]
  },
  {
   "cell_type": "code",
   "execution_count": 13,
   "metadata": {},
   "outputs": [
    {
     "name": "stdout",
     "output_type": "stream",
     "text": [
      "\n",
      "Training Fold 1/5\n",
      "Fold 1, Epoch 1/100, Train Loss: 248.6424, Val Loss: 251.2422, Train R²: -1.5278, Val R²: -1.5391\n",
      "Fold 1, Epoch 11/100, Train Loss: 242.7002, Val Loss: 244.5383, Train R²: -1.4674, Val R²: -1.4713\n",
      "Fold 1, Epoch 21/100, Train Loss: 214.8168, Val Loss: 211.3083, Train R²: -1.1839, Val R²: -1.1355\n",
      "Fold 1, Epoch 31/100, Train Loss: 143.1059, Val Loss: 137.5048, Train R²: -0.4549, Val R²: -0.3896\n",
      "Fold 1, Epoch 41/100, Train Loss: 104.5178, Val Loss: 103.5637, Train R²: -0.0626, Val R²: -0.0466\n",
      "Fold 1, Epoch 51/100, Train Loss: 93.7071, Val Loss: 93.0973, Train R²: 0.0473, Val R²: 0.0592\n",
      "Fold 1, Epoch 61/100, Train Loss: 86.0061, Val Loss: 84.9251, Train R²: 0.1256, Val R²: 0.1417\n",
      "Fold 1, Epoch 71/100, Train Loss: 78.9435, Val Loss: 77.4540, Train R²: 0.1974, Val R²: 0.2173\n",
      "Fold 1, Epoch 81/100, Train Loss: 72.2057, Val Loss: 70.5947, Train R²: 0.2659, Val R²: 0.2866\n",
      "Fold 1, Epoch 91/100, Train Loss: 64.9152, Val Loss: 62.7624, Train R²: 0.3400, Val R²: 0.3657\n",
      "\n",
      "Training Fold 2/5\n",
      "Fold 2, Epoch 1/100, Train Loss: 248.4452, Val Loss: 248.3332, Train R²: -1.5213, Val R²: -1.5273\n",
      "Fold 2, Epoch 11/100, Train Loss: 241.2619, Val Loss: 240.2558, Train R²: -1.4484, Val R²: -1.4451\n",
      "Fold 2, Epoch 21/100, Train Loss: 208.6926, Val Loss: 202.0481, Train R²: -1.1179, Val R²: -1.0563\n",
      "Fold 2, Epoch 31/100, Train Loss: 135.6942, Val Loss: 128.9689, Train R²: -0.3771, Val R²: -0.3125\n",
      "Fold 2, Epoch 41/100, Train Loss: 101.9589, Val Loss: 99.7592, Train R²: -0.0347, Val R²: -0.0153\n",
      "Fold 2, Epoch 51/100, Train Loss: 92.0047, Val Loss: 90.4999, Train R²: 0.0663, Val R²: 0.0790\n",
      "Fold 2, Epoch 61/100, Train Loss: 84.2613, Val Loss: 82.5324, Train R²: 0.1449, Val R²: 0.1601\n",
      "Fold 2, Epoch 71/100, Train Loss: 77.6234, Val Loss: 75.8549, Train R²: 0.2123, Val R²: 0.2280\n",
      "Fold 2, Epoch 81/100, Train Loss: 70.7382, Val Loss: 68.7775, Train R²: 0.2821, Val R²: 0.3000\n",
      "Fold 2, Epoch 91/100, Train Loss: 63.1298, Val Loss: 60.9306, Train R²: 0.3593, Val R²: 0.3799\n",
      "\n",
      "Training Fold 3/5\n",
      "Fold 3, Epoch 1/100, Train Loss: 247.1009, Val Loss: 245.0381, Train R²: -1.5031, Val R²: -1.5119\n",
      "Fold 3, Epoch 11/100, Train Loss: 240.0093, Val Loss: 237.1395, Train R²: -1.4313, Val R²: -1.4310\n",
      "Fold 3, Epoch 21/100, Train Loss: 208.8764, Val Loss: 200.6402, Train R²: -1.1159, Val R²: -1.0568\n",
      "Fold 3, Epoch 31/100, Train Loss: 135.1938, Val Loss: 126.6388, Train R²: -0.3695, Val R²: -0.2982\n",
      "Fold 3, Epoch 41/100, Train Loss: 100.2508, Val Loss: 97.0751, Train R²: -0.0155, Val R²: 0.0049\n",
      "Fold 3, Epoch 51/100, Train Loss: 90.9875, Val Loss: 88.5870, Train R²: 0.0783, Val R²: 0.0919\n",
      "Fold 3, Epoch 61/100, Train Loss: 83.4635, Val Loss: 81.1467, Train R²: 0.1545, Val R²: 0.1681\n",
      "Fold 3, Epoch 71/100, Train Loss: 76.3243, Val Loss: 74.1936, Train R²: 0.2268, Val R²: 0.2394\n",
      "Fold 3, Epoch 81/100, Train Loss: 69.1851, Val Loss: 67.1793, Train R²: 0.2992, Val R²: 0.3113\n",
      "Fold 3, Epoch 91/100, Train Loss: 61.0854, Val Loss: 58.8752, Train R²: 0.3812, Val R²: 0.3965\n",
      "\n",
      "Training Fold 4/5\n",
      "Fold 4, Epoch 1/100, Train Loss: 246.3701, Val Loss: 247.3047, Train R²: -1.5071, Val R²: -1.4896\n",
      "Fold 4, Epoch 11/100, Train Loss: 239.5011, Val Loss: 239.6574, Train R²: -1.4372, Val R²: -1.4126\n",
      "Fold 4, Epoch 21/100, Train Loss: 209.8894, Val Loss: 204.7887, Train R²: -1.1358, Val R²: -1.0616\n",
      "Fold 4, Epoch 31/100, Train Loss: 139.2473, Val Loss: 133.4240, Train R²: -0.4170, Val R²: -0.3432\n",
      "Fold 4, Epoch 41/100, Train Loss: 102.3177, Val Loss: 101.1538, Train R²: -0.0412, Val R²: -0.0183\n",
      "Fold 4, Epoch 51/100, Train Loss: 91.4689, Val Loss: 91.2077, Train R²: 0.0692, Val R²: 0.0818\n",
      "Fold 4, Epoch 61/100, Train Loss: 83.4008, Val Loss: 83.5218, Train R²: 0.1513, Val R²: 0.1592\n",
      "Fold 4, Epoch 71/100, Train Loss: 77.0144, Val Loss: 77.1437, Train R²: 0.2163, Val R²: 0.2234\n",
      "Fold 4, Epoch 81/100, Train Loss: 70.2532, Val Loss: 70.1361, Train R²: 0.2851, Val R²: 0.2939\n",
      "Fold 4, Epoch 91/100, Train Loss: 62.6047, Val Loss: 62.0772, Train R²: 0.3629, Val R²: 0.3751\n",
      "\n",
      "Training Fold 5/5\n",
      "Fold 5, Epoch 1/100, Train Loss: 249.9220, Val Loss: 246.1294, Train R²: -1.5366, Val R²: -1.5038\n",
      "Fold 5, Epoch 11/100, Train Loss: 243.1557, Val Loss: 238.6987, Train R²: -1.4680, Val R²: -1.4282\n",
      "Fold 5, Epoch 21/100, Train Loss: 214.0740, Val Loss: 204.8868, Train R²: -1.1728, Val R²: -1.0843\n",
      "Fold 5, Epoch 31/100, Train Loss: 142.1837, Val Loss: 132.9052, Train R²: -0.4431, Val R²: -0.3520\n",
      "Fold 5, Epoch 41/100, Train Loss: 103.9481, Val Loss: 100.9702, Train R²: -0.0550, Val R²: -0.0271\n",
      "Fold 5, Epoch 51/100, Train Loss: 93.6532, Val Loss: 91.5518, Train R²: 0.0494, Val R²: 0.0687\n",
      "Fold 5, Epoch 61/100, Train Loss: 85.4288, Val Loss: 83.5396, Train R²: 0.1329, Val R²: 0.1502\n",
      "Fold 5, Epoch 71/100, Train Loss: 78.7926, Val Loss: 77.0536, Train R²: 0.2003, Val R²: 0.2162\n",
      "Fold 5, Epoch 81/100, Train Loss: 72.1208, Val Loss: 70.6148, Train R²: 0.2680, Val R²: 0.2817\n",
      "Fold 5, Epoch 91/100, Train Loss: 64.3648, Val Loss: 62.6718, Train R²: 0.3467, Val R²: 0.3625\n"
     ]
    }
   ],
   "source": [
    "for fold, (train_idx, val_idx) in enumerate(kf.split(X_combined)):\n",
    "    print(f\"\\nTraining Fold {fold + 1}/{n_splits}\")\n",
    "    \n",
    "    # Split data into training and validation for this fold\n",
    "    X_train_fold = X_combined[train_idx]\n",
    "    y_train_fold = y_combined[train_idx]\n",
    "    X_val_fold = X_combined[val_idx]\n",
    "    y_val_fold = y_combined[val_idx]\n",
    "    \n",
    "    # Instantiate model\n",
    "    model = TireStintLSTM(input_size=N, hidden_size=128).to(device)\n",
    "    criterion = nn.MSELoss()\n",
    "    optimizer = optim.Adam(model.parameters(), lr=0.001, weight_decay=1e-5)\n",
    "    scheduler = optim.lr_scheduler.ReduceLROnPlateau(optimizer, patience=5, factor=0.5)\n",
    "    \n",
    "    # Training loop\n",
    "    train_losses = []\n",
    "    val_losses = []\n",
    "    train_r2_scores = []\n",
    "    val_r2_scores = []\n",
    "    patience = 5\n",
    "    patience_counter = 0\n",
    "    best_val_loss = float('inf')\n",
    "    best_model_state = None\n",
    "    \n",
    "    for epoch in range(100):\n",
    "        model.train()\n",
    "        optimizer.zero_grad()\n",
    "        outputs = model(X_train_fold)\n",
    "        loss = criterion(outputs.squeeze(), y_train_fold)\n",
    "        loss.backward()\n",
    "        optimizer.step()\n",
    "        train_losses.append(loss.item())\n",
    "        \n",
    "        # Compute training R²\n",
    "        with torch.no_grad():\n",
    "            train_r2 = r2_score(y_train_fold, outputs.squeeze())\n",
    "            train_r2_scores.append(train_r2)\n",
    "        \n",
    "        # Validation\n",
    "        model.eval()\n",
    "        with torch.no_grad():\n",
    "            val_outputs = model(X_val_fold)\n",
    "            val_loss = criterion(val_outputs.squeeze(), y_val_fold)\n",
    "            val_losses.append(val_loss.item())\n",
    "            val_r2 = r2_score(y_val_fold, val_outputs.squeeze())\n",
    "            val_r2_scores.append(val_r2)\n",
    "        \n",
    "        # Update learning rate\n",
    "        scheduler.step(val_loss)\n",
    "        \n",
    "        # Early stopping\n",
    "        if val_loss < best_val_loss:\n",
    "            best_val_loss = val_loss\n",
    "            best_model_state = model.state_dict()\n",
    "            patience_counter = 0\n",
    "        else:\n",
    "            patience_counter += 1\n",
    "            if patience_counter >= patience:\n",
    "                print(f\"Early stopping at epoch {epoch+1}\")\n",
    "                break\n",
    "        \n",
    "        if epoch % 10 == 0:  # Print every 10 epochs to reduce output\n",
    "            print(f\"Fold {fold + 1}, Epoch {epoch+1}/100, Train Loss: {loss.item():.4f}, Val Loss: {val_loss.item():.4f}, Train R²: {train_r2:.4f}, Val R²: {val_r2:.4f}\")\n",
    "    \n",
    "    # Store metrics for this fold\n",
    "    cv_train_losses.append(train_losses[-1])\n",
    "    cv_val_losses.append(val_losses[-1])\n",
    "    cv_train_r2_scores.append(train_r2_scores[-1])\n",
    "    cv_val_r2_scores.append(val_r2_scores[-1])"
   ]
  },
  {
   "cell_type": "code",
   "execution_count": 14,
   "metadata": {},
   "outputs": [
    {
     "name": "stdout",
     "output_type": "stream",
     "text": [
      "\n",
      "Cross-Validation Results:\n",
      "Average Train Loss: 55.1620 ± 1.5119\n",
      "Average Val Loss: 53.1855 ± 1.5816\n",
      "Average Train R²: 0.4399 ± 0.0157\n",
      "Average Val R²: 0.4600 ± 0.0139\n"
     ]
    }
   ],
   "source": [
    "print(\"\\nCross-Validation Results:\")\n",
    "print(f\"Average Train Loss: {np.mean(cv_train_losses):.4f} ± {np.std(cv_train_losses):.4f}\")\n",
    "print(f\"Average Val Loss: {np.mean(cv_val_losses):.4f} ± {np.std(cv_val_losses):.4f}\")\n",
    "print(f\"Average Train R²: {np.mean(cv_train_r2_scores):.4f} ± {np.std(cv_train_r2_scores):.4f}\")\n",
    "print(f\"Average Val R²: {np.mean(cv_val_r2_scores):.4f} ± {np.std(cv_val_r2_scores):.4f}\")\n",
    "\n",
    "## Train Final Model on Full Training Data\n",
    "# Instantiate model\n",
    "model = TireStintLSTM(input_size=N, hidden_size=128).to(device)\n",
    "criterion = nn.MSELoss()\n",
    "optimizer = optim.Adam(model.parameters(), lr=0.001, weight_decay=1e-5)\n",
    "scheduler = optim.lr_scheduler.ReduceLROnPlateau(optimizer, patience=5, factor=0.5)\n"
   ]
  },
  {
   "cell_type": "code",
   "execution_count": 15,
   "metadata": {},
   "outputs": [
    {
     "ename": "NameError",
     "evalue": "name 'X_val' is not defined",
     "output_type": "error",
     "traceback": [
      "\u001b[31m---------------------------------------------------------------------------\u001b[39m",
      "\u001b[31mNameError\u001b[39m                                 Traceback (most recent call last)",
      "\u001b[36mCell\u001b[39m\u001b[36m \u001b[39m\u001b[32mIn[15]\u001b[39m\u001b[32m, line 27\u001b[39m\n\u001b[32m     25\u001b[39m model.eval()\n\u001b[32m     26\u001b[39m \u001b[38;5;28;01mwith\u001b[39;00m torch.no_grad():\n\u001b[32m---> \u001b[39m\u001b[32m27\u001b[39m     val_outputs = model(\u001b[43mX_val\u001b[49m)\n\u001b[32m     28\u001b[39m     val_loss = criterion(val_outputs.squeeze(), y_val)\n\u001b[32m     29\u001b[39m     val_losses.append(val_loss.item())\n",
      "\u001b[31mNameError\u001b[39m: name 'X_val' is not defined"
     ]
    }
   ],
   "source": [
    "train_losses = []\n",
    "val_losses = []\n",
    "train_r2_scores = []\n",
    "val_r2_scores = []\n",
    "patience = 5\n",
    "patience_counter = 0\n",
    "best_val_loss = float('inf')\n",
    "best_model_state = None\n",
    "\n",
    "for epoch in range(100):\n",
    "    model.train()\n",
    "    optimizer.zero_grad()\n",
    "    outputs = model(X_combined)\n",
    "    loss = criterion(outputs.squeeze(), y_combined)\n",
    "    loss.backward()\n",
    "    optimizer.step()\n",
    "    train_losses.append(loss.item())\n",
    "    \n",
    "    # Compute training R²\n",
    "    with torch.no_grad():\n",
    "        train_r2 = r2_score(y_combined, outputs.squeeze())\n",
    "        train_r2_scores.append(train_r2)\n",
    "    \n",
    "    # Validation (using val_data.csv for consistency)\n",
    "    model.eval()\n",
    "    with torch.no_grad():\n",
    "        val_outputs = model(X_val)\n",
    "        val_loss = criterion(val_outputs.squeeze(), y_val)\n",
    "        val_losses.append(val_loss.item())\n",
    "        val_r2 = r2_score(y_val, val_outputs.squeeze())\n",
    "        val_r2_scores.append(val_r2)\n",
    "    \n",
    "    # Update learning rate\n",
    "    scheduler.step(val_loss)\n",
    "    \n",
    "    # Early stopping\n",
    "    if val_loss < best_val_loss:\n",
    "        best_val_loss = val_loss\n",
    "        best_model_state = model.state_dict()\n",
    "        patience_counter = 0\n",
    "    else:\n",
    "        patience_counter += 1\n",
    "        if patience_counter >= patience:\n",
    "            print(f\"Early stopping at epoch {epoch+1} for final model\")\n",
    "            break\n",
    "    \n",
    "    if epoch % 10 == 0:\n",
    "        print(f\"Final Model, Epoch {epoch+1}/100, Train Loss: {loss.item():.4f}, Val Loss: {val_loss.item():.4f}, Train R²: {train_r2:.4f}, Val R²: {val_r2:.4f}\")\n",
    "\n",
    "# Restore best model\n",
    "if best_model_state is not None:\n",
    "    model.load_state_dict(best_model_state)\n",
    "\n",
    "## Evaluation\n",
    "# Evaluate on test set\n",
    "model.eval()\n",
    "with torch.no_grad():\n",
    "    test_outputs = model(X_test)\n",
    "    test_loss = criterion(test_outputs.squeeze(), y_test)\n",
    "    test_r2 = r2_score(y_test, test_outputs.squeeze())\n",
    "print(f\"\\nFinal Model Test Results:\")\n",
    "print(f\"Test Loss (MSE): {test_loss.item():.4f}\")\n",
    "print(f\"Test R²: {test_r2:.4f}\")\n"
   ]
  },
  {
   "cell_type": "code",
   "execution_count": 48,
   "metadata": {},
   "outputs": [
    {
     "data": {
      "image/png": "[encoded data removed]",
      "text/plain": [
       "<Figure size 1200x500 with 2 Axes>"
      ]
     },
     "metadata": {},
     "output_type": "display_data"
    }
   ],
   "source": [
    "# Plot training and validation loss\n",
    "plt.figure(figsize=(12, 5))\n",
    "plt.subplot(1, 2, 1)\n",
    "plt.plot(train_losses, label='Training Loss')\n",
    "plt.plot(val_losses, label='Validation Loss')\n",
    "plt.title('Model Loss Over Epochs')\n",
    "plt.ylabel('Loss')\n",
    "plt.xlabel('Epoch')\n",
    "plt.legend()\n",
    "\n",
    "# Plot training and validation R²\n",
    "plt.subplot(1, 2, 2)\n",
    "plt.plot(train_r2_scores, label='Training R²')\n",
    "plt.plot(val_r2_scores, label='Validation R²')\n",
    "plt.title('Model R² Over Epochs')\n",
    "plt.ylabel('R²')\n",
    "plt.xlabel('Epoch')\n",
    "plt.legend()\n",
    "plt.tight_layout()\n",
    "plt.show()"
   ]
  },
  {
   "cell_type": "code",
   "execution_count": 49,
   "metadata": {},
   "outputs": [
    {
     "name": "stdout",
     "output_type": "stream",
     "text": [
      "Model saved as 'tire_stint_model_pytorch.pth'\n"
     ]
    }
   ],
   "source": [
    "torch.save(model.state_dict(), 'tire_stint_model_pytorch.pth')\n",
    "print(\"Model saved as 'tire_stint_model_pytorch.pth'\")"
   ]
  }
 ],
 "metadata": {
  "kernelspec": {
   "display_name": "cs7641",
   "language": "python",
   "name": "python3"
  },
  "language_info": {
   "codemirror_mode": {
    "name": "ipython",
    "version": 3
   },
   "file_extension": ".py",
   "mimetype": "text/x-python",
   "name": "python",
   "nbconvert_exporter": "python",
   "pygments_lexer": "ipython3",
   "version": "3.12.11"
  }
 },
 "nbformat": 4,
 "nbformat_minor": 2
}
