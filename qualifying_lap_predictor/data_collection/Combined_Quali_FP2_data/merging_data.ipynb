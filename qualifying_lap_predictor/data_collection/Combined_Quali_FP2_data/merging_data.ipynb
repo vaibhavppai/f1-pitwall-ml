{
 "cells": [
  {
   "cell_type": "code",
   "execution_count": null,
   "id": "943a603c",
   "metadata": {},
   "outputs": [],
   "source": [
    "import pandas as pd\n",
    "\n",
    "# Load both datasets\n",
    "quali_df = pd.read_csv(\"qualifying_data_final_without_p_including_sprint.csv\")\n",
    "fp2_df = pd.read_csv(\"fp2_combined_2022_to_2025.csv\")\n",
    "\n",
    "# Merge on Year, Round, and Driver\n",
    "merged_df = pd.merge(\n",
    "    quali_df,\n",
    "    fp2_df,\n",
    "    on=[\"Year\", \"Round\", \"Driver\", \"Team\", \"GrandPrix\"],\n",
    "    how=\"left\"  \n",
    ")\n",
    "\n",
    "# Save the final merged dataset\n",
    "merged_df.to_csv(\"qualifying_with_fp2_features.csv\", index=False)\n"
   ]
  },
  {
   "cell_type": "code",
   "execution_count": null,
   "id": "529bbc69",
   "metadata": {},
   "outputs": [],
   "source": [
    "#Checking the team names being used\n",
    "df = pd.read_csv(\"qualifying_with_fp2_features.csv\")\n",
    "print(df[\"Team\"].unique())"
   ]
  },
  {
   "cell_type": "code",
   "execution_count": null,
   "id": "822484d4",
   "metadata": {},
   "outputs": [],
   "source": [
    "#Standardizing team names\n",
    "df = pd.read_csv(\"qualifying_with_fp2_features.csv\")\n",
    "\n",
    "# Define mapping\n",
    "team_name_map = {\n",
    "    \"AlphaTauri\": \"RB\",\n",
    "    \"Scuderia AlphaTauri\": \"RB\",\n",
    "    \"Toro Rosso\": \"RB\",\n",
    "    \"Racing Bulls\": \"RB\",\n",
    "    \"Alfa Romeo\": \"Kick Sauber\",\n",
    "    \"Sauber\": \"Kick Sauber\",\n",
    "    \"Racing Point\": \"Aston Martin\",\n",
    "    \"Force India\": \"Aston Martin\",\n",
    "    \"Renault\": \"Alpine\",\n",
    "    \"BWT Alpine F1 Team\": \"Alpine\",\n",
    "    \"McLaren F1 Team\": \"McLaren\",\n",
    "    \"Mercedes-AMG Petronas Formula One Team\": \"Mercedes\",\n",
    "    \"Red Bull Racing\": \"Red Bull\",\n",
    "    \"Ferrari\": \"Ferrari\",\n",
    "    \"Williams Racing\": \"Williams\",\n",
    "    \"Haas F1 Team\": \"Haas\"\n",
    "}\n",
    "\n",
    "df[\"Team\"] = df[\"Team\"].replace(team_name_map)\n",
    "\n",
    "print(df[\"Team\"].unique())\n",
    "\n",
    "df.to_csv(\"qualifying_with_fp2_features_standardized_teams.csv\", index=False)"
   ]
  },
  {
   "cell_type": "code",
   "execution_count": null,
   "id": "48c33251",
   "metadata": {},
   "outputs": [],
   "source": []
  }
 ],
 "metadata": {
  "kernelspec": {
   "display_name": ".venv",
   "language": "python",
   "name": "python3"
  },
  "language_info": {
   "codemirror_mode": {
    "name": "ipython",
    "version": 3
   },
   "file_extension": ".py",
   "mimetype": "text/x-python",
   "name": "python",
   "nbconvert_exporter": "python",
   "pygments_lexer": "ipython3",
   "version": "3.13.3"
  }
 },
 "nbformat": 4,
 "nbformat_minor": 5
}
