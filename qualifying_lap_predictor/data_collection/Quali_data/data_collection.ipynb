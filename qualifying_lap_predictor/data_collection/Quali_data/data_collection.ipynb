{
 "cells": [
  {
   "cell_type": "code",
   "execution_count": null,
   "id": "94cb5ce6",
   "metadata": {},
   "outputs": [],
   "source": [
    "import os\n",
    "import fastf1\n",
    "import pandas as pd\n",
    "from tqdm import tqdm\n",
    "\n",
    "# Create cache directory\n",
    "os.makedirs(\"cache\", exist_ok=True)\n",
    "fastf1.Cache.enable_cache(\"cache\")\n"
   ]
  },
  {
   "cell_type": "code",
   "execution_count": null,
   "id": "6573d97b",
   "metadata": {},
   "outputs": [],
   "source": [
    "CIRCUIT_TYPES = {\n",
    "    'Monaco': 'street',\n",
    "    'Baku': 'street',\n",
    "    'Singapore': 'street',\n",
    "    'Miami': 'street',\n",
    "    'Las Vegas': 'street',\n",
    "    'Melbourne': 'street',\n",
    "    'Montreal': 'street',\n",
    "    # Others default to permanent\n",
    "}\n",
    "\n",
    "rounds_by_year = {\n",
    "    2022: list(range(1, 23)),\n",
    "    2023: list(range(1, 23)),\n",
    "    2024: list(range(1, 20)),\n",
    "    2025: list(range(1, 11)) \n",
    "}\n"
   ]
  },
  {
   "cell_type": "code",
   "execution_count": null,
   "id": "3a9a19d3",
   "metadata": {},
   "outputs": [],
   "source": [
    "all_data = []\n",
    "\n",
    "for year in tqdm(rounds_by_year, desc=\"Fetching qualifying sessions\"):\n",
    "    for round_num in rounds_by_year[year]:\n",
    "        try:\n",
    "            session = fastf1.get_session(year, round_num, 'Q')\n",
    "            session.load()\n",
    "\n",
    "            event_info = session.event\n",
    "            circuit_name = event_info['EventName']\n",
    "            circuit_type = CIRCUIT_TYPES.get(circuit_name, 'permanent')\n",
    "            weather = session.weather_data.iloc[0] if not session.weather_data.empty else {}\n",
    "\n",
    "            laps = session.laps\n",
    "            best_laps = laps.groupby('Driver').apply(lambda x: x.pick_fastest()).reset_index(drop=True)\n",
    "\n",
    "            for _, lap in best_laps.iterrows():\n",
    "                all_data.append({\n",
    "                    'Year': year,\n",
    "                    'Round': round_num,\n",
    "                    'GrandPrix': event_info['EventName'],\n",
    "                    'CircuitName': circuit_name,\n",
    "                    'CircuitType': circuit_type,\n",
    "                    'Location': event_info['Location'],\n",
    "                    'Country': event_info['Country'],\n",
    "                    'Driver': lap['Driver'],\n",
    "                    'Team': lap['Team'],\n",
    "                    'LapTime_seconds': lap['LapTime'].total_seconds() if pd.notnull(lap['LapTime']) else None,\n",
    "                    'Sector1Time': lap['Sector1Time'].total_seconds() if pd.notnull(lap['Sector1Time']) else None,\n",
    "                    'Sector2Time': lap['Sector2Time'].total_seconds() if pd.notnull(lap['Sector2Time']) else None,\n",
    "                    'Sector3Time': lap['Sector3Time'].total_seconds() if pd.notnull(lap['Sector3Time']) else None,\n",
    "                    'Tyre': lap['Compound'],\n",
    "                    'TyreLife': lap['TyreLife'],\n",
    "                    'FreshTyre': lap['FreshTyre'],\n",
    "                    'TrackStatus': lap['TrackStatus'],\n",
    "                    'IsAccurate': lap['IsAccurate'],\n",
    "                    'AirTemp': weather.get('AirTemp'),\n",
    "                    'Humidity': weather.get('Humidity'),\n",
    "                    'Pressure': weather.get('Pressure'),\n",
    "                    'Rainfall': weather.get('Rainfall'),\n",
    "                    'WindSpeed': weather.get('WindSpeed'),\n",
    "                    'WindDirection': weather.get('WindDirection'),\n",
    "                })\n",
    "\n",
    "        except Exception as e:\n",
    "            print(f\"Error in {year} Round {round_num}: {e}\")\n"
   ]
  },
  {
   "cell_type": "code",
   "execution_count": null,
   "id": "fe96e53a",
   "metadata": {},
   "outputs": [],
   "source": [
    "df = pd.DataFrame(all_data)\n",
    "df.to_csv(\"qualifying_data_raw.csv\", index=False)\n",
    "df.head()\n"
   ]
  },
  {
   "cell_type": "code",
   "execution_count": null,
   "id": "d73b327d",
   "metadata": {},
   "outputs": [],
   "source": [
    "#Correcting street circuit labels\n",
    "\n",
    "df = pd.read_csv(r\"E:\\GTech\\Courses\\ML\\ML_Project\\My_files\\Midterm_checkpoint\\datasets\\FastF1\\Dataset_with_sprint_races\\f1_qualifying_laps_with_circuit_data_2022_to_2025.csv\")\n",
    "\n",
    "# Map locations or grand prix names to 'street'\n",
    "street_circuits = [\n",
    "    'Monaco', 'Baku', 'Singapore', 'Miami',\n",
    "    'Las Vegas', 'Melbourne', 'Montreal'\n",
    "]\n",
    "\n",
    "df.loc[df['Location'].isin(street_circuits), 'CircuitType'] = 'street'\n",
    "\n",
    "df.to_csv(\"qualifying_data_final_without_p_including_sprint.csv\", index=False)"
   ]
  },
  {
   "cell_type": "code",
   "execution_count": null,
   "id": "9436b6f9",
   "metadata": {},
   "outputs": [],
   "source": []
  }
 ],
 "metadata": {
  "kernelspec": {
   "display_name": ".venv",
   "language": "python",
   "name": "python3"
  },
  "language_info": {
   "codemirror_mode": {
    "name": "ipython",
    "version": 3
   },
   "file_extension": ".py",
   "mimetype": "text/x-python",
   "name": "python",
   "nbconvert_exporter": "python",
   "pygments_lexer": "ipython3",
   "version": "3.13.3"
  }
 },
 "nbformat": 4,
 "nbformat_minor": 5
}
